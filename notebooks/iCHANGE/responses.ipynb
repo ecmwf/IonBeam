{
 "cells": [
  {
   "cell_type": "code",
   "execution_count": 1,
   "id": "0d4704af-9317-4423-9f1e-76d88923a44e",
   "metadata": {},
   "outputs": [],
   "source": [
    "# Allows code to live reload\n",
    "%load_ext autoreload\n",
    "%autoreload 2"
   ]
  },
  {
   "cell_type": "markdown",
   "id": "3e5bac3b-8d69-4574-b277-917788ff7978",
   "metadata": {},
   "source": [
    "## 1. Install\n",
    "```sh\n",
    "# Install prerequisites\n",
    "pip install pyodc\n",
    "\n",
    "```\n",
    "\n",
    "## 2. Make an ECMWF account\n",
    "- Go to ecmwf.int/, click login at the top right and click register to make a new account.\n",
    "- Once logged in, go to api.ecmwf.int/v1/key/ to get your key. \n",
    "- Put it in `~/.ecmwfapirc` as directed."
   ]
  },
  {
   "cell_type": "code",
   "execution_count": 9,
   "id": "b2b19d13-8fda-4f78-bf52-92714cb3d018",
   "metadata": {},
   "outputs": [
    {
     "name": "stdout",
     "output_type": "stream",
     "text": [
      "Checking API credentials\n"
     ]
    },
    {
     "data": {
      "application/json": {
       "code": 200,
       "email": "thomas.hodson@ecmwf.int",
       "first_name": "Thomas",
       "full_name": "Thomas Hodson",
       "last_name": "Hodson",
       "uid": "math"
      },
      "text/plain": [
       "<IPython.core.display.JSON object>"
      ]
     },
     "execution_count": 9,
     "metadata": {
      "application/json": {
       "expanded": false,
       "root": "root"
      }
     },
     "output_type": "execute_result"
    }
   ],
   "source": [
    "# Load in the ECMWF token \n",
    "from pathlib import Path\n",
    "import json\n",
    "import requests\n",
    "from IPython.display import JSON\n",
    "from datetime import datetime as dt\n",
    "from datetime import timedelta, timezone\n",
    "import pandas as pd\n",
    "import numpy as np\n",
    "from matplotlib import pyplot as plt\n",
    "\n",
    "with open(Path(\"~/.ecmwfapirc\").expanduser(), \"r\") as f:\n",
    "    api_creds = json.load(f)\n",
    "\n",
    "print(\"Checking API credentials\")\n",
    "r = requests.get(f\"https://api.ecmwf.int/v1/who-am-i?token={api_creds['key']}\")\n",
    "if r.status_code == 403: print(\"Your credentials are either wrong or need to be renewed at https://api.ecmwf.int/v1/key/\")\n",
    "r.raise_for_status()\n",
    "JSON(r.json())"
   ]
  },
  {
   "cell_type": "code",
   "execution_count": 10,
   "id": "6f8a3a63-89b6-4b57-997a-517a6341bb54",
   "metadata": {},
   "outputs": [],
   "source": [
    "session = requests.Session()\n",
    "session.headers[\"Authorization\"] = f\"Bearer {api_creds['key']}\""
   ]
  },
  {
   "cell_type": "code",
   "execution_count": 11,
   "id": "0fa9bc9a-3415-4dad-a3e6-15ff80dc586f",
   "metadata": {},
   "outputs": [],
   "source": [
    "url = \"https://ionbeam-dev.ecmwf.int/api/v1/\""
   ]
  },
  {
   "cell_type": "markdown",
   "id": "28b1b3e5-8523-4e64-a8ed-f5846bd8e9c0",
   "metadata": {},
   "source": [
    "## Metadata Catalogue\n",
    "\n",
    "These endpoints are served separately from the data, which is served through polytope.\n",
    "\n",
    "The stations endpoint returns an object for each station and track in the database. It contains the requested information.\n",
    "\n",
    "Expected output:\n",
    "```json\n",
    "{\n",
    "    \"external_id\": \"62ab72c11d8e11061d32002a\",\n",
    "    \"platform\": \"meteotracker\",\n",
    "    \"location_point\": \"POINT (8.65711845 44.3934191)\",\n",
    "    \"location_bbox\": \"POLYGON ((8.675219 44.386031, 8.675219 44.4008072, 8.6390179 44.4008072, 8.6390179 44.386031, 8.675219 44.386031))\",\n",
    "    \"location_hull\": \"POLYGON ((8.6391694 44.386031, 8.6391037 44.3860898, 8.6390179 44.3863223, 8.6391489 44.3864548, 8.6393916 44.3866083, 8.6636556 44.3988833, 8.6672147 44.4002499, 8.6676504 44.4003547, 8.6690215 44.4005383, 8.6708526 44.4007344, 8.6736574 44.4008072, 8.6742229 44.4007635, 8.6746885 44.4006371, 8.6750503 44.4005098, 8.675219 44.400353, 8.6750815 44.4002186, 8.6655395 44.3914033, 8.665203 44.3911424, 8.664728 44.3910255, 8.6391694 44.386031))\",\n",
    "    \"start_time\": \"2022-06-16T18:13:15Z\",\n",
    "    \"stop_time\": \"2022-06-16T18:21:09Z\",\n",
    "    \"authors\": [\n",
    "        {\n",
    "            \"name\": \"genova_living_lab_1\",\n",
    "            \"description\": null,\n",
    "            \"url\": null\n",
    "        },\n",
    "        {\n",
    "            \"name\": \"meteotracker\",\n",
    "            \"description\": null,\n",
    "            \"url\": null\n",
    "        }\n",
    "    ],\n",
    "    \"sensors\": [\n",
    "        {\n",
    "            \"name\": \"meteotracker Sensor\",\n",
    "            \"description\": \"A placeholder sensor that is likely composed of multiple physical devices.\",\n",
    "            \"url\": null,\n",
    "            \"properties\": [\n",
    "                {\n",
    "                    \"key\": \"air_pressure_near_surface\",\n",
    "                    \"name\": \"air_pressure_near_surface\",\n",
    "                    \"unit\": \"Pa\",\n",
    "                    \"description\": null,\n",
    "                    \"url\": null\n",
    "                },\n",
    "...\n",
    "```"
   ]
  },
  {
   "cell_type": "code",
   "execution_count": 12,
   "id": "0aede188-2199-4847-9db1-59393d9ebdbd",
   "metadata": {},
   "outputs": [
    {
     "name": "stdout",
     "output_type": "stream",
     "text": [
      "len(stations) = 3853\n"
     ]
    }
   ],
   "source": [
    "stations = session.get(url + \"stations\").json()\n",
    "print(f\"{len(stations) = }\")\n",
    "# print(json.dumps(stations[0], indent = 4))"
   ]
  },
  {
   "cell_type": "markdown",
   "id": "aa330cd9-38b7-41fc-9c43-a9bc5a591c8d",
   "metadata": {},
   "source": [
    "## Requesting all the observed parameters from a station\n",
    "\n",
    "Each station is associated with one or more sensor objects which each measure one or more observed property."
   ]
  },
  {
   "cell_type": "code",
   "execution_count": 13,
   "id": "5ca5c4bb-5fdd-4295-b130-ba6ac915404a",
   "metadata": {},
   "outputs": [
    {
     "name": "stdout",
     "output_type": "stream",
     "text": [
      "{'key': 'track_id', 'name': 'track_id', 'unit': None, 'description': 'A unique identifer for a single recorded track from a mobile sensor.', 'url': None}\n",
      "{'key': 'air_pressure_near_surface', 'name': 'air_pressure_near_surface', 'unit': 'Pa', 'description': None, 'url': None}\n",
      "{'key': 'relative_humidity_near_surface', 'name': 'relative_humidity_near_surface', 'unit': '%', 'description': None, 'url': None}\n",
      "{'key': 'solar_radiation_index', 'name': 'solar_radiation_index', 'unit': '1', 'description': None, 'url': None}\n",
      "{'key': 'vertical_temperature_gradient', 'name': 'vertical_temperature_gradient', 'unit': '°C/100m', 'description': None, 'url': None}\n",
      "{'key': 'air_temperature_near_surface', 'name': 'air_temperature_near_surface', 'unit': 'K', 'description': None, 'url': None}\n",
      "{'key': 'time', 'name': 'time', 'unit': None, 'description': 'The time that the observation was made.', 'url': None}\n",
      "{'key': 'offset_tz', 'name': 'offset_tz', 'unit': None, 'description': 'Uncertain what this means in the Meteotracker data.', 'url': None}\n",
      "{'key': 'author', 'name': 'author', 'unit': None, 'description': 'The author field from the Meteotracker data', 'url': None}\n",
      "{'key': 'lat', 'name': 'lat', 'unit': '°', 'description': 'The lattitude of the observation, referenced to WGS84 (EPSG: 4326)', 'url': None}\n",
      "{'key': 'dew_point_temperature', 'name': 'dew_point_temperature', 'unit': 'K', 'description': None, 'url': None}\n",
      "{'key': 'lon', 'name': 'lon', 'unit': '°', 'description': 'The longitude of the observation, referenced to WGS84 (EPSG: 4326)', 'url': None}\n",
      "{'key': 'humidity_index', 'name': 'humidity_index', 'unit': 'K', 'description': None, 'url': None}\n",
      "{'key': 'altitude', 'name': 'altitude', 'unit': 'm', 'description': 'The altitude of the observation, referenced to WGS84 (EPSG: 4326)', 'url': None}\n"
     ]
    }
   ],
   "source": [
    "from datetime import datetime\n",
    "\n",
    "# Obtain a station of interest\n",
    "station = stations[-1]\n",
    "\n",
    "for sensor in station[\"sensors\"]:\n",
    "    for property in sensor[\"properties\"]:\n",
    "        print(property)"
   ]
  },
  {
   "cell_type": "markdown",
   "id": "d2cbba8a-69fb-4322-b3b6-5e74e37ea7fc",
   "metadata": {},
   "source": [
    "## Retrieving data\n",
    "\n",
    "To get data we need to construct a **MARS request** for the data and submit it via **polytope**. \n",
    "\n",
    "In this case the three pieces of information we need are: `platform`, `observation_variable` and a one hour time window of interest referred to by an ISO 8601 `datetime`. The data returned will correspond to the one hour window that the supplied datetime falls into if one is supplied.\n",
    "\n",
    "The `format` keyword may be added to specify the return type as either \"csv\", \"json\" or \"odb\".\n",
    "\n",
    "The `filter` keyword takes as an argument an sql query that must be directed at a table called \"result\". We use it here to return only rows that correspond to the station of interest.\n",
    "\n",
    "### Setup the python frontend for the Polytope REST API"
   ]
  },
  {
   "cell_type": "code",
   "execution_count": 14,
   "id": "6e77ef20-26ac-4f3d-9109-86b26be220a2",
   "metadata": {},
   "outputs": [],
   "source": [
    "# Polytope can also be used as a pure REST API, instructions here: https://polytope-client.readthedocs.io/en/latest/client/rest_api.html\n",
    "from polytope.api import Client\n",
    "import pandas as pd\n",
    "from io import BytesIO\n",
    "\n",
    "polytope_client = Client(address='polytope-test.ecmwf.int', \n",
    "                verbose=False, insecure=False, \n",
    "                user_email = api_creds[\"email\"], \n",
    "                user_key = api_creds[\"key\"])"
   ]
  },
  {
   "cell_type": "markdown",
   "id": "20c7a37c-3c1b-4b1c-bfd0-2ec8a0a51012",
   "metadata": {},
   "source": [
    "### Obtain a single data granule in its entirety"
   ]
  },
  {
   "cell_type": "code",
   "execution_count": 8,
   "id": "cc65ed45-d04b-40f1-b082-cdb3cfb971cc",
   "metadata": {},
   "outputs": [
    {
     "ename": "NameError",
     "evalue": "name 'dt' is not defined",
     "output_type": "error",
     "traceback": [
      "\u001b[0;31m---------------------------------------------------------------------------\u001b[0m",
      "\u001b[0;31mNameError\u001b[0m                                 Traceback (most recent call last)",
      "Cell \u001b[0;32mIn[8], line 4\u001b[0m\n\u001b[1;32m      1\u001b[0m \u001b[38;5;66;03m# Obtain a particular station by id\u001b[39;00m\n\u001b[0;32m----> 4\u001b[0m station \u001b[38;5;241m=\u001b[39m \u001b[38;5;28;43mmax\u001b[39;49m\u001b[43m(\u001b[49m\u001b[43mstations\u001b[49m\u001b[43m,\u001b[49m\u001b[43m \u001b[49m\u001b[43mkey\u001b[49m\u001b[43m \u001b[49m\u001b[38;5;241;43m=\u001b[39;49m\u001b[43m \u001b[49m\u001b[38;5;28;43;01mlambda\u001b[39;49;00m\u001b[43m \u001b[49m\u001b[43ms\u001b[49m\u001b[43m \u001b[49m\u001b[43m:\u001b[49m\u001b[43m \u001b[49m\u001b[43mdt\u001b[49m\u001b[38;5;241;43m.\u001b[39;49m\u001b[43mfromisoformat\u001b[49m\u001b[43m(\u001b[49m\u001b[43ms\u001b[49m\u001b[43m[\u001b[49m\u001b[38;5;124;43m\"\u001b[39;49m\u001b[38;5;124;43mstop_time\u001b[39;49m\u001b[38;5;124;43m\"\u001b[39;49m\u001b[43m]\u001b[49m\u001b[43m)\u001b[49m\u001b[43m)\u001b[49m\n\u001b[1;32m      6\u001b[0m source_id \u001b[38;5;241m=\u001b[39m station[\u001b[38;5;124m\"\u001b[39m\u001b[38;5;124mexternal_id\u001b[39m\u001b[38;5;124m\"\u001b[39m]\n\u001b[1;32m      7\u001b[0m platform \u001b[38;5;241m=\u001b[39m station[\u001b[38;5;124m\"\u001b[39m\u001b[38;5;124mplatform\u001b[39m\u001b[38;5;124m\"\u001b[39m]\n",
      "Cell \u001b[0;32mIn[8], line 4\u001b[0m, in \u001b[0;36m<lambda>\u001b[0;34m(s)\u001b[0m\n\u001b[1;32m      1\u001b[0m \u001b[38;5;66;03m# Obtain a particular station by id\u001b[39;00m\n\u001b[0;32m----> 4\u001b[0m station \u001b[38;5;241m=\u001b[39m \u001b[38;5;28mmax\u001b[39m(stations, key \u001b[38;5;241m=\u001b[39m \u001b[38;5;28;01mlambda\u001b[39;00m s : \u001b[43mdt\u001b[49m\u001b[38;5;241m.\u001b[39mfromisoformat(s[\u001b[38;5;124m\"\u001b[39m\u001b[38;5;124mstop_time\u001b[39m\u001b[38;5;124m\"\u001b[39m]))\n\u001b[1;32m      6\u001b[0m source_id \u001b[38;5;241m=\u001b[39m station[\u001b[38;5;124m\"\u001b[39m\u001b[38;5;124mexternal_id\u001b[39m\u001b[38;5;124m\"\u001b[39m]\n\u001b[1;32m      7\u001b[0m platform \u001b[38;5;241m=\u001b[39m station[\u001b[38;5;124m\"\u001b[39m\u001b[38;5;124mplatform\u001b[39m\u001b[38;5;124m\"\u001b[39m]\n",
      "\u001b[0;31mNameError\u001b[0m: name 'dt' is not defined"
     ]
    }
   ],
   "source": [
    "# Obtain a particular station by id\n",
    "\n",
    "\n",
    "station = max(stations, key = lambda s : dt.fromisoformat(s[\"stop_time\"]))\n",
    "\n",
    "source_id = station[\"external_id\"]\n",
    "platform = station[\"platform\"]\n",
    "parameter = \"air_temperature_near_surface\"\n",
    "\n",
    "start_time = datetime.fromisoformat(station[\"start_time\"])\n",
    "stop_time = datetime.fromisoformat(station[\"stop_time\"])\n",
    "timespan = stop_time - start_time\n",
    "\n",
    "print(f\"\"\"\n",
    "{source_id = }\n",
    "{platform = }\n",
    "{parameter = }\n",
    "{start_time = }\n",
    "{stop_time = }\n",
    "{timespan = }\n",
    "\"\"\")\n",
    "\n",
    "mars_request = {\n",
    "    'project' : 'public',\n",
    "    'platform' : 'meteotracker',\n",
    "    'variable' : parameter,\n",
    "    'datetime' : start_time,\n",
    "    'format' : 'csv' # json, csv or odb\n",
    "}\n",
    "\n",
    "data = polytope_client.retrieve('iot', mars_request)\n",
    "print(f\"{len(data) = }\")\n",
    "df = pd.read_csv(BytesIO(data[0]))\n",
    "\n",
    "for column in df.columns:\n",
    "    if df[column].nunique() < 10: print(f\"{column} unique entries: {df[column].unique()}\")\n",
    "\n",
    "df"
   ]
  },
  {
   "cell_type": "code",
   "execution_count": null,
   "id": "d2b286d6-e6fb-4579-819b-e40001f800c5",
   "metadata": {},
   "outputs": [],
   "source": [
    "geo_df = gpd.GeoDataFrame(df, geometry=gpd.points_from_xy(df.lon, df.lat), crs=4326)\n",
    "\n",
    "geo_df.explore(column = \"altitude\")"
   ]
  },
  {
   "cell_type": "markdown",
   "id": "10831add-47da-4736-a612-7b62bdc46d7c",
   "metadata": {},
   "source": [
    "## Filtering data granules with SQL queries"
   ]
  },
  {
   "cell_type": "code",
   "execution_count": null,
   "id": "00e8c048-0073-4174-be3f-c8c7d5ca8b11",
   "metadata": {
    "scrolled": true
   },
   "outputs": [],
   "source": [
    "mars_request = {\n",
    "    \"project\" : \"public\", # This key will be used for access control and will change to 'ichange' in future versions\n",
    "    \"platform\" : platform,\n",
    "    \"observation_variable\" : parameter,\n",
    "    \"datetime\": start_time.isoformat(),\n",
    "    \"filter\" : f\"select * from result where source_id = '{source_id}';\",\n",
    "    \"format\" : \"csv\",\n",
    "}\n",
    "\n",
    "print(mars_request)\n",
    "\n",
    "\n",
    "data = polytope_client.retrieve('iot', mars_request)\n",
    "print(f\"{len(data) = }\")\n",
    "\n",
    "df = pd.read_csv(BytesIO(data[0]))\n",
    "# assert(list(df[\"source_id\"].unique()) == [source_id,])\n",
    "\n",
    "df"
   ]
  },
  {
   "cell_type": "code",
   "execution_count": null,
   "id": "06519ffb-9b55-44b9-95d4-3ce70b4f8a57",
   "metadata": {},
   "outputs": [],
   "source": [
    "mars_request = {\n",
    "    \"project\" : \"public\",\n",
    "    \"platform\" : platform,\n",
    "    \"observation_variable\" : parameter,\n",
    "    \"datetime\": start_time.isoformat(),\n",
    "    \"filter\" : f\"select * from result where source_name like 'genova_living_lab%';\",\n",
    "    \"format\" : \"csv\",\n",
    "}\n",
    "\n",
    "data = polytope_client.retrieve('iot', mars_request)\n",
    "print(f\"{len(data) = }\")\n",
    "\n",
    "df = pd.read_csv(BytesIO(data[0]))\n",
    "df"
   ]
  },
  {
   "cell_type": "markdown",
   "id": "3a95b4f3-d17e-4be8-8046-f37fbc8b8ec2",
   "metadata": {},
   "source": [
    "## Direct REST API\n"
   ]
  },
  {
   "cell_type": "code",
   "execution_count": null,
   "id": "fa5a3a0f-42e3-4fd9-9194-52f050bb9bd1",
   "metadata": {},
   "outputs": [],
   "source": [
    "mars_request = {\n",
    "    \"project\" : \"public\", # This key will be used for access control and will change to 'ichange' in future versions\n",
    "    \"platform\" : platform,\n",
    "    \"observation_variable\" : 'air_temperature_near_surface',\n",
    "    \"datetime\": start_time.isoformat(),\n",
    "    \"filter\" : f\"select * from result where source_id = '{source_id}';\",\n",
    "    \"format\" : \"csv\",\n",
    "}\n",
    "\n",
    "list_resp = session.get(url + \"list\", params = mars_request)\n",
    "list_resp.json()"
   ]
  },
  {
   "cell_type": "code",
   "execution_count": null,
   "id": "1f5bb151-994d-4a23-92e7-ae6e7ecfafcb",
   "metadata": {},
   "outputs": [],
   "source": [
    "data = session.get(url + \"retrieve\", params = mars_request)"
   ]
  },
  {
   "cell_type": "code",
   "execution_count": null,
   "id": "d4a8999a-12b1-4386-aa74-7bd722df9cd2",
   "metadata": {},
   "outputs": [],
   "source": [
    "data.content"
   ]
  },
  {
   "cell_type": "code",
   "execution_count": null,
   "id": "c0d8cb3f-e575-44e9-a937-639d3869e4b5",
   "metadata": {},
   "outputs": [],
   "source": []
  },
  {
   "cell_type": "code",
   "execution_count": null,
   "id": "80e1ca50-94cc-4659-af8d-9496c558ff58",
   "metadata": {},
   "outputs": [],
   "source": []
  }
 ],
 "metadata": {
  "kernelspec": {
   "display_name": "Python [conda env:micromamba-ionbeam]",
   "language": "python",
   "name": "conda-env-micromamba-ionbeam-py"
  },
  "language_info": {
   "codemirror_mode": {
    "name": "ipython",
    "version": 3
   },
   "file_extension": ".py",
   "mimetype": "text/x-python",
   "name": "python",
   "nbconvert_exporter": "python",
   "pygments_lexer": "ipython3",
   "version": "3.11.0"
  }
 },
 "nbformat": 4,
 "nbformat_minor": 5
}
