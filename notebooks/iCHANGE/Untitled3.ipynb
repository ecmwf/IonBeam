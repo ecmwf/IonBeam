{
 "cells": [
  {
   "cell_type": "markdown",
   "id": "1c25d06a-cbea-42b9-8c35-58a3dc272d83",
   "metadata": {},
   "source": [
    "I've been trying to prove this theorem from these notes for a few days and I finally figured it out so I thought I'd share.\n",
    "\n",
    "## Line Element\n",
    "\n",
    "So the setup is this: Imagine we draw a very short line vector $\\vec{v}$ and let it flow along in a fluid with velocity field $u(\\vec{x}, t)$. Three things will happen, the vector will be translated along, it will possible change length and it will possibly change direction. If we ignoree the translation, we can ask what the equation would be for the change in length and direction of $\\vec{v}$. I'll drop the vector symbold on $v$, $u$ and $x$ from now on.\n",
    "\n",
    "\\\\[ D_t \\; v = ? \\\\]\n",
    "\n",
    "If we assume $v$ is very small we can thin about expanding $u$ to first order along $v$\n",
    "\n",
    "\\\\[ u(x + v, t) = u(x, t) + v \\cdot \\nabla u \\\\]\n",
    "\n",
    "where $v \\cdot \\nabla$ is the directional derivative $v_x \\partial_x + v_y \\partial_y + v_y \\partial_y$ and when $v$ is infinitesimal it just directly tells us how $u$ will change if we move from point $x$ to point $x + v$.\n",
    "\n",
    "So from this we can see that one end of our vector $v$ is moving along at $u(x, t)$ while the other end will move at $u(x, t) + v \\cdot \\nabla u$ hence:\n",
    "\n",
    "\\\\[ D_t \\; v = v \\cdot \\nabla u \\\\]"
   ]
  },
  {
   "cell_type": "markdown",
   "id": "0fd2c96a-3fc6-4176-81b4-80daaa233df5",
   "metadata": {},
   "source": [
    "## Surface Element\n",
    "\n",
    "Now the natural next thing you might ask is how will a little surface element will be stretched and rotated as it moves along in the fluid? It's natural to represent the infinitesumal surface element spanned by two small vectors $v^1$ and $v^2$ with the normal vector $S$ whose length is related to the area of the quadrilateral spanned by $v^1$ and $v^2$.\n",
    "\n",
    "And probably I call it 'nartural' because it's easy to compute it with the cross product:\n",
    "\n",
    "\\\\[ S = v^1 \\times v^2 \\\\]\n",
    "\n",
    "Now, how does this change over time? Slightly surprisingly to me, you can write down a differential equation purely in terms of $S$ and not $x^1$ or $x^2$.\n",
    "\n",
    "\\\\[ D_t \\; S = (\\nabla \\cdot u) s - \\nabla u \\cdot s\\\\]\n",
    "\n",
    "The proof of this is left as an exercise to the reader in the lecture notes and trying to figure it out has bugged me for the last few days. Spoilers ahead if you'd like to try yourself.\n",
    "\n",
    "Ok first let's apply chain rule (after first squiting at the index definition of the cross product to make sure chain rule still works, never trust vectors).\n",
    "\n",
    "\\\\[ D_t \\; S = (D_t \\; v^1) \\times v^2 + v^1 \\times (D_t \\; v^2) \\\\]\n",
    "And I'll reorder the second term because I want to align indices and pull some stuff out.\n",
    "\\\\[ D_t \\; S = (D_t \\; v^1) \\times v^2 - (D_t \\; v^2) \\times v^1 \\\\]\n",
    "using our equation for the derivative of $v$ from the last bit:\n",
    "\n",
    "\\\\[ D_t \\; S = (v^1 \\cdot \\nabla u) \\times v^2 - (v^2 \\cdot \\nabla u) \\times v^1 \\\\]"
   ]
  },
  {
   "cell_type": "markdown",
   "id": "f1a57941-95b7-4754-b9c7-791c6eb9f0b3",
   "metadata": {},
   "source": [
    "Now to convert this to index notation let's go bit by bit:\n",
    "\\\\[ [v\\cdot \\nabla u]_i = v_k \\partial_k u_i\\\\]\n",
    "\n",
    "then using $[a \\times b]_i = \\epsilon_{ijk} a_j b_k$:\n",
    "\n",
    "\\\\[ [(v^1 \\cdot \\nabla u) \\times v^2 ]_i = v^1_l \\partial_l \\; u_j \\; \\epsilon_{ijk} v^2_k \\\\]\n",
    "\\\\[ [(v^2 \\cdot \\nabla u) \\times v^1 ]_i = v^2_l \\partial_l \\; u_j \\; \\epsilon_{ijk} v^1_k \\\\]\n",
    "\n",
    "Putting these together we can pull out the $\\epsilon$, $\\partial$ and $u$ terms. We can move $\\partial$ about liberally as long as we remember it is always acting on $u$ and nothing else. "
   ]
  },
  {
   "cell_type": "markdown",
   "id": "7ca29621-8ec5-4524-9d9e-e17c1d777cb1",
   "metadata": {},
   "source": [
    "\\\\[ D_t S_i = \\epsilon_{ijk} \\partial_l u_j \\; (v^1_l v^2_k - v^1_k v^2_l) \\\\]\n",
    "\n",
    "Now this is where I got stuck for ages, We know the answer should have a $v^1 \\times v^2$ term in it but looking at this all the indices seem to be connect up wrong!! I tried various things, manage to `prove` it in the case that $v^1 = (1,0,0)$ and $v^1 = (0,1,0)$ etc but was left scratching my head for the more general proof. \n",
    "\n",
    "*Then I saw it*, there's this identity about products of levi-civita symbols\n",
    "\\\\[ \\epsilon_{iab} \\epsilon_{inm} = \\delta_{an}\\delta_{bm} - \\delta_{am}\\delta_{bn}\\\\]\n",
    "I've only used this this to turn two levi-civita symbols into something simpler. But that right hand side actually looks suspiciously like the term\n",
    "\\\\[ (v^1_l v^2_k - v^1_k v^2_l) \\\\]\n",
    "\n",
    "What if we use the identity in reverse??????? I sometimes think of $\\delta_{ij}$ as the \"rename i->j or j->i\" operator because in the presence of einstein summation that's kinda what it does. Using that idea:\n",
    " \n",
    "\\\\[ (v^1_l v^2_k - v^1_k v^2_l) = v^1_\\alpha v^2_\\beta (\\delta_{\\alpha l}\\delta_{\\beta k} - \\delta_{\\alpha k}\\delta_{\\beta l})\\\\]\n",
    "\n",
    "This seems good, we've managed to disconnect $v^1$ and $v^2$ a bit. Now applying the identity in reverse we get:\n",
    "\\\\[ v^1_\\alpha v^2_\\beta \\epsilon_{m\\alpha\\beta} \\epsilon_{mlk}\\\\]\n",
    "\n",
    "Omg this is amazing because\n",
    "\\\\[ v^1_\\alpha v^2_\\beta \\epsilon_{m\\alpha\\beta} = [v^1 \\times v^2]_m = S_m\\\\]"
   ]
  },
  {
   "cell_type": "markdown",
   "id": "7738e919-d328-4658-8c9a-69f38d323dd5",
   "metadata": {},
   "source": [
    "giving us\n",
    "\n",
    "\\\\[ D_t S_i = \\epsilon_{ijk} \\partial_l u_j  \\; \\epsilon_{mlk} S_m \\\\]\n",
    "\n",
    "applying the identity again in the normal direction this time:\n",
    "\n",
    "\\\\[ D_t S_i =  \\partial_l u_j  \\; S_m (\\delta_{im}\\delta_{jl} - \\delta_{il}\\delta_{jm})\\\\]"
   ]
  },
  {
   "cell_type": "markdown",
   "id": "051213c7-42bc-4e35-974c-24931ffda045",
   "metadata": {},
   "source": [
    "and finally performing the renaming:\n",
    "\\\\[ D_t S_i =  \\partial_j u_j S_i - \\partial_i u_j S_j\\\\]\n",
    "\n",
    "gives us what we want!\n",
    "\\\\[ D_t S =  (\\nabla \\cdot u) \\; S - (\\nabla u) \\cdot S\\\\]"
   ]
  },
  {
   "cell_type": "markdown",
   "id": "5aae3cd3-40e2-4f2c-bf44-5457e022b0d3",
   "metadata": {},
   "source": [
    "then using $ [a \\times b]_i = \\epsilon_{ijk} a_j b_k $:\n",
    "\n",
    "\\\\[ [(v^1 \\cdot \\nabla u) \\times v^2 ]_i = v^1_l \\partial_l \\; u_j \\; \\epsilon_{ijk} v^2_k \\\\]\n",
    "\\\\[ [(v^2 \\cdot \\nabla u) \\times v^1 ]_i = v^2_l \\partial_l \\; u_j \\; \\epsilon_{ijk} v^1_k \\\\]"
   ]
  }
 ],
 "metadata": {
  "kernelspec": {
   "display_name": "Python 3 (ipykernel)",
   "language": "python",
   "name": "python3"
  },
  "language_info": {
   "codemirror_mode": {
    "name": "ipython",
    "version": 3
   },
   "file_extension": ".py",
   "mimetype": "text/x-python",
   "name": "python",
   "nbconvert_exporter": "python",
   "pygments_lexer": "ipython3",
   "version": "3.11.4"
  }
 },
 "nbformat": 4,
 "nbformat_minor": 5
}
