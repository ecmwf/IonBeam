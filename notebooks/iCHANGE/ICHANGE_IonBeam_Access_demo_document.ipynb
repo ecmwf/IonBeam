{
 "cells": [
  {
   "cell_type": "code",
   "execution_count": 1,
   "id": "0d4704af-9317-4423-9f1e-76d88923a44e",
   "metadata": {},
   "outputs": [],
   "source": [
    "# Allows code to live reload\n",
    "%load_ext autoreload\n",
    "%autoreload 2"
   ]
  },
  {
   "cell_type": "markdown",
   "id": "3e5bac3b-8d69-4574-b277-917788ff7978",
   "metadata": {},
   "source": [
    "## 1. Install\n",
    "```sh\n",
    "# Install prerequisites\n",
    "pip install pyodc\n",
    "\n",
    "```\n",
    "\n",
    "## 2. Make an ECMWF account\n",
    "- Go to ecmwf.int/, click login at the top right and click register to make a new account.\n",
    "- Once logged in, go to api.ecmwf.int/v1/key/ to get your key. \n",
    "- Put it in `~/.ecmwfapirc` as directed."
   ]
  },
  {
   "cell_type": "code",
   "execution_count": 2,
   "id": "b2b19d13-8fda-4f78-bf52-92714cb3d018",
   "metadata": {},
   "outputs": [
    {
     "name": "stdout",
     "output_type": "stream",
     "text": [
      "Checking API credentials\n"
     ]
    },
    {
     "data": {
      "application/json": {
       "code": 200,
       "email": "thomas.hodson@ecmwf.int",
       "first_name": "Thomas",
       "full_name": "Thomas Hodson",
       "last_name": "Hodson",
       "uid": "math"
      },
      "text/plain": [
       "<IPython.core.display.JSON object>"
      ]
     },
     "execution_count": 2,
     "metadata": {
      "application/json": {
       "expanded": false,
       "root": "root"
      }
     },
     "output_type": "execute_result"
    }
   ],
   "source": [
    "# Load in the ECMWF token \n",
    "from pathlib import Path\n",
    "import json\n",
    "import requests\n",
    "from IPython.display import JSON, display\n",
    "from datetime import datetime as dt\n",
    "from datetime import timedelta, timezone\n",
    "import pandas as pd\n",
    "import numpy as np\n",
    "from matplotlib import pyplot as plt\n",
    "\n",
    "with open(Path(\"~/.ecmwfapirc\").expanduser(), \"r\") as f:\n",
    "    api_creds = json.load(f)\n",
    "\n",
    "print(\"Checking API credentials\")\n",
    "r = requests.get(f\"https://api.ecmwf.int/v1/who-am-i?token={api_creds['key']}\")\n",
    "if r.status_code == 403: print(\"Your credentials are either wrong or need to be renewed at https://api.ecmwf.int/v1/key/\")\n",
    "r.raise_for_status()\n",
    "JSON(r.json())"
   ]
  },
  {
   "cell_type": "code",
   "execution_count": 3,
   "id": "6f8a3a63-89b6-4b57-997a-517a6341bb54",
   "metadata": {},
   "outputs": [],
   "source": [
    "session = requests.Session()\n",
    "session.headers[\"Authorization\"] = f\"Bearer {api_creds['key']}\""
   ]
  },
  {
   "cell_type": "markdown",
   "id": "6dbace9e-7edc-4f5a-b534-db82cc024aba",
   "metadata": {},
   "source": [
    "# API Endpoint\n",
    "\n",
    "Documentation http://ionbeam-ichange.ecmwf-ichange.f.ewcloud.host/docs"
   ]
  },
  {
   "cell_type": "code",
   "execution_count": 4,
   "id": "0fa9bc9a-3415-4dad-a3e6-15ff80dc586f",
   "metadata": {},
   "outputs": [],
   "source": [
    "# url = \"http://ionbeam-ichange.ecmwf-ichange.f.ewcloud.host/api/v1/\"\n",
    "url = \"http://localhost:5002/api/v1/\""
   ]
  },
  {
   "cell_type": "markdown",
   "id": "83d64a72-fc08-4a5b-a5dd-ce43f0e37ded",
   "metadata": {},
   "source": [
    "### Get all stations"
   ]
  },
  {
   "cell_type": "code",
   "execution_count": 5,
   "id": "8b049f92-23c8-4911-9cbf-4fe1ea4b2d64",
   "metadata": {},
   "outputs": [
    {
     "name": "stdout",
     "output_type": "stream",
     "text": [
      "len(stations) = 3\n",
      "CPU times: user 3 ms, sys: 1.35 ms, total: 4.35 ms\n",
      "Wall time: 207 ms\n"
     ]
    }
   ],
   "source": [
    "%%time\n",
    "from datetime import datetime\n",
    "\n",
    "stations = session.get(url + \"stations\").json()\n",
    "print(f\"{len(stations) = }\")"
   ]
  },
  {
   "cell_type": "code",
   "execution_count": 6,
   "id": "bc5850bc-79ff-46b3-8e8d-afbd431ffb0c",
   "metadata": {},
   "outputs": [
    {
     "data": {
      "text/plain": [
       "{'name': 'Sede Comunale Moconesi',\n",
       " 'description': 'An Acronet station',\n",
       " 'platform': 'acronet',\n",
       " 'external_id': 'sede_comunale_moconesi',\n",
       " 'internal_id': '636e5a409d8ca7d7',\n",
       " 'location': {'lat': 44.41948, 'lon': 9.212386},\n",
       " 'time_span': {'start': '2025-01-06T11:39:00Z', 'end': '2025-01-06T11:44:00Z'},\n",
       " 'authors': [{'name': 'acronet'}],\n",
       " 'mars_request': {'class': 'rd',\n",
       "  'expver': 'xxxx',\n",
       "  'stream': 'lwda',\n",
       "  'aggregation_type': 'chunked',\n",
       "  'date': '20250106',\n",
       "  'platform': 'acronet',\n",
       "  'internal_id': '636e5a409d8ca7d7'}}"
      ]
     },
     "execution_count": 6,
     "metadata": {},
     "output_type": "execute_result"
    }
   ],
   "source": [
    "stations[0]"
   ]
  },
  {
   "cell_type": "markdown",
   "id": "da5d5d83-8121-42d8-9c84-58d2e5274a5f",
   "metadata": {},
   "source": [
    "### Get stations with recent data"
   ]
  },
  {
   "cell_type": "code",
   "execution_count": 7,
   "id": "d45aa456-2249-486f-8e0c-666c683ff6cc",
   "metadata": {},
   "outputs": [
    {
     "name": "stdout",
     "output_type": "stream",
     "text": [
      "data ingested in last hour: len(recent_stations) = 3\n",
      "CPU times: user 1.18 ms, sys: 804 μs, total: 1.99 ms\n",
      "Wall time: 12.9 ms\n"
     ]
    }
   ],
   "source": [
    "%%time\n",
    "from datetime import datetime, timedelta, UTC\n",
    "\n",
    "recent_stations = session.get(url + \"stations\", params = {\n",
    "    \"start_time\" : datetime.now(UTC) - timedelta(hours = 3) \n",
    "}).json()\n",
    "print(f\"data ingested in last hour: {len(recent_stations) = }\")"
   ]
  },
  {
   "cell_type": "code",
   "execution_count": 8,
   "id": "f2c3feda-a862-4dc0-bfd5-2788eb69de95",
   "metadata": {},
   "outputs": [
    {
     "name": "stdout",
     "output_type": "stream",
     "text": [
      "len(granules) = 20\n"
     ]
    }
   ],
   "source": [
    "granules = session.get(url + \"list\").json()\n",
    "print(f\"{len(granules) = }\")"
   ]
  },
  {
   "cell_type": "code",
   "execution_count": 9,
   "id": "ecd92abd-4176-41b1-83ea-65224334150c",
   "metadata": {},
   "outputs": [
    {
     "data": {
      "text/plain": [
       "Counter({'acronet': 3})"
      ]
     },
     "execution_count": 9,
     "metadata": {},
     "output_type": "execute_result"
    }
   ],
   "source": [
    "from collections import Counter\n",
    "types = Counter(s[\"platform\"] for s in stations)\n",
    "types"
   ]
  },
  {
   "cell_type": "code",
   "execution_count": 10,
   "id": "bea6fd65-89ad-450d-84b5-2ff469f457d3",
   "metadata": {},
   "outputs": [
    {
     "name": "stdout",
     "output_type": "stream",
     "text": [
      "Most recently updated entry from each platform\n",
      "\n",
      "acronet\n",
      "{\n",
      "    \"name\": \"Casa della Miniera\",\n",
      "    \"description\": \"An Acronet station\",\n",
      "    \"platform\": \"acronet\",\n",
      "    \"external_id\": \"casa_della_miniera\",\n",
      "    \"internal_id\": \"00d541a3ff24897b\",\n",
      "    \"location\": {\n",
      "        \"lat\": 44.427803,\n",
      "        \"lon\": 8.596518\n",
      "    },\n",
      "    \"time_span\": {\n",
      "        \"start\": \"2025-01-06T11:39:00Z\",\n",
      "        \"end\": \"2025-01-06T12:19:00Z\"\n",
      "    },\n",
      "    \"authors\": [\n",
      "        {\n",
      "            \"name\": \"acronet\"\n",
      "        }\n",
      "    ],\n",
      "    \"mars_request\": {\n",
      "        \"class\": \"rd\",\n",
      "        \"expver\": \"xxxx\",\n",
      "        \"stream\": \"lwda\",\n",
      "        \"aggregation_type\": \"chunked\",\n",
      "        \"date\": \"20250106\",\n",
      "        \"platform\": \"acronet\",\n",
      "        \"internal_id\": \"00d541a3ff24897b\"\n",
      "    }\n",
      "}\n"
     ]
    }
   ],
   "source": [
    "from collections import defaultdict\n",
    "by_platform = defaultdict(list)\n",
    "for s in stations:\n",
    "    by_platform[s[\"platform\"]].append(s)\n",
    "\n",
    "print(\"Most recently updated entry from each platform\\n\")\n",
    "for platform, platform_stations in by_platform.items():\n",
    "    if len(platform_stations) == 0: continue\n",
    "    print(platform)\n",
    "    print(json.dumps(\n",
    "        sorted(platform_stations, key = lambda s : datetime.fromisoformat(s[\"time_span\"][\"end\"]) )[-1],\n",
    "    indent = 4))"
   ]
  },
  {
   "cell_type": "markdown",
   "id": "9bc48f62-157c-475e-b540-50dcf40984ee",
   "metadata": {},
   "source": [
    "## Plot meteotracker time ranges"
   ]
  },
  {
   "cell_type": "code",
   "execution_count": 11,
   "id": "801f7d4b-29b1-4927-b9f6-b4f654772e9a",
   "metadata": {},
   "outputs": [
    {
     "data": {
      "image/png": "[encoded data removed]",
      "text/plain": [
       "<Figure size 1000x200 with 1 Axes>"
      ]
     },
     "metadata": {},
     "output_type": "display_data"
    }
   ],
   "source": [
    "f, ax = plt.subplots(1, 1, figsize = (10, 2))\n",
    "\n",
    "for station in by_platform[\"meteotracker\"]:\n",
    "    dt = datetime.fromisoformat(station[\"time_span\"][\"start\"])\n",
    "    d2 = datetime.fromisoformat(station[\"time_span\"][\"end\"])\n",
    "    ax.axvspan(dt, dt2, alpha = 0.01, color = \"green\")\n"
   ]
  },
  {
   "cell_type": "markdown",
   "id": "2b3cd284-fdd2-49ab-bfdd-c9c1878a1961",
   "metadata": {},
   "source": [
    "## Obtain a whole meteotracker track\n",
    "\n",
    "For meteotracker tracks it is sufficient to simply use the \"mars_request\" as a key to the retrieve endpoint (along with format=csv) to download the data."
   ]
  },
  {
   "cell_type": "code",
   "execution_count": 12,
   "id": "dd9fe6ea-5c9c-4d9d-91a8-ebabaf8bb705",
   "metadata": {},
   "outputs": [
    {
     "ename": "IndexError",
     "evalue": "list index out of range",
     "output_type": "error",
     "traceback": [
      "\u001b[0;31m---------------------------------------------------------------------------\u001b[0m",
      "\u001b[0;31mIndexError\u001b[0m                                Traceback (most recent call last)",
      "Cell \u001b[0;32mIn[12], line 3\u001b[0m\n\u001b[1;32m      1\u001b[0m \u001b[38;5;28;01mfrom\u001b[39;00m \u001b[38;5;21;01mio\u001b[39;00m \u001b[38;5;28;01mimport\u001b[39;00m BytesIO\n\u001b[0;32m----> 3\u001b[0m example_station \u001b[38;5;241m=\u001b[39m \u001b[43mby_platform\u001b[49m\u001b[43m[\u001b[49m\u001b[38;5;124;43m\"\u001b[39;49m\u001b[38;5;124;43mmeteotracker\u001b[39;49m\u001b[38;5;124;43m\"\u001b[39;49m\u001b[43m]\u001b[49m\u001b[43m[\u001b[49m\u001b[38;5;241;43m-\u001b[39;49m\u001b[38;5;241;43m1\u001b[39;49m\u001b[43m]\u001b[49m\n\u001b[1;32m      5\u001b[0m \u001b[38;5;28mprint\u001b[39m(json\u001b[38;5;241m.\u001b[39mdumps(example_station[\u001b[38;5;124m\"\u001b[39m\u001b[38;5;124mmars_request\u001b[39m\u001b[38;5;124m\"\u001b[39m], indent \u001b[38;5;241m=\u001b[39m \u001b[38;5;241m4\u001b[39m))\n\u001b[1;32m      6\u001b[0m granule_list \u001b[38;5;241m=\u001b[39m session\u001b[38;5;241m.\u001b[39mget(url \u001b[38;5;241m+\u001b[39m \u001b[38;5;124m\"\u001b[39m\u001b[38;5;124mlist\u001b[39m\u001b[38;5;124m\"\u001b[39m, params \u001b[38;5;241m=\u001b[39m example_station[\u001b[38;5;124m\"\u001b[39m\u001b[38;5;124mmars_request\u001b[39m\u001b[38;5;124m\"\u001b[39m])\u001b[38;5;241m.\u001b[39mjson()\n",
      "\u001b[0;31mIndexError\u001b[0m: list index out of range"
     ]
    }
   ],
   "source": [
    "from io import BytesIO\n",
    "\n",
    "example_station = by_platform[\"meteotracker\"][-1]\n",
    "\n",
    "print(json.dumps(example_station[\"mars_request\"], indent = 4))\n",
    "granule_list = session.get(url + \"list\", params = example_station[\"mars_request\"]).json()\n",
    "\n",
    "print(f\"The above MARS request matches {len(granule_list)} data granule(s).\")\n",
    "\n",
    "# Sanity check\n",
    "assert len(granule_list) == 1"
   ]
  },
  {
   "cell_type": "markdown",
   "id": "333dbefe-87ea-471c-846f-6bdc75080b33",
   "metadata": {},
   "source": [
    "## Get data as ODB and decode client side [Fastest]\n",
    "This option allows the server the stream bytes straight from disk, all the other options require decoding to memory first."
   ]
  },
  {
   "cell_type": "code",
   "execution_count": null,
   "id": "13a1c18c-a390-4d25-be27-1a8cedc2da99",
   "metadata": {},
   "outputs": [],
   "source": [
    "args = {\n",
    "    \"format\" : \"odb\"\n",
    "}\n",
    "\n",
    "data = session.get(url + \"retrieve\", params = example_station[\"mars_request\"] | args)\n",
    "data.raise_for_status()\n",
    "\n",
    "df = None\n",
    "try:\n",
    "    import pyodc\n",
    "    df = pyodc.read_odb(BytesIO(data.content), single = True)\n",
    "except ImportError:\n",
    "    print(\"pyodc not installed\")\n",
    "df"
   ]
  },
  {
   "cell_type": "markdown",
   "id": "ad3ab443-1da3-4093-a561-2835aa63194d",
   "metadata": {},
   "source": [
    "## Get data as JSON"
   ]
  },
  {
   "cell_type": "code",
   "execution_count": null,
   "id": "73b093d7-3964-445a-b6bb-9915c9fe6221",
   "metadata": {
    "scrolled": true
   },
   "outputs": [],
   "source": [
    "args = {\n",
    "    \"format\" : \"json\"\n",
    "}\n",
    "\n",
    "data = session.get(url + \"retrieve\", params = example_station[\"mars_request\"] | args)\n",
    "data.json()"
   ]
  },
  {
   "cell_type": "markdown",
   "id": "96492b51-215a-478d-a691-29ae755e7d29",
   "metadata": {},
   "source": [
    "## Get data as CSV"
   ]
  },
  {
   "cell_type": "code",
   "execution_count": null,
   "id": "639acfcd-9c1c-4558-910e-b7145e4dfafa",
   "metadata": {},
   "outputs": [],
   "source": [
    "args = {\n",
    "    \"format\" : \"csv\"\n",
    "}\n",
    "\n",
    "data = session.get(url + \"retrieve\", params = example_station[\"mars_request\"] | args)\n",
    "\n",
    "df = pd.read_csv(BytesIO(data.content))\n",
    "df"
   ]
  },
  {
   "cell_type": "code",
   "execution_count": null,
   "id": "d2b286d6-e6fb-4579-819b-e40001f800c5",
   "metadata": {},
   "outputs": [],
   "source": [
    "import geopandas as gpd\n",
    "geo_df = gpd.GeoDataFrame(df, geometry=gpd.points_from_xy(df.lon, df.lat), crs=4326)\n",
    "geo_df.explore(column = \"altitude\")"
   ]
  },
  {
   "cell_type": "code",
   "execution_count": null,
   "id": "c1bc05a7-5cae-4971-84ac-99714b3ab960",
   "metadata": {},
   "outputs": [],
   "source": []
  },
  {
   "cell_type": "markdown",
   "id": "0e26cf78-5d73-4dd6-bc93-d41fcad74e8c",
   "metadata": {},
   "source": [
    "## Obtain Stream data (Acronet, Smart Citizen Kit)\n",
    "\n",
    "For the meteotracker data, each track is stored in a single data file. For continuous streams of data like the acronet stations, it is stored in 5 minute granules."
   ]
  },
  {
   "cell_type": "markdown",
   "id": "bccb2998-b84d-4aa1-94c2-0259fada49ac",
   "metadata": {},
   "source": [
    "### Plot all Acronet stations in red and Smart Citizenkit in blue"
   ]
  },
  {
   "cell_type": "code",
   "execution_count": null,
   "id": "db5debb6-1d97-488a-ab38-e96cae85ef73",
   "metadata": {},
   "outputs": [],
   "source": [
    "import folium\n",
    "\n",
    "map = folium.Map(location=[44.226414, 9.532785], zoom_start=7)\n",
    "\n",
    "for station in by_platform[\"acronet\"]:\n",
    "    p = station[\"location\"]\n",
    "    folium.CircleMarker(\n",
    "        location=(station[\"location\"][\"lat\"], station[\"location\"][\"lon\"]),\n",
    "        popup = station,\n",
    "        radius=5, fill_color=\"orange\", fill_opacity=0.4, color=\"black\", weight=1,\n",
    "    ).add_to(map)\n",
    "\n",
    "\n",
    "for station in by_platform[\"smart_citizen_kit\"]:\n",
    "    folium.CircleMarker(\n",
    "        location=(station[\"location\"][\"lat\"], station[\"location\"][\"lon\"]),\n",
    "        popup = station,\n",
    "        radius=5, fill_color=\"blue\", fill_opacity=0.4, color=\"black\", weight=1,\n",
    "    ).add_to(map)\n",
    "map"
   ]
  },
  {
   "cell_type": "markdown",
   "id": "41ff718e-9823-4bbf-b8a4-29f521273ce2",
   "metadata": {},
   "source": [
    "## Smart Citizen Kit"
   ]
  },
  {
   "cell_type": "code",
   "execution_count": null,
   "id": "2f71eb75-11a4-4d41-aed0-8dc24c7e4225",
   "metadata": {},
   "outputs": [],
   "source": [
    "example_station = by_platform[\"smart_citizen_kit\"][-1]\n",
    "example_station"
   ]
  },
  {
   "cell_type": "markdown",
   "id": "4edf42cc-acb8-47bb-9445-2c29127b6b1b",
   "metadata": {},
   "source": [
    "## Choose retrieval time span "
   ]
  },
  {
   "cell_type": "code",
   "execution_count": null,
   "id": "ae08d920-d685-47ad-a9fc-caf379e38d55",
   "metadata": {},
   "outputs": [],
   "source": [
    "now = datetime.now()\n",
    "args = {\n",
    "    \"start_time\" : (now - timedelta(days = 1)).isoformat(),\n",
    "    \"end_time\": (now - timedelta(hours = 0)).isoformat(),\n",
    "}"
   ]
  },
  {
   "cell_type": "markdown",
   "id": "4d782473-1925-4bce-988d-203772082bcb",
   "metadata": {},
   "source": [
    "## List data granules in span (optional)"
   ]
  },
  {
   "cell_type": "code",
   "execution_count": null,
   "id": "4ec10dcf-d909-4bde-b27a-905e37d53ba7",
   "metadata": {
    "scrolled": true
   },
   "outputs": [],
   "source": [
    "data_granules = session.get(url + \"list\", params = example_station[\"mars_request\"]).json()\n",
    "granules = [dict(date = g[\"mars_request\"][\"date\"], time = g[\"mars_request\"][\"time\"]) for g in data_granules]\n",
    "granules[0]"
   ]
  },
  {
   "cell_type": "markdown",
   "id": "8d07dde8-17ef-4156-89db-1444ef794c3c",
   "metadata": {},
   "source": [
    "## Retrieve data in span\n",
    "This is one request rather than one per span"
   ]
  },
  {
   "cell_type": "code",
   "execution_count": null,
   "id": "676441b2-0e33-4eb1-9db2-cb065ff868f5",
   "metadata": {},
   "outputs": [],
   "source": [
    "data = session.get(url + \"retrieve\", params = example_station[\"mars_request\"] | args | dict(format = \"csv\"))\n",
    "df = pd.read_csv(BytesIO(data.content))\n",
    "df"
   ]
  },
  {
   "cell_type": "markdown",
   "id": "40ba3a42-3c58-42e9-8f9a-f3a69e6c8327",
   "metadata": {},
   "source": [
    "## Plot data for a few stations showing any missing granules"
   ]
  },
  {
   "cell_type": "code",
   "execution_count": null,
   "id": "de512cb9-97e9-429f-9cee-0cb09c18dda8",
   "metadata": {},
   "outputs": [],
   "source": [
    "now = datetime.now()\n",
    "args = {\n",
    "    \"start_time\" : (now - timedelta(hours = 12)).isoformat(),\n",
    "    \"end_time\": (now - timedelta(hours = 0)).isoformat(),\n",
    "}\n",
    "\n",
    "n = len(by_platform[\"smart_citizen_kit\"])\n",
    "f, axes = plt.subplots(n, 1, figsize = (10, 2*n), sharex = True)\n",
    "\n",
    "for ax, station in zip(axes, by_platform[\"smart_citizen_kit\"]):\n",
    "    granules = session.get(url + \"list\", params = station[\"mars_request\"] | args).json()\n",
    "    data = session.get(url + \"retrieve\", params = station[\"mars_request\"] | args | dict(format = \"csv\"))\n",
    "    df = pd.read_csv(BytesIO(data.content))\n",
    "    df[\"datetime\"] = pd.to_datetime(df[\"datetime\"])\n",
    "\n",
    "    df.plot(\n",
    "    x = \"datetime\",\n",
    "    y = \"relative_humidity_near_surface\",\n",
    "    ax = ax, label = station[\"name\"])\n",
    "    \n",
    "    for g in granules:\n",
    "        date, time = g[\"mars_request\"][\"date\"], g[\"mars_request\"][\"time\"]\n",
    "        dt = datetime.strptime(date + time, \"%Y%m%d%H%M\")\n",
    "        dt2 = dt + timedelta(minutes = 5)\n",
    "        # ax.axvline(dt, linestyle = \"dotted\", color = \"green\")\n",
    "        # ax.axvline(dt2, linestyle = \"dotted\", color = \"green\")\n",
    "        ax.axvspan(dt, dt2, alpha = 0.1, color = \"green\")\n",
    "\n",
    "    # for d in example_station[\"time_span\"]:\n",
    "    #     ax.axvline(datetime.fromisoformat(d), linestyle = \"dotted\", color = \"black\")\n",
    "\n",
    "    # ax.axvline(args[\"start_time\"], linestyle = \"dotted\", color = \"red\")\n",
    "    # ax.axvline(args[\"end_time\"], linestyle = \"dotted\", color = \"red\")\n",
    "    \n",
    "\n",
    "\n",
    "print([dict(date = g[\"mars_request\"][\"date\"], time = g[\"mars_request\"][\"time\"]) for g in data_granules])\n",
    "plt.tight_layout()\n",
    "axes"
   ]
  },
  {
   "cell_type": "code",
   "execution_count": null,
   "id": "298529bf-6cb2-402a-adb0-67fbbb8464ac",
   "metadata": {},
   "outputs": [],
   "source": [
    "df[\"datetime\"] = pd.to_datetime(df[\"datetime\"])\n",
    "\n",
    "axes = df.plot(\n",
    "    x = \"datetime\",\n",
    "    y = [\"relative_humidity_near_surface\"],\n",
    "    subplots=True, layout=(2, 1), figsize=(8, 4), sharex=True, rot=90)\n",
    "\n",
    "for ax in axes[:, 0]:\n",
    "    for g in granules:\n",
    "        date, time = g[\"mars_request\"][\"date\"], g[\"mars_request\"][\"time\"]\n",
    "        dt = datetime.strptime(date + time, \"%Y%m%d%H%M\")\n",
    "        dt2 = dt + timedelta(minutes = 5)\n",
    "        ax.axvline(dt, linestyle = \"dotted\", color = \"green\")\n",
    "        ax.axvline(dt2, linestyle = \"dotted\", color = \"green\")\n",
    "        ax.axvspan(dt, dt2, alpha = 0.1, color = \"green\")\n",
    "\n",
    "    # for d in example_station[\"time_span\"]:\n",
    "    #     ax.axvline(datetime.fromisoformat(d), linestyle = \"dotted\", color = \"black\")\n",
    "\n",
    "    ax.axvline(datetime.fromisoformat(args[\"start_time\"]), linestyle = \"dotted\", color = \"red\")\n",
    "    ax.axvline(datetime.fromisoformat(args[\"end_time\"]), linestyle = \"dotted\", color = \"red\")\n",
    "    \n",
    "\n",
    "\n",
    "print([dict(date = g[\"mars_request\"][\"date\"], time = g[\"mars_request\"][\"time\"]) for g in data_granules])\n",
    "plt.tight_layout()\n",
    "axes[0, -1].get_xlim()"
   ]
  },
  {
   "cell_type": "markdown",
   "id": "e177b3f3-689c-4a8f-b0c8-cfe3b4a7dff5",
   "metadata": {},
   "source": [
    "## Acronet"
   ]
  },
  {
   "cell_type": "code",
   "execution_count": null,
   "id": "49ea7556-4fc1-4554-b1b8-bd52e11551b0",
   "metadata": {},
   "outputs": [],
   "source": [
    "[station[\"name\"] for station in by_platform[\"acronet\"]][:10] + [f\"... {len(by_platform[\"acronet\"])} in total\"]"
   ]
  },
  {
   "cell_type": "code",
   "execution_count": null,
   "id": "31b13eaf-05f5-4f87-b205-ca4d79c38883",
   "metadata": {},
   "outputs": [],
   "source": [
    "from random import choice\n",
    "\n",
    "example_station = choice(by_platform[\"acronet\"])\n",
    "example_station"
   ]
  },
  {
   "cell_type": "markdown",
   "id": "b83a2a6d-8b9e-43e5-aa23-b98632fd6398",
   "metadata": {},
   "source": [
    "### Data granules corresponging to an acronet station"
   ]
  },
  {
   "cell_type": "code",
   "execution_count": null,
   "id": "07d4caf1-4745-41f0-8ebb-a21604e4360e",
   "metadata": {},
   "outputs": [],
   "source": [
    "data_granules = session.get(url + \"list\", params = example_station[\"mars_request\"]).json()\n",
    "[dict(date = g[\"mars_request\"][\"date\"], time = g[\"mars_request\"][\"time\"]) for g in data_granules]"
   ]
  },
  {
   "cell_type": "code",
   "execution_count": null,
   "id": "8b8ac507-bf5e-4ad8-8dfa-6eea1ddfe731",
   "metadata": {},
   "outputs": [],
   "source": [
    "import folium\n",
    "p = (example_station[\"location\"][\"lat\"], example_station[\"location\"][\"lon\"])\n",
    "map = folium.Map(location=p, zoom_start=13)\n",
    "\n",
    "# Add the point as a marker\n",
    "folium.Marker(\n",
    "    location=p,\n",
    "    popup = example_station,\n",
    ").add_to(map)\n",
    "map"
   ]
  },
  {
   "cell_type": "markdown",
   "id": "cd2970a9-12e0-4f35-9a49-72ce9e8a7dad",
   "metadata": {},
   "source": [
    "Giving the \"mars_request\" to the `list` endpoint gives the list of data granules available from the list endpoint. For the acronet data and other continuous streams, there is an additional key \"time\" which gives the begining of the interval in the format HHMM\n",
    "\n",
    "In the MARS system one needs to deal with these separate `date` and `time` fields but for convenience two special arguments are added to the API: `start_time` and `end_time`, these ISO formatted fields will be used to return data granules within the defined temporal region.\n",
    "\n",
    "* If `start_time` or `end_time` are supplied, `date` and `time` are ignored. \n",
    "* If `start_time` or `end_time` fall within the boundary of a data chunk, the whole chunk will be returned.\n",
    "* If only one of `start_time` or `end_time` are supplied, the other is ignored.\n",
    "  \n",
    "* If neither `start_time` nor `end_time` are supplied, `date` and `time` will be used following the typical MARS language.\n",
    "\n",
    "The `list` endpoint is not necessary, but can be useful to retrieve the available chunks for a mars request. The arguments to `list` and `retrieve` are the same, list returns what data granules exist and `retrieve` returns the data granules concatenated together."
   ]
  },
  {
   "cell_type": "markdown",
   "id": "803179ea-13a1-46ba-a837-f630b70f4479",
   "metadata": {},
   "source": [
    "### Getting data for an acronet station"
   ]
  },
  {
   "cell_type": "code",
   "execution_count": null,
   "id": "d7e966d7-ba6f-4c0a-8232-8a6603d24f3d",
   "metadata": {},
   "outputs": [],
   "source": [
    "example_station[\"mars_request\"]"
   ]
  },
  {
   "cell_type": "code",
   "execution_count": null,
   "id": "6dd9a8d0-ffe0-4d72-8730-2d640c1daf14",
   "metadata": {},
   "outputs": [],
   "source": [
    "now = datetime.now(UTC)\n",
    "\n",
    "(now - timedelta(days = 7)).isoformat()"
   ]
  },
  {
   "cell_type": "code",
   "execution_count": null,
   "id": "17d35a2d-f06a-4ee2-87f8-a031116cabea",
   "metadata": {},
   "outputs": [],
   "source": [
    "%%time\n",
    "\n",
    "from io import BytesIO\n",
    "example_station = by_platform[\"acronet\"][-1]\n",
    "now = datetime.now(UTC)\n",
    "args = {\n",
    "    \"start_time\" : (now - timedelta(days = 7)).isoformat(),\n",
    "    \"end_time\": (now - timedelta(hours = 0)).isoformat(),\n",
    "}\n",
    "\n",
    "granules = session.get(url + \"list\", params = example_station[\"mars_request\"] | args).json()\n",
    "data = session.get(url + \"retrieve\", params = example_station[\"mars_request\"] | args | dict(format = \"csv\"))\n",
    "\n",
    "df = pd.read_csv(BytesIO(data.content))\n",
    "df"
   ]
  },
  {
   "cell_type": "code",
   "execution_count": null,
   "id": "d3d3ec10-d12d-430c-aa27-bcc7f27f5853",
   "metadata": {},
   "outputs": [],
   "source": [
    "df.columns"
   ]
  },
  {
   "cell_type": "markdown",
   "id": "701ead61-7b2c-4c22-8720-75d29947953c",
   "metadata": {},
   "source": [
    "### Plot showing data granule boundaries and station time span along with data\n",
    "\n",
    "Any missing granules will show up as white areas\n",
    "\n",
    "- Green vertical lines: data granule boundaries\n",
    "- Green shaded: places we have data\n",
    "- Black vertical lines: Station time span\n",
    "- Red vertical lines: User timespan request"
   ]
  },
  {
   "cell_type": "code",
   "execution_count": null,
   "id": "76a1331a-e05d-4ef7-ab30-338472622f32",
   "metadata": {},
   "outputs": [],
   "source": [
    "df[\"datetime\"] = pd.to_datetime(df[\"datetime\"])\n",
    "\n",
    "axes = df.plot(\n",
    "    x = \"datetime\",\n",
    "    y = [\"air_temperature_near_surface\", \"relative_humidity_near_surface\"],\n",
    "    subplots=True, layout=(2, 1), figsize=(8, 4), sharex=True, rot=90)\n",
    "\n",
    "for ax in axes[:, 0]:\n",
    "    for g in granules:\n",
    "        date, time = g[\"mars_request\"][\"date\"], g[\"mars_request\"][\"time\"]\n",
    "        dt = datetime.strptime(date + time, \"%Y%m%d%H%M\")\n",
    "        dt2 = dt + timedelta(minutes = 5)\n",
    "        ax.axvline(dt, linestyle = \"dotted\", color = \"green\")\n",
    "        ax.axvline(dt2, linestyle = \"dotted\", color = \"green\")\n",
    "        ax.axvspan(dt, dt2, alpha = 0.1, color = \"green\")\n",
    "\n",
    "    for d in example_station[\"time_span\"].values():\n",
    "        ax.axvline(datetime.fromisoformat(d), linestyle = \"dotted\", color = \"black\")\n",
    "\n",
    "    # ax.axvline(args[\"start_time\"], linestyle = \"dotted\", color = \"red\")\n",
    "    # ax.axvline(args[\"end_time\"], linestyle = \"dotted\", color = \"red\")\n",
    "    \n",
    "\n",
    "\n",
    "\n",
    "plt.tight_layout()\n",
    "axes[0, -1].get_xlim()"
   ]
  },
  {
   "cell_type": "code",
   "execution_count": null,
   "id": "5cfd752c-43c0-4c2f-b95c-a6b160cc898e",
   "metadata": {},
   "outputs": [],
   "source": []
  },
  {
   "cell_type": "code",
   "execution_count": null,
   "id": "8d5b56fd-47f3-4db4-83c5-2a11bbeefe9e",
   "metadata": {},
   "outputs": [],
   "source": []
  },
  {
   "cell_type": "code",
   "execution_count": null,
   "id": "cd387f6b-b515-462d-a7ee-26e9fe07373e",
   "metadata": {},
   "outputs": [],
   "source": []
  },
  {
   "cell_type": "code",
   "execution_count": null,
   "id": "cf73f9df-68a6-4c60-98ab-a22c8e365e57",
   "metadata": {},
   "outputs": [],
   "source": []
  }
 ],
 "metadata": {
  "kernelspec": {
   "display_name": "Python [conda env:micromamba-ionbeam]",
   "language": "python",
   "name": "conda-env-micromamba-ionbeam-py"
  },
  "language_info": {
   "codemirror_mode": {
    "name": "ipython",
    "version": 3
   },
   "file_extension": ".py",
   "mimetype": "text/x-python",
   "name": "python",
   "nbconvert_exporter": "python",
   "pygments_lexer": "ipython3",
   "version": "3.12.7"
  }
 },
 "nbformat": 4,
 "nbformat_minor": 5
}
