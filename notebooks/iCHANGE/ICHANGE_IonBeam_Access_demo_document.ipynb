{
 "cells": [
  {
   "cell_type": "code",
   "execution_count": 1,
   "id": "0d4704af-9317-4423-9f1e-76d88923a44e",
   "metadata": {},
   "outputs": [],
   "source": [
    "# Allows code to live reload\n",
    "%load_ext autoreload\n",
    "%autoreload 2"
   ]
  },
  {
   "cell_type": "markdown",
   "id": "3e5bac3b-8d69-4574-b277-917788ff7978",
   "metadata": {},
   "source": [
    "## 1. Install\n",
    "```sh\n",
    "# Install prerequisites\n",
    "pip install pyodc\n",
    "\n",
    "```\n",
    "\n",
    "## 2. Make an ECMWF account\n",
    "- Go to ecmwf.int/, click login at the top right and click register to make a new account.\n",
    "- Once logged in, go to api.ecmwf.int/v1/key/ to get your key. \n",
    "- Put it in `~/.ecmwfapirc` as directed."
   ]
  },
  {
   "cell_type": "code",
   "execution_count": 2,
   "id": "b2b19d13-8fda-4f78-bf52-92714cb3d018",
   "metadata": {},
   "outputs": [
    {
     "name": "stdout",
     "output_type": "stream",
     "text": [
      "Checking API credentials\n"
     ]
    },
    {
     "data": {
      "application/json": {
       "code": 200,
       "email": "thomas.hodson@ecmwf.int",
       "first_name": "Thomas",
       "full_name": "Thomas Hodson",
       "last_name": "Hodson",
       "uid": "math"
      },
      "text/plain": [
       "<IPython.core.display.JSON object>"
      ]
     },
     "execution_count": 2,
     "metadata": {
      "application/json": {
       "expanded": false,
       "root": "root"
      }
     },
     "output_type": "execute_result"
    }
   ],
   "source": [
    "# Load in the ECMWF token \n",
    "from pathlib import Path\n",
    "import json\n",
    "import requests\n",
    "from IPython.display import JSON\n",
    "from datetime import datetime as dt\n",
    "from datetime import timedelta, timezone\n",
    "import pandas as pd\n",
    "import numpy as np\n",
    "from matplotlib import pyplot as plt\n",
    "\n",
    "with open(Path(\"~/.ecmwfapirc\").expanduser(), \"r\") as f:\n",
    "    api_creds = json.load(f)\n",
    "\n",
    "print(\"Checking API credentials\")\n",
    "r = requests.get(f\"https://api.ecmwf.int/v1/who-am-i?token={api_creds['key']}\")\n",
    "if r.status_code == 403: print(\"Your credentials are either wrong or need to be renewed at https://api.ecmwf.int/v1/key/\")\n",
    "r.raise_for_status()\n",
    "JSON(r.json())"
   ]
  },
  {
   "cell_type": "code",
   "execution_count": 3,
   "id": "6f8a3a63-89b6-4b57-997a-517a6341bb54",
   "metadata": {},
   "outputs": [],
   "source": [
    "session = requests.Session()\n",
    "session.headers[\"Authorization\"] = f\"Bearer {api_creds['key']}\""
   ]
  },
  {
   "cell_type": "code",
   "execution_count": 4,
   "id": "0fa9bc9a-3415-4dad-a3e6-15ff80dc586f",
   "metadata": {},
   "outputs": [],
   "source": [
    "url = \"https://ionbeam-dev.ecmwf.int/api/v1/\""
   ]
  },
  {
   "cell_type": "code",
   "execution_count": null,
   "id": "8061167e-4a00-4f02-921c-1a2d29d68f74",
   "metadata": {},
   "outputs": [],
   "source": []
  },
  {
   "cell_type": "code",
   "execution_count": 5,
   "id": "0aede188-2199-4847-9db1-59393d9ebdbd",
   "metadata": {},
   "outputs": [
    {
     "name": "stdout",
     "output_type": "stream",
     "text": [
      "len(stations) = 3853\n"
     ]
    }
   ],
   "source": [
    "stations = session.get(url + \"stations\").json()\n",
    "print(f\"{len(stations) = }\")\n",
    "# print(json.dumps(stations[0], indent = 4))"
   ]
  },
  {
   "cell_type": "code",
   "execution_count": 7,
   "id": "9922afe6-eda4-4023-b77b-7b2a992833e5",
   "metadata": {},
   "outputs": [
    {
     "data": {
      "text/plain": [
       "Counter({'meteotracker': 3853})"
      ]
     },
     "execution_count": 7,
     "metadata": {},
     "output_type": "execute_result"
    }
   ],
   "source": [
    "from collections import Counter\n",
    "Counter(s[\"platform\"] for s in stations)"
   ]
  },
  {
   "cell_type": "markdown",
   "id": "aa330cd9-38b7-41fc-9c43-a9bc5a591c8d",
   "metadata": {},
   "source": [
    "## Requesting all the observed parameters from a station\n",
    "\n",
    "Each station is associated with one or more sensor objects which each measure one or more observed property."
   ]
  },
  {
   "cell_type": "code",
   "execution_count": 6,
   "id": "5ca5c4bb-5fdd-4295-b130-ba6ac915404a",
   "metadata": {},
   "outputs": [
    {
     "name": "stdout",
     "output_type": "stream",
     "text": [
      "{'key': 'author', 'name': 'author', 'unit': None, 'description': 'The author field from the Meteotracker data', 'url': None}\n",
      "{'key': 'track_id', 'name': 'track_id', 'unit': None, 'description': 'A unique identifer for a single recorded track from a mobile sensor.', 'url': None}\n",
      "{'key': 'dew_point_temperature', 'name': 'dew_point_temperature', 'unit': 'K', 'description': None, 'url': None}\n",
      "{'key': 'air_temperature_near_surface', 'name': 'air_temperature_near_surface', 'unit': 'K', 'description': None, 'url': None}\n",
      "{'key': 'solar_radiation_index', 'name': 'solar_radiation_index', 'unit': '1', 'description': None, 'url': None}\n",
      "{'key': 'relative_humidity_near_surface', 'name': 'relative_humidity_near_surface', 'unit': '%', 'description': None, 'url': None}\n",
      "{'key': 'time', 'name': 'time', 'unit': None, 'description': 'The time that the observation was made.', 'url': None}\n",
      "{'key': 'humidity_index', 'name': 'humidity_index', 'unit': 'K', 'description': None, 'url': None}\n",
      "{'key': 'offset_tz', 'name': 'offset_tz', 'unit': None, 'description': 'Uncertain what this means in the Meteotracker data.', 'url': None}\n",
      "{'key': 'lat', 'name': 'lat', 'unit': '°', 'description': 'The lattitude of the observation, referenced to WGS84 (EPSG: 4326)', 'url': None}\n",
      "{'key': 'vertical_temperature_gradient', 'name': 'vertical_temperature_gradient', 'unit': '°C/100m', 'description': None, 'url': None}\n",
      "{'key': 'lon', 'name': 'lon', 'unit': '°', 'description': 'The longitude of the observation, referenced to WGS84 (EPSG: 4326)', 'url': None}\n",
      "{'key': 'altitude', 'name': 'altitude', 'unit': 'm', 'description': 'The altitude of the observation, referenced to WGS84 (EPSG: 4326)', 'url': None}\n",
      "{'key': 'air_pressure_near_surface', 'name': 'air_pressure_near_surface', 'unit': 'Pa', 'description': None, 'url': None}\n"
     ]
    }
   ],
   "source": [
    "from datetime import datetime\n",
    "\n",
    "# Obtain a station of interest\n",
    "station = stations[-1]\n",
    "\n",
    "for sensor in station[\"sensors\"]:\n",
    "    for property in sensor[\"properties\"]:\n",
    "        print(property)"
   ]
  },
  {
   "cell_type": "code",
   "execution_count": 7,
   "id": "6e77ef20-26ac-4f3d-9109-86b26be220a2",
   "metadata": {},
   "outputs": [],
   "source": [
    "# Polytope can also be used as a pure REST API, instructions here: https://polytope-client.readthedocs.io/en/latest/client/rest_api.html\n",
    "from polytope.api import Client\n",
    "import pandas as pd\n",
    "from io import BytesIO\n",
    "\n",
    "polytope_client = Client(address='polytope-test.ecmwf.int', \n",
    "                verbose=False, insecure=False, \n",
    "                user_email = api_creds[\"email\"], \n",
    "                user_key = api_creds[\"key\"])"
   ]
  },
  {
   "cell_type": "markdown",
   "id": "20c7a37c-3c1b-4b1c-bfd0-2ec8a0a51012",
   "metadata": {},
   "source": [
    "### Obtain a single data granule in its entirety"
   ]
  },
  {
   "cell_type": "code",
   "execution_count": 8,
   "id": "cc65ed45-d04b-40f1-b082-cdb3cfb971cc",
   "metadata": {},
   "outputs": [
    {
     "name": "stderr",
     "output_type": "stream",
     "text": [
      "2024-10-09 13:58:57 - INFO - Sending request...\n",
      "{'request': 'datetime: 2024-04-09 11:31:24.011000+00:00\\n'\n",
      "            'format: csv\\n'\n",
      "            'platform: meteotracker\\n'\n",
      "            'project: public\\n'\n",
      "            'variable: air_temperature_near_surface\\n',\n",
      " 'verb': 'retrieve'}\n"
     ]
    },
    {
     "name": "stdout",
     "output_type": "stream",
     "text": [
      "\n",
      "source_id = '66152710f5c2613269425a01'\n",
      "platform = 'meteotracker'\n",
      "parameter = 'air_temperature_near_surface'\n",
      "start_time = datetime.datetime(2024, 4, 9, 11, 31, 24, 11000, tzinfo=datetime.timezone.utc)\n",
      "stop_time = datetime.datetime(2024, 4, 9, 11, 33, 20, 11000, tzinfo=datetime.timezone.utc)\n",
      "timespan = datetime.timedelta(seconds=116)\n",
      "\n"
     ]
    },
    {
     "name": "stderr",
     "output_type": "stream",
     "text": [
      "2024-10-09 13:58:58 - INFO - Request accepted. Please poll ../requests/783ee4d5-d010-44d5-a816-d6e59ffa0453 for status\n",
      "2024-10-09 13:58:58 - INFO - Checking request status (783ee4d5-d010-44d5-a816-d6e59ffa0453)...\n",
      "2024-10-09 13:58:59 - INFO - The current status of the request is 'queued'\n",
      "2024-10-09 13:59:00 - INFO - The current status of the request is 'processing'\n",
      "2024-10-09 13:59:01 - INFO - The current status of the request is 'processed'\n",
      "2024-10-09 13:59:01 - INFO - Starting data download (application/octet-stream)...\n"
     ]
    },
    {
     "name": "stdout",
     "output_type": "stream",
     "text": [
      "len(data) = 1\n",
      "platform unique entries: ['meteotracker']\n",
      "source_name unique entries: ['genova_living_lab_1' 'bologna_living_lab_3' 'bologna_living_lab_13'\n",
      " 'bologna_living_lab_4']\n",
      "source_id unique entries: ['62ab72c11d8e11061d32002a' '62b47f70c93e4f0780cf68da'\n",
      " '62b5dfeb82a7680332841b58' '62bda5d4edb2ca4efd101c4d']\n",
      "observation_variable unique entries: ['air_temperature_near_surface' 'relative_humidity_near_surface'\n",
      " 'dew_point_temperature' 'humidity_index' 'vertical_temperature_gradient']\n",
      "class unique entries: ['rd']\n",
      "expver unique entries: ['xxxx']\n",
      "stream unique entries: ['iot']\n",
      "reportype unique entries: [ 1  2 11  3  5]\n",
      "andate unique entries: [20220616 20220623 20220624 20220630]\n",
      "antime unique entries: [1800 1400 1500 1600 1200 1300]\n",
      "groupid@hdr unique entries: [17]\n",
      "project unique entries: ['I-CHANGE']\n",
      "date unique entries: [20220616 20220623 20220624 20220630]\n",
      "time unique entries: [1800 1400 1500 1600 1200 1300]\n"
     ]
    },
    {
     "data": {
      "text/html": [
       "<div>\n",
       "<style scoped>\n",
       "    .dataframe tbody tr th:only-of-type {\n",
       "        vertical-align: middle;\n",
       "    }\n",
       "\n",
       "    .dataframe tbody tr th {\n",
       "        vertical-align: top;\n",
       "    }\n",
       "\n",
       "    .dataframe thead th {\n",
       "        text-align: right;\n",
       "    }\n",
       "</style>\n",
       "<table border=\"1\" class=\"dataframe\">\n",
       "  <thead>\n",
       "    <tr style=\"text-align: right;\">\n",
       "      <th></th>\n",
       "      <th>platform</th>\n",
       "      <th>source_name</th>\n",
       "      <th>source_id</th>\n",
       "      <th>observation_variable</th>\n",
       "      <th>class</th>\n",
       "      <th>expver</th>\n",
       "      <th>stream</th>\n",
       "      <th>reportype</th>\n",
       "      <th>andate</th>\n",
       "      <th>antime</th>\n",
       "      <th>groupid@hdr</th>\n",
       "      <th>project</th>\n",
       "      <th>date</th>\n",
       "      <th>time</th>\n",
       "      <th>altitude</th>\n",
       "      <th>observed_value</th>\n",
       "      <th>lat</th>\n",
       "      <th>lon</th>\n",
       "      <th>minutes</th>\n",
       "    </tr>\n",
       "  </thead>\n",
       "  <tbody>\n",
       "    <tr>\n",
       "      <th>0</th>\n",
       "      <td>meteotracker</td>\n",
       "      <td>genova_living_lab_1</td>\n",
       "      <td>62ab72c11d8e11061d32002a</td>\n",
       "      <td>air_temperature_near_surface</td>\n",
       "      <td>rd</td>\n",
       "      <td>xxxx</td>\n",
       "      <td>iot</td>\n",
       "      <td>1</td>\n",
       "      <td>20220616</td>\n",
       "      <td>1800</td>\n",
       "      <td>17</td>\n",
       "      <td>I-CHANGE</td>\n",
       "      <td>20220616</td>\n",
       "      <td>1800</td>\n",
       "      <td>149.511093</td>\n",
       "      <td>303.049988</td>\n",
       "      <td>44.400051</td>\n",
       "      <td>8.674493</td>\n",
       "      <td>13.250000</td>\n",
       "    </tr>\n",
       "    <tr>\n",
       "      <th>1</th>\n",
       "      <td>meteotracker</td>\n",
       "      <td>genova_living_lab_1</td>\n",
       "      <td>62ab72c11d8e11061d32002a</td>\n",
       "      <td>air_temperature_near_surface</td>\n",
       "      <td>rd</td>\n",
       "      <td>xxxx</td>\n",
       "      <td>iot</td>\n",
       "      <td>1</td>\n",
       "      <td>20220616</td>\n",
       "      <td>1800</td>\n",
       "      <td>17</td>\n",
       "      <td>I-CHANGE</td>\n",
       "      <td>20220616</td>\n",
       "      <td>1800</td>\n",
       "      <td>149.511093</td>\n",
       "      <td>302.250000</td>\n",
       "      <td>44.400135</td>\n",
       "      <td>8.674781</td>\n",
       "      <td>13.300000</td>\n",
       "    </tr>\n",
       "    <tr>\n",
       "      <th>2</th>\n",
       "      <td>meteotracker</td>\n",
       "      <td>genova_living_lab_1</td>\n",
       "      <td>62ab72c11d8e11061d32002a</td>\n",
       "      <td>air_temperature_near_surface</td>\n",
       "      <td>rd</td>\n",
       "      <td>xxxx</td>\n",
       "      <td>iot</td>\n",
       "      <td>1</td>\n",
       "      <td>20220616</td>\n",
       "      <td>1800</td>\n",
       "      <td>17</td>\n",
       "      <td>I-CHANGE</td>\n",
       "      <td>20220616</td>\n",
       "      <td>1800</td>\n",
       "      <td>141.148972</td>\n",
       "      <td>301.649994</td>\n",
       "      <td>44.400219</td>\n",
       "      <td>8.675081</td>\n",
       "      <td>13.350000</td>\n",
       "    </tr>\n",
       "    <tr>\n",
       "      <th>3</th>\n",
       "      <td>meteotracker</td>\n",
       "      <td>genova_living_lab_1</td>\n",
       "      <td>62ab72c11d8e11061d32002a</td>\n",
       "      <td>air_temperature_near_surface</td>\n",
       "      <td>rd</td>\n",
       "      <td>xxxx</td>\n",
       "      <td>iot</td>\n",
       "      <td>1</td>\n",
       "      <td>20220616</td>\n",
       "      <td>1800</td>\n",
       "      <td>17</td>\n",
       "      <td>I-CHANGE</td>\n",
       "      <td>20220616</td>\n",
       "      <td>1800</td>\n",
       "      <td>141.148972</td>\n",
       "      <td>301.350006</td>\n",
       "      <td>44.400352</td>\n",
       "      <td>8.675219</td>\n",
       "      <td>13.400000</td>\n",
       "    </tr>\n",
       "    <tr>\n",
       "      <th>4</th>\n",
       "      <td>meteotracker</td>\n",
       "      <td>genova_living_lab_1</td>\n",
       "      <td>62ab72c11d8e11061d32002a</td>\n",
       "      <td>air_temperature_near_surface</td>\n",
       "      <td>rd</td>\n",
       "      <td>xxxx</td>\n",
       "      <td>iot</td>\n",
       "      <td>1</td>\n",
       "      <td>20220616</td>\n",
       "      <td>1800</td>\n",
       "      <td>17</td>\n",
       "      <td>I-CHANGE</td>\n",
       "      <td>20220616</td>\n",
       "      <td>1800</td>\n",
       "      <td>141.148972</td>\n",
       "      <td>301.049988</td>\n",
       "      <td>44.400509</td>\n",
       "      <td>8.675051</td>\n",
       "      <td>13.450000</td>\n",
       "    </tr>\n",
       "    <tr>\n",
       "      <th>...</th>\n",
       "      <td>...</td>\n",
       "      <td>...</td>\n",
       "      <td>...</td>\n",
       "      <td>...</td>\n",
       "      <td>...</td>\n",
       "      <td>...</td>\n",
       "      <td>...</td>\n",
       "      <td>...</td>\n",
       "      <td>...</td>\n",
       "      <td>...</td>\n",
       "      <td>...</td>\n",
       "      <td>...</td>\n",
       "      <td>...</td>\n",
       "      <td>...</td>\n",
       "      <td>...</td>\n",
       "      <td>...</td>\n",
       "      <td>...</td>\n",
       "      <td>...</td>\n",
       "      <td>...</td>\n",
       "    </tr>\n",
       "    <tr>\n",
       "      <th>4793</th>\n",
       "      <td>meteotracker</td>\n",
       "      <td>bologna_living_lab_4</td>\n",
       "      <td>62bda5d4edb2ca4efd101c4d</td>\n",
       "      <td>humidity_index</td>\n",
       "      <td>rd</td>\n",
       "      <td>xxxx</td>\n",
       "      <td>iot</td>\n",
       "      <td>3</td>\n",
       "      <td>20220630</td>\n",
       "      <td>1300</td>\n",
       "      <td>17</td>\n",
       "      <td>I-CHANGE</td>\n",
       "      <td>20220630</td>\n",
       "      <td>1300</td>\n",
       "      <td>141.148972</td>\n",
       "      <td>319.850006</td>\n",
       "      <td>44.499550</td>\n",
       "      <td>11.354349</td>\n",
       "      <td>12.833333</td>\n",
       "    </tr>\n",
       "    <tr>\n",
       "      <th>4794</th>\n",
       "      <td>meteotracker</td>\n",
       "      <td>bologna_living_lab_4</td>\n",
       "      <td>62bda5d4edb2ca4efd101c4d</td>\n",
       "      <td>humidity_index</td>\n",
       "      <td>rd</td>\n",
       "      <td>xxxx</td>\n",
       "      <td>iot</td>\n",
       "      <td>3</td>\n",
       "      <td>20220630</td>\n",
       "      <td>1300</td>\n",
       "      <td>17</td>\n",
       "      <td>I-CHANGE</td>\n",
       "      <td>20220630</td>\n",
       "      <td>1300</td>\n",
       "      <td>141.148972</td>\n",
       "      <td>319.950012</td>\n",
       "      <td>44.499550</td>\n",
       "      <td>11.354349</td>\n",
       "      <td>12.883333</td>\n",
       "    </tr>\n",
       "    <tr>\n",
       "      <th>4795</th>\n",
       "      <td>meteotracker</td>\n",
       "      <td>bologna_living_lab_4</td>\n",
       "      <td>62bda5d4edb2ca4efd101c4d</td>\n",
       "      <td>humidity_index</td>\n",
       "      <td>rd</td>\n",
       "      <td>xxxx</td>\n",
       "      <td>iot</td>\n",
       "      <td>3</td>\n",
       "      <td>20220630</td>\n",
       "      <td>1300</td>\n",
       "      <td>17</td>\n",
       "      <td>I-CHANGE</td>\n",
       "      <td>20220630</td>\n",
       "      <td>1300</td>\n",
       "      <td>141.148972</td>\n",
       "      <td>318.750000</td>\n",
       "      <td>44.499561</td>\n",
       "      <td>11.354325</td>\n",
       "      <td>12.933333</td>\n",
       "    </tr>\n",
       "    <tr>\n",
       "      <th>4796</th>\n",
       "      <td>meteotracker</td>\n",
       "      <td>bologna_living_lab_4</td>\n",
       "      <td>62bda5d4edb2ca4efd101c4d</td>\n",
       "      <td>humidity_index</td>\n",
       "      <td>rd</td>\n",
       "      <td>xxxx</td>\n",
       "      <td>iot</td>\n",
       "      <td>3</td>\n",
       "      <td>20220630</td>\n",
       "      <td>1300</td>\n",
       "      <td>17</td>\n",
       "      <td>I-CHANGE</td>\n",
       "      <td>20220630</td>\n",
       "      <td>1300</td>\n",
       "      <td>141.148972</td>\n",
       "      <td>319.250000</td>\n",
       "      <td>44.499538</td>\n",
       "      <td>11.354254</td>\n",
       "      <td>12.983334</td>\n",
       "    </tr>\n",
       "    <tr>\n",
       "      <th>4797</th>\n",
       "      <td>meteotracker</td>\n",
       "      <td>bologna_living_lab_4</td>\n",
       "      <td>62bda5d4edb2ca4efd101c4d</td>\n",
       "      <td>humidity_index</td>\n",
       "      <td>rd</td>\n",
       "      <td>xxxx</td>\n",
       "      <td>iot</td>\n",
       "      <td>3</td>\n",
       "      <td>20220630</td>\n",
       "      <td>1300</td>\n",
       "      <td>17</td>\n",
       "      <td>I-CHANGE</td>\n",
       "      <td>20220630</td>\n",
       "      <td>1300</td>\n",
       "      <td>141.148972</td>\n",
       "      <td>318.850006</td>\n",
       "      <td>44.499554</td>\n",
       "      <td>11.354147</td>\n",
       "      <td>13.033334</td>\n",
       "    </tr>\n",
       "  </tbody>\n",
       "</table>\n",
       "<p>4798 rows × 19 columns</p>\n",
       "</div>"
      ],
      "text/plain": [
       "          platform           source_name                 source_id  \\\n",
       "0     meteotracker   genova_living_lab_1  62ab72c11d8e11061d32002a   \n",
       "1     meteotracker   genova_living_lab_1  62ab72c11d8e11061d32002a   \n",
       "2     meteotracker   genova_living_lab_1  62ab72c11d8e11061d32002a   \n",
       "3     meteotracker   genova_living_lab_1  62ab72c11d8e11061d32002a   \n",
       "4     meteotracker   genova_living_lab_1  62ab72c11d8e11061d32002a   \n",
       "...            ...                   ...                       ...   \n",
       "4793  meteotracker  bologna_living_lab_4  62bda5d4edb2ca4efd101c4d   \n",
       "4794  meteotracker  bologna_living_lab_4  62bda5d4edb2ca4efd101c4d   \n",
       "4795  meteotracker  bologna_living_lab_4  62bda5d4edb2ca4efd101c4d   \n",
       "4796  meteotracker  bologna_living_lab_4  62bda5d4edb2ca4efd101c4d   \n",
       "4797  meteotracker  bologna_living_lab_4  62bda5d4edb2ca4efd101c4d   \n",
       "\n",
       "              observation_variable class expver stream  reportype    andate  \\\n",
       "0     air_temperature_near_surface    rd   xxxx    iot          1  20220616   \n",
       "1     air_temperature_near_surface    rd   xxxx    iot          1  20220616   \n",
       "2     air_temperature_near_surface    rd   xxxx    iot          1  20220616   \n",
       "3     air_temperature_near_surface    rd   xxxx    iot          1  20220616   \n",
       "4     air_temperature_near_surface    rd   xxxx    iot          1  20220616   \n",
       "...                            ...   ...    ...    ...        ...       ...   \n",
       "4793                humidity_index    rd   xxxx    iot          3  20220630   \n",
       "4794                humidity_index    rd   xxxx    iot          3  20220630   \n",
       "4795                humidity_index    rd   xxxx    iot          3  20220630   \n",
       "4796                humidity_index    rd   xxxx    iot          3  20220630   \n",
       "4797                humidity_index    rd   xxxx    iot          3  20220630   \n",
       "\n",
       "      antime  groupid@hdr   project      date  time    altitude  \\\n",
       "0       1800           17  I-CHANGE  20220616  1800  149.511093   \n",
       "1       1800           17  I-CHANGE  20220616  1800  149.511093   \n",
       "2       1800           17  I-CHANGE  20220616  1800  141.148972   \n",
       "3       1800           17  I-CHANGE  20220616  1800  141.148972   \n",
       "4       1800           17  I-CHANGE  20220616  1800  141.148972   \n",
       "...      ...          ...       ...       ...   ...         ...   \n",
       "4793    1300           17  I-CHANGE  20220630  1300  141.148972   \n",
       "4794    1300           17  I-CHANGE  20220630  1300  141.148972   \n",
       "4795    1300           17  I-CHANGE  20220630  1300  141.148972   \n",
       "4796    1300           17  I-CHANGE  20220630  1300  141.148972   \n",
       "4797    1300           17  I-CHANGE  20220630  1300  141.148972   \n",
       "\n",
       "      observed_value        lat        lon    minutes  \n",
       "0         303.049988  44.400051   8.674493  13.250000  \n",
       "1         302.250000  44.400135   8.674781  13.300000  \n",
       "2         301.649994  44.400219   8.675081  13.350000  \n",
       "3         301.350006  44.400352   8.675219  13.400000  \n",
       "4         301.049988  44.400509   8.675051  13.450000  \n",
       "...              ...        ...        ...        ...  \n",
       "4793      319.850006  44.499550  11.354349  12.833333  \n",
       "4794      319.950012  44.499550  11.354349  12.883333  \n",
       "4795      318.750000  44.499561  11.354325  12.933333  \n",
       "4796      319.250000  44.499538  11.354254  12.983334  \n",
       "4797      318.850006  44.499554  11.354147  13.033334  \n",
       "\n",
       "[4798 rows x 19 columns]"
      ]
     },
     "execution_count": 8,
     "metadata": {},
     "output_type": "execute_result"
    }
   ],
   "source": [
    "# Obtain a particular station by id\n",
    "\n",
    "\n",
    "station = max(stations, key = lambda s : dt.fromisoformat(s[\"stop_time\"]))\n",
    "\n",
    "source_id = station[\"external_id\"]\n",
    "platform = station[\"platform\"]\n",
    "parameter = \"air_temperature_near_surface\"\n",
    "\n",
    "start_time = datetime.fromisoformat(station[\"start_time\"])\n",
    "stop_time = datetime.fromisoformat(station[\"stop_time\"])\n",
    "timespan = stop_time - start_time\n",
    "\n",
    "print(f\"\"\"\n",
    "{source_id = }\n",
    "{platform = }\n",
    "{parameter = }\n",
    "{start_time = }\n",
    "{stop_time = }\n",
    "{timespan = }\n",
    "\"\"\")\n",
    "\n",
    "mars_request = {\n",
    "    'project' : 'public',\n",
    "    'platform' : 'meteotracker',\n",
    "    'variable' : parameter,\n",
    "    'datetime' : start_time,\n",
    "    'format' : 'csv' # json, csv or odb\n",
    "}\n",
    "\n",
    "data = polytope_client.retrieve('iot', mars_request)\n",
    "print(f\"{len(data) = }\")\n",
    "df = pd.read_csv(BytesIO(data[0]))\n",
    "\n",
    "for column in df.columns:\n",
    "    if df[column].nunique() < 10: print(f\"{column} unique entries: {df[column].unique()}\")\n",
    "\n",
    "df"
   ]
  },
  {
   "cell_type": "code",
   "execution_count": 9,
   "id": "d2b286d6-e6fb-4579-819b-e40001f800c5",
   "metadata": {},
   "outputs": [
    {
     "ename": "NameError",
     "evalue": "name 'gpd' is not defined",
     "output_type": "error",
     "traceback": [
      "\u001b[0;31m---------------------------------------------------------------------------\u001b[0m",
      "\u001b[0;31mNameError\u001b[0m                                 Traceback (most recent call last)",
      "Cell \u001b[0;32mIn[9], line 1\u001b[0m\n\u001b[0;32m----> 1\u001b[0m geo_df \u001b[38;5;241m=\u001b[39m \u001b[43mgpd\u001b[49m\u001b[38;5;241m.\u001b[39mGeoDataFrame(df, geometry\u001b[38;5;241m=\u001b[39mgpd\u001b[38;5;241m.\u001b[39mpoints_from_xy(df\u001b[38;5;241m.\u001b[39mlon, df\u001b[38;5;241m.\u001b[39mlat), crs\u001b[38;5;241m=\u001b[39m\u001b[38;5;241m4326\u001b[39m)\n\u001b[1;32m      3\u001b[0m geo_df\u001b[38;5;241m.\u001b[39mexplore(column \u001b[38;5;241m=\u001b[39m \u001b[38;5;124m\"\u001b[39m\u001b[38;5;124maltitude\u001b[39m\u001b[38;5;124m\"\u001b[39m)\n",
      "\u001b[0;31mNameError\u001b[0m: name 'gpd' is not defined"
     ]
    }
   ],
   "source": [
    "geo_df = gpd.GeoDataFrame(df, geometry=gpd.points_from_xy(df.lon, df.lat), crs=4326)\n",
    "\n",
    "geo_df.explore(column = \"altitude\")"
   ]
  },
  {
   "cell_type": "markdown",
   "id": "10831add-47da-4736-a612-7b62bdc46d7c",
   "metadata": {},
   "source": [
    "## Filtering data granules with SQL queries"
   ]
  },
  {
   "cell_type": "code",
   "execution_count": 10,
   "id": "00e8c048-0073-4174-be3f-c8c7d5ca8b11",
   "metadata": {
    "scrolled": true
   },
   "outputs": [
    {
     "name": "stderr",
     "output_type": "stream",
     "text": [
      "2024-10-09 13:59:41 - INFO - Sending request...\n",
      "{'request': \"datetime: '2024-04-09T11:31:24.011000+00:00'\\n\"\n",
      "            'filter: select * from result where source_id = '\n",
      "            \"'66152710f5c2613269425a01';\\n\"\n",
      "            'format: csv\\n'\n",
      "            'observation_variable: air_temperature_near_surface\\n'\n",
      "            'platform: meteotracker\\n'\n",
      "            'project: public\\n',\n",
      " 'verb': 'retrieve'}\n"
     ]
    },
    {
     "name": "stdout",
     "output_type": "stream",
     "text": [
      "{'project': 'public', 'platform': 'meteotracker', 'observation_variable': 'air_temperature_near_surface', 'datetime': '2024-04-09T11:31:24.011000+00:00', 'filter': \"select * from result where source_id = '66152710f5c2613269425a01';\", 'format': 'csv'}\n"
     ]
    },
    {
     "name": "stderr",
     "output_type": "stream",
     "text": [
      "2024-10-09 13:59:41 - INFO - Request accepted. Please poll ../requests/1cd43cbd-1233-4b5f-b785-7da6b94803cd for status\n",
      "2024-10-09 13:59:41 - INFO - Checking request status (1cd43cbd-1233-4b5f-b785-7da6b94803cd)...\n",
      "2024-10-09 13:59:42 - INFO - The current status of the request is 'queued'\n",
      "2024-10-09 13:59:43 - INFO - The current status of the request is 'processed'\n",
      "2024-10-09 13:59:43 - INFO - Starting data download (application/octet-stream)...\n"
     ]
    },
    {
     "name": "stdout",
     "output_type": "stream",
     "text": [
      "len(data) = 1\n"
     ]
    },
    {
     "data": {
      "text/html": [
       "<div>\n",
       "<style scoped>\n",
       "    .dataframe tbody tr th:only-of-type {\n",
       "        vertical-align: middle;\n",
       "    }\n",
       "\n",
       "    .dataframe tbody tr th {\n",
       "        vertical-align: top;\n",
       "    }\n",
       "\n",
       "    .dataframe thead th {\n",
       "        text-align: right;\n",
       "    }\n",
       "</style>\n",
       "<table border=\"1\" class=\"dataframe\">\n",
       "  <thead>\n",
       "    <tr style=\"text-align: right;\">\n",
       "      <th></th>\n",
       "      <th>platform</th>\n",
       "      <th>source_name</th>\n",
       "      <th>source_id</th>\n",
       "      <th>observation_variable</th>\n",
       "      <th>class</th>\n",
       "      <th>expver</th>\n",
       "      <th>stream</th>\n",
       "      <th>reportype</th>\n",
       "      <th>andate</th>\n",
       "      <th>antime</th>\n",
       "      <th>groupid@hdr</th>\n",
       "      <th>project</th>\n",
       "      <th>date</th>\n",
       "      <th>time</th>\n",
       "      <th>altitude</th>\n",
       "      <th>observed_value</th>\n",
       "      <th>lat</th>\n",
       "      <th>lon</th>\n",
       "      <th>minutes</th>\n",
       "    </tr>\n",
       "  </thead>\n",
       "  <tbody>\n",
       "  </tbody>\n",
       "</table>\n",
       "</div>"
      ],
      "text/plain": [
       "Empty DataFrame\n",
       "Columns: [platform, source_name, source_id, observation_variable, class, expver, stream, reportype, andate, antime, groupid@hdr, project, date, time, altitude, observed_value, lat, lon, minutes]\n",
       "Index: []"
      ]
     },
     "execution_count": 10,
     "metadata": {},
     "output_type": "execute_result"
    }
   ],
   "source": [
    "mars_request = {\n",
    "    \"project\" : \"public\", # This key will be used for access control and will change to 'ichange' in future versions\n",
    "    \"platform\" : platform,\n",
    "    \"observation_variable\" : parameter,\n",
    "    \"datetime\": start_time.isoformat(),\n",
    "    \"filter\" : f\"select * from result where source_id = '{source_id}';\",\n",
    "    \"format\" : \"csv\",\n",
    "}\n",
    "\n",
    "print(mars_request)\n",
    "\n",
    "\n",
    "data = polytope_client.retrieve('iot', mars_request)\n",
    "print(f\"{len(data) = }\")\n",
    "\n",
    "df = pd.read_csv(BytesIO(data[0]))\n",
    "# assert(list(df[\"source_id\"].unique()) == [source_id,])\n",
    "\n",
    "df"
   ]
  },
  {
   "cell_type": "code",
   "execution_count": 11,
   "id": "1ca1561e-2d61-4a77-87d1-b332244c689b",
   "metadata": {},
   "outputs": [
    {
     "name": "stderr",
     "output_type": "stream",
     "text": [
      "2024-10-09 14:00:24 - INFO - Sending request...\n",
      "{'request': \"datetime: '2024-04-09T11:31:24.011000+00:00'\\n\"\n",
      "            'filter: select lat,lon,observed_value from result where source_id '\n",
      "            \"= '66152710f5c2613269425a01';\\n\"\n",
      "            'format: csv\\n'\n",
      "            'observation_variable: air_temperature_near_surface\\n'\n",
      "            'platform: meteotracker\\n'\n",
      "            'project: public\\n',\n",
      " 'verb': 'retrieve'}\n"
     ]
    },
    {
     "name": "stdout",
     "output_type": "stream",
     "text": [
      "{'project': 'public', 'platform': 'meteotracker', 'observation_variable': 'air_temperature_near_surface', 'datetime': '2024-04-09T11:31:24.011000+00:00', 'filter': \"select lat,lon,observed_value from result where source_id = '66152710f5c2613269425a01';\", 'format': 'csv'}\n"
     ]
    },
    {
     "name": "stderr",
     "output_type": "stream",
     "text": [
      "2024-10-09 14:00:25 - INFO - Request accepted. Please poll ../requests/0bbc4273-c88c-4fd3-aca9-c83263c778fb for status\n",
      "2024-10-09 14:00:25 - INFO - Checking request status (0bbc4273-c88c-4fd3-aca9-c83263c778fb)...\n",
      "2024-10-09 14:00:25 - INFO - The current status of the request is 'processed'\n",
      "2024-10-09 14:00:25 - INFO - Starting data download (application/octet-stream)...\n"
     ]
    },
    {
     "name": "stdout",
     "output_type": "stream",
     "text": [
      "len(data) = 1\n"
     ]
    },
    {
     "data": {
      "text/html": [
       "<div>\n",
       "<style scoped>\n",
       "    .dataframe tbody tr th:only-of-type {\n",
       "        vertical-align: middle;\n",
       "    }\n",
       "\n",
       "    .dataframe tbody tr th {\n",
       "        vertical-align: top;\n",
       "    }\n",
       "\n",
       "    .dataframe thead th {\n",
       "        text-align: right;\n",
       "    }\n",
       "</style>\n",
       "<table border=\"1\" class=\"dataframe\">\n",
       "  <thead>\n",
       "    <tr style=\"text-align: right;\">\n",
       "      <th></th>\n",
       "      <th>lat</th>\n",
       "      <th>lon</th>\n",
       "      <th>observed_value</th>\n",
       "    </tr>\n",
       "  </thead>\n",
       "  <tbody>\n",
       "  </tbody>\n",
       "</table>\n",
       "</div>"
      ],
      "text/plain": [
       "Empty DataFrame\n",
       "Columns: [lat, lon, observed_value]\n",
       "Index: []"
      ]
     },
     "execution_count": 11,
     "metadata": {},
     "output_type": "execute_result"
    }
   ],
   "source": [
    "mars_request = {\n",
    "    \"project\" : \"public\", # This key will be used for access control and will change to 'ichange' in future versions\n",
    "    \"platform\" : platform,\n",
    "    \"observation_variable\" : parameter,\n",
    "    \"datetime\": start_time.isoformat(),\n",
    "    \"filter\" : f\"select lat,lon,observed_value from result where source_id = '{source_id}';\",\n",
    "    \"format\" : \"csv\",\n",
    "}\n",
    "\n",
    "print(mars_request)\n",
    "\n",
    "\n",
    "data = polytope_client.retrieve('iot', mars_request)\n",
    "print(f\"{len(data) = }\")\n",
    "\n",
    "df = pd.read_csv(BytesIO(data[0]))\n",
    "# assert(list(df[\"source_id\"].unique()) == [source_id,])\n",
    "\n",
    "df"
   ]
  },
  {
   "cell_type": "code",
   "execution_count": null,
   "id": "06519ffb-9b55-44b9-95d4-3ce70b4f8a57",
   "metadata": {},
   "outputs": [],
   "source": [
    "mars_request = {\n",
    "    \"project\" : \"public\",\n",
    "    \"platform\" : platform,\n",
    "    \"observation_variable\" : parameter,\n",
    "    \"datetime\": start_time.isoformat(),\n",
    "    \"filter\" : f\"select * from result where source_name like 'genova_living_lab%';\",\n",
    "    \"format\" : \"csv\",\n",
    "}\n",
    "\n",
    "data = polytope_client.retrieve('iot', mars_request)\n",
    "print(f\"{len(data) = }\")\n",
    "\n",
    "df = pd.read_csv(BytesIO(data[0]))\n",
    "df"
   ]
  },
  {
   "cell_type": "markdown",
   "id": "3a95b4f3-d17e-4be8-8046-f37fbc8b8ec2",
   "metadata": {},
   "source": [
    "## Direct REST API\n"
   ]
  },
  {
   "cell_type": "code",
   "execution_count": null,
   "id": "fa5a3a0f-42e3-4fd9-9194-52f050bb9bd1",
   "metadata": {},
   "outputs": [],
   "source": [
    "mars_request = {\n",
    "    \"project\" : \"public\", # This key will be used for access control and will change to 'ichange' in future versions\n",
    "    \"platform\" : platform,\n",
    "    \"observation_variable\" : 'air_temperature_near_surface',\n",
    "    \"datetime\": start_time.isoformat(),\n",
    "    \"filter\" : f\"select * from result where source_id = '{source_id}';\",\n",
    "    \"format\" : \"csv\",\n",
    "}\n",
    "\n",
    "list_resp = session.get(url + \"list\", params = mars_request)\n",
    "list_resp.json()"
   ]
  },
  {
   "cell_type": "code",
   "execution_count": null,
   "id": "1f5bb151-994d-4a23-92e7-ae6e7ecfafcb",
   "metadata": {},
   "outputs": [],
   "source": [
    "data = session.get(url + \"retrieve\", params = mars_request)"
   ]
  },
  {
   "cell_type": "code",
   "execution_count": null,
   "id": "d4a8999a-12b1-4386-aa74-7bd722df9cd2",
   "metadata": {},
   "outputs": [],
   "source": [
    "data.content"
   ]
  },
  {
   "cell_type": "code",
   "execution_count": null,
   "id": "c0d8cb3f-e575-44e9-a937-639d3869e4b5",
   "metadata": {},
   "outputs": [],
   "source": []
  },
  {
   "cell_type": "code",
   "execution_count": null,
   "id": "80e1ca50-94cc-4659-af8d-9496c558ff58",
   "metadata": {},
   "outputs": [],
   "source": []
  }
 ],
 "metadata": {
  "kernelspec": {
   "display_name": "Python [conda env:micromamba-ionbeam]",
   "language": "python",
   "name": "conda-env-micromamba-ionbeam-py"
  },
  "language_info": {
   "codemirror_mode": {
    "name": "ipython",
    "version": 3
   },
   "file_extension": ".py",
   "mimetype": "text/x-python",
   "name": "python",
   "nbconvert_exporter": "python",
   "pygments_lexer": "ipython3",
   "version": "3.12.7"
  }
 },
 "nbformat": 4,
 "nbformat_minor": 5
}
