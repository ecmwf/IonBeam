{
 "cells": [
  {
   "cell_type": "code",
   "execution_count": 1,
   "id": "022baf28-3d0c-4811-9557-6688e26ae262",
   "metadata": {
    "tags": []
   },
   "outputs": [],
   "source": [
    "%load_ext autoreload\n",
    "%autoreload 2"
   ]
  },
  {
   "cell_type": "code",
   "execution_count": 2,
   "id": "1f569aad-2816-4469-b3e4-f393de3baad9",
   "metadata": {},
   "outputs": [],
   "source": [
    "# !pip install wurlitzer"
   ]
  },
  {
   "cell_type": "code",
   "execution_count": 3,
   "id": "0d0d0b9e-057e-4fe7-b8bb-f5bd8d4f2bc1",
   "metadata": {},
   "outputs": [],
   "source": [
    "%load_ext wurlitzer"
   ]
  },
  {
   "cell_type": "code",
   "execution_count": 4,
   "id": "2d085329-f93a-4619-bd41-b356db95be52",
   "metadata": {
    "tags": []
   },
   "outputs": [],
   "source": [
    "import pandas as pd\n",
    "import numpy as np\n",
    "import logging\n",
    "logging.basicConfig(level = logging.INFO)"
   ]
  },
  {
   "cell_type": "code",
   "execution_count": 5,
   "id": "08cae1da-ed7b-4b3a-8d49-e7a5f7a8a75f",
   "metadata": {},
   "outputs": [
    {
     "name": "stdout",
     "output_type": "stream",
     "text": [
      "Using fdb5 shared library from /Users/math/micromamba/envs/ionbeam/lib/libfdb5.dylib\n",
      "Using metkit shared library from /Users/math/micromamba/envs/ionbeam/lib/libmetkit.dylib\n",
      "\n",
      "Contents of /Users/math/micromamba/envs/ionbeam/share/metkit/odb/marsrequest.yaml:\n",
      " ---\n",
      "PLATFORM: platform\n",
      "OBSERVATION_VARIABLE: observation_variable\n",
      "Fields defined in /Users/math/micromamba/envs/ionbeam/share/metkit/language.yaml:\n",
      " observation_variable platform class type stream expver dataset model repres obsgroup reportype levtype levelist param date hdate offsetdate fcmonth fcperiod time offsettime step anoffset reference number quantile domain frequency direction diagnostic iteration channel ident instrument method origin system\n"
     ]
    }
   ],
   "source": [
    "import pyfdb\n",
    "import findlibs\n",
    "import yaml\n",
    "from pathlib import Path\n",
    "import os\n",
    "import pandas as pd\n",
    "import pyodc\n",
    "import shutil\n",
    "\n",
    "fdb5_path = Path(findlibs.find(\"fdb5\"))\n",
    "metkit_path = Path(findlibs.find(\"metkit\"))\n",
    "print(f\"Using fdb5 shared library from {fdb5_path}\")\n",
    "print(f\"Using metkit shared library from {metkit_path}\")\n",
    "\n",
    "marsrequest = (metkit_path.parents[1] / \"share/metkit/odb/marsrequest.yaml\").resolve()\n",
    "languages = (metkit_path.parents[1] / \"share/metkit/language.yaml\").resolve() \n",
    "\n",
    "print(f\"\\nContents of {marsrequest}:\\n\", marsrequest.open().read())\n",
    "\n",
    "fields = \" \".join(yaml.safe_load(languages.open().read())[\"_field\"].keys())\n",
    "print(f\"Fields defined in {languages}:\\n {fields}\")"
   ]
  },
  {
   "cell_type": "code",
   "execution_count": 6,
   "id": "dd2b473c-910c-476f-bbc6-734c7497679f",
   "metadata": {
    "tags": []
   },
   "outputs": [
    {
     "name": "stderr",
     "output_type": "stream",
     "text": [
      "WARNING:ionbeam.core.config_parser.config_parser:Configuration Directory: /Users/math/git/IonBeam-Deployment/config/ionbeam\n",
      "WARNING:ionbeam.core.config_parser.config_parser:Global config file: /Users/math/git/IonBeam-Deployment/config/ionbeam/config.yaml\n"
     ]
    },
    {
     "ename": "ConfigError",
     "evalue": "While parsing key='actions', _type=typing.List[ionbeam.core.bases.Action], value=[{'class': 'SmartCitizenKitSource', 'copy_metadata_to_columns': [{'name': 'sensor.name', 'column': 'sensor_name', '__line__': 4}], '__line__': 2}], got exception \n\t\tWhile parsing key='element 0', _type=<class 'ionbeam.core.bases.Action'>, value={'class': 'SmartCitizenKitSource', 'copy_metadata_to_columns': [{'name': 'sensor.name', 'column': 'sensor_name', '__line__': 4}], '__line__': 2}, got exception \n\t\tWhile parsing key='copy_metadata_to_columns', _type=list[ionbeam.core.bases.InputColumn], value=[{'name': 'sensor.name', 'column': 'sensor_name', '__line__': 4}], got exception \n\t\tWhile parsing key='element 0', _type=<class 'ionbeam.core.bases.InputColumn'>, value={'name': 'sensor.name', 'column': 'sensor_name', '__line__': 4}, got exception \n\t\tInvalid config yaml entry\n        /Users/math/git/IonBeam-Deployment/config/ionbeam/smart_citizen_kit/actions.yaml:4\n        Determined the type to be 'InputColumn', check this is right.\n        Extra keys: {'column'}\n        Missing keys: set()\n        Default keys (for reference): {'unit', 'discard', 'key', 'canonical_variable', 'type'}\n\n        Values in the entry:\n        {'name': 'sensor.name', 'column': 'sensor_name', '__line__': 4}\n        ",
     "output_type": "error",
     "traceback": [
      "\u001b[0;31m---------------------------------------------------------------------------\u001b[0m",
      "\u001b[0;31mConfigMatchError\u001b[0m                          Traceback (most recent call last)",
      "File \u001b[0;32m~/git/IonBeam-deployment/docker/IonBeam/src/ionbeam/core/config_parser/config_parser_machinery.py:266\u001b[0m, in \u001b[0;36mparse_field\u001b[0;34m(context, key, _type, value)\u001b[0m\n\u001b[1;32m    265\u001b[0m     \u001b[38;5;66;03m# print(key, _type, value, datacls)\u001b[39;00m\n\u001b[0;32m--> 266\u001b[0m     \u001b[38;5;28;01mreturn\u001b[39;00m \u001b[43mdataclass_from_dict\u001b[49m\u001b[43m(\u001b[49m\u001b[43mcontext\u001b[49m\u001b[43m,\u001b[49m\u001b[43m \u001b[49m\u001b[43mdatacls\u001b[49m\u001b[43m,\u001b[49m\u001b[43m \u001b[49m\u001b[43mvalue\u001b[49m\u001b[43m)\u001b[49m\n\u001b[1;32m    268\u001b[0m \u001b[38;5;28;01mif\u001b[39;00m is_union(_type):\n",
      "File \u001b[0;32m~/git/IonBeam-deployment/docker/IonBeam/src/ionbeam/core/config_parser/config_parser_machinery.py:304\u001b[0m, in \u001b[0;36mdataclass_from_dict\u001b[0;34m(context, datacls, input_dict)\u001b[0m\n\u001b[1;32m    302\u001b[0m     context\u001b[38;5;241m.\u001b[39moverlay \u001b[38;5;241m=\u001b[39m \u001b[38;5;28;01mTrue\u001b[39;00m\n\u001b[0;32m--> 304\u001b[0m \u001b[43mcheck_matching\u001b[49m\u001b[43m(\u001b[49m\u001b[43mcontext\u001b[49m\u001b[43m,\u001b[49m\u001b[43m \u001b[49m\u001b[43mdatacls\u001b[49m\u001b[43m,\u001b[49m\u001b[43m \u001b[49m\u001b[43minput_dict\u001b[49m\u001b[43m)\u001b[49m\n\u001b[1;32m    306\u001b[0m kwargs \u001b[38;5;241m=\u001b[39m {\n\u001b[1;32m    307\u001b[0m         field\u001b[38;5;241m.\u001b[39mname: parse_field(context, field\u001b[38;5;241m.\u001b[39mname, field\u001b[38;5;241m.\u001b[39mtype, input_dict[field\u001b[38;5;241m.\u001b[39mname])\n\u001b[1;32m    308\u001b[0m                     \u001b[38;5;28;01mif\u001b[39;00m field\u001b[38;5;241m.\u001b[39mname \u001b[38;5;129;01min\u001b[39;00m input_dict \u001b[38;5;28;01melse\u001b[39;00m MISSING_OVERLAY \u001b[38;5;66;03m# If the field is missing and it's an overlay, set it to None\u001b[39;00m\n\u001b[1;32m    309\u001b[0m         \u001b[38;5;28;01mfor\u001b[39;00m field \u001b[38;5;129;01min\u001b[39;00m fields(datacls)\n\u001b[1;32m    310\u001b[0m         \u001b[38;5;28;01mif\u001b[39;00m field\u001b[38;5;241m.\u001b[39mname \u001b[38;5;129;01min\u001b[39;00m input_dict \u001b[38;5;129;01mor\u001b[39;00m context\u001b[38;5;241m.\u001b[39moverlay \u001b[38;5;66;03m# If it's not an overlay, skip this field\u001b[39;00m\n\u001b[1;32m    311\u001b[0m     }\n",
      "File \u001b[0;32m~/git/IonBeam-deployment/docker/IonBeam/src/ionbeam/core/config_parser/config_parser_machinery.py:54\u001b[0m, in \u001b[0;36mcheck_matching\u001b[0;34m(context, datacls, input_dict)\u001b[0m\n\u001b[1;32m     53\u001b[0m \u001b[38;5;28;01mif\u001b[39;00m diff \u001b[38;5;241m-\u001b[39m ignored_keys:\n\u001b[0;32m---> 54\u001b[0m     \u001b[38;5;28;01mraise\u001b[39;00m ConfigMatchError(\n\u001b[1;32m     55\u001b[0m         \u001b[38;5;124mf\u001b[39m\u001b[38;5;124m\"\"\"\u001b[39m\u001b[38;5;124mInvalid config yaml entry\u001b[39m\n\u001b[1;32m     56\u001b[0m \u001b[38;5;124m    \u001b[39m\u001b[38;5;132;01m{\u001b[39;00mcontext\u001b[38;5;241m.\u001b[39mfilepath\u001b[38;5;132;01m}\u001b[39;00m\u001b[38;5;124m:\u001b[39m\u001b[38;5;132;01m{\u001b[39;00minput_dict\u001b[38;5;241m.\u001b[39mget(LINE_KEY,\u001b[38;5;250m \u001b[39m\u001b[38;5;124m'\u001b[39m\u001b[38;5;124m?\u001b[39m\u001b[38;5;124m'\u001b[39m)\u001b[38;5;132;01m}\u001b[39;00m\n\u001b[1;32m     57\u001b[0m \u001b[38;5;124m    Determined the type to be \u001b[39m\u001b[38;5;124m'\u001b[39m\u001b[38;5;132;01m{\u001b[39;00mdatacls\u001b[38;5;241m.\u001b[39m\u001b[38;5;18m__name__\u001b[39m\u001b[38;5;132;01m}\u001b[39;00m\u001b[38;5;124m'\u001b[39m\u001b[38;5;124m, check this is right.\u001b[39m\n\u001b[1;32m     58\u001b[0m \u001b[38;5;124m    Extra keys: \u001b[39m\u001b[38;5;132;01m{\u001b[39;00minput_keys\u001b[38;5;250m \u001b[39m\u001b[38;5;241m-\u001b[39m\u001b[38;5;250m \u001b[39mdatacls_keys\u001b[38;5;250m \u001b[39m\u001b[38;5;241m-\u001b[39m\u001b[38;5;250m \u001b[39mignored_keys\u001b[38;5;132;01m}\u001b[39;00m\n\u001b[1;32m     59\u001b[0m \u001b[38;5;124m    Missing keys: \u001b[39m\u001b[38;5;132;01m{\u001b[39;00mdatacls_keys\u001b[38;5;250m \u001b[39m\u001b[38;5;241m-\u001b[39m\u001b[38;5;250m \u001b[39minput_keys\u001b[38;5;250m \u001b[39m\u001b[38;5;241m-\u001b[39m\u001b[38;5;250m \u001b[39mignored_keys\u001b[38;5;132;01m}\u001b[39;00m\n\u001b[1;32m     60\u001b[0m \u001b[38;5;124m    Default keys (for reference): \u001b[39m\u001b[38;5;132;01m{\u001b[39;00mdefault_keys\u001b[38;5;132;01m}\u001b[39;00m\n\u001b[1;32m     61\u001b[0m \n\u001b[1;32m     62\u001b[0m \u001b[38;5;124m    Values in the entry:\u001b[39m\n\u001b[1;32m     63\u001b[0m \u001b[38;5;124m    \u001b[39m\u001b[38;5;132;01m{\u001b[39;00minput_dict\u001b[38;5;132;01m}\u001b[39;00m\n\u001b[1;32m     64\u001b[0m \u001b[38;5;124m    \u001b[39m\u001b[38;5;124m\"\"\"\u001b[39m\n\u001b[1;32m     65\u001b[0m     )\n",
      "\u001b[0;31mConfigMatchError\u001b[0m: Invalid config yaml entry\n        /Users/math/git/IonBeam-Deployment/config/ionbeam/smart_citizen_kit/actions.yaml:4\n        Determined the type to be 'InputColumn', check this is right.\n        Extra keys: {'column'}\n        Missing keys: set()\n        Default keys (for reference): {'unit', 'discard', 'key', 'canonical_variable', 'type'}\n\n        Values in the entry:\n        {'name': 'sensor.name', 'column': 'sensor_name', '__line__': 4}\n        ",
      "\nDuring handling of the above exception, another exception occurred:\n",
      "\u001b[0;31mConfigError\u001b[0m                               Traceback (most recent call last)",
      "File \u001b[0;32m~/git/IonBeam-deployment/docker/IonBeam/src/ionbeam/core/config_parser/config_parser_machinery.py:272\u001b[0m, in \u001b[0;36mparse_field\u001b[0;34m(context, key, _type, value)\u001b[0m\n\u001b[1;32m    271\u001b[0m \u001b[38;5;28;01mif\u001b[39;00m is_list(_type):\n\u001b[0;32m--> 272\u001b[0m     \u001b[38;5;28;01mreturn\u001b[39;00m \u001b[43mparse_list\u001b[49m\u001b[43m(\u001b[49m\u001b[43mcontext\u001b[49m\u001b[43m,\u001b[49m\u001b[43m \u001b[49m\u001b[43mkey\u001b[49m\u001b[43m,\u001b[49m\u001b[43m \u001b[49m\u001b[43m_type\u001b[49m\u001b[43m,\u001b[49m\u001b[43m \u001b[49m\u001b[43mvalue\u001b[49m\u001b[43m)\u001b[49m\n\u001b[1;32m    274\u001b[0m \u001b[38;5;28;01mif\u001b[39;00m is_literal(_type):\n",
      "File \u001b[0;32m~/git/IonBeam-deployment/docker/IonBeam/src/ionbeam/core/config_parser/config_parser_machinery.py:190\u001b[0m, in \u001b[0;36mparse_list\u001b[0;34m(context, key, list_type, value)\u001b[0m\n\u001b[1;32m    189\u001b[0m contained_type \u001b[38;5;241m=\u001b[39m args[\u001b[38;5;241m0\u001b[39m]\n\u001b[0;32m--> 190\u001b[0m \u001b[38;5;28;01mreturn\u001b[39;00m \u001b[43m[\u001b[49m\u001b[43mparse_field\u001b[49m\u001b[43m(\u001b[49m\u001b[43mcontext\u001b[49m\u001b[43m,\u001b[49m\u001b[43m \u001b[49m\u001b[38;5;124;43mf\u001b[39;49m\u001b[38;5;124;43m\"\u001b[39;49m\u001b[38;5;124;43melement \u001b[39;49m\u001b[38;5;132;43;01m{\u001b[39;49;00m\u001b[43mi\u001b[49m\u001b[38;5;132;43;01m}\u001b[39;49;00m\u001b[38;5;124;43m\"\u001b[39;49m\u001b[43m,\u001b[49m\u001b[43m \u001b[49m\u001b[43mcontained_type\u001b[49m\u001b[43m,\u001b[49m\u001b[43m \u001b[49m\u001b[43mv\u001b[49m\u001b[43m)\u001b[49m\u001b[43m \u001b[49m\u001b[38;5;28;43;01mfor\u001b[39;49;00m\u001b[43m \u001b[49m\u001b[43mi\u001b[49m\u001b[43m,\u001b[49m\u001b[43m \u001b[49m\u001b[43mv\u001b[49m\u001b[43m \u001b[49m\u001b[38;5;129;43;01min\u001b[39;49;00m\u001b[43m \u001b[49m\u001b[38;5;28;43menumerate\u001b[39;49m\u001b[43m(\u001b[49m\u001b[43mvalue\u001b[49m\u001b[43m)\u001b[49m\u001b[43m]\u001b[49m\n",
      "File \u001b[0;32m~/git/IonBeam-deployment/docker/IonBeam/src/ionbeam/core/config_parser/config_parser_machinery.py:190\u001b[0m, in \u001b[0;36m<listcomp>\u001b[0;34m(.0)\u001b[0m\n\u001b[1;32m    189\u001b[0m contained_type \u001b[38;5;241m=\u001b[39m args[\u001b[38;5;241m0\u001b[39m]\n\u001b[0;32m--> 190\u001b[0m \u001b[38;5;28;01mreturn\u001b[39;00m [\u001b[43mparse_field\u001b[49m\u001b[43m(\u001b[49m\u001b[43mcontext\u001b[49m\u001b[43m,\u001b[49m\u001b[43m \u001b[49m\u001b[38;5;124;43mf\u001b[39;49m\u001b[38;5;124;43m\"\u001b[39;49m\u001b[38;5;124;43melement \u001b[39;49m\u001b[38;5;132;43;01m{\u001b[39;49;00m\u001b[43mi\u001b[49m\u001b[38;5;132;43;01m}\u001b[39;49;00m\u001b[38;5;124;43m\"\u001b[39;49m\u001b[43m,\u001b[49m\u001b[43m \u001b[49m\u001b[43mcontained_type\u001b[49m\u001b[43m,\u001b[49m\u001b[43m \u001b[49m\u001b[43mv\u001b[49m\u001b[43m)\u001b[49m \u001b[38;5;28;01mfor\u001b[39;00m i, v \u001b[38;5;129;01min\u001b[39;00m \u001b[38;5;28menumerate\u001b[39m(value)]\n",
      "File \u001b[0;32m~/git/IonBeam-deployment/docker/IonBeam/src/ionbeam/core/config_parser/config_parser_machinery.py:287\u001b[0m, in \u001b[0;36mparse_field\u001b[0;34m(context, key, _type, value)\u001b[0m\n\u001b[1;32m    286\u001b[0m \u001b[38;5;28;01mexcept\u001b[39;00m \u001b[38;5;167;01mException\u001b[39;00m \u001b[38;5;28;01mas\u001b[39;00m e:\n\u001b[0;32m--> 287\u001b[0m     \u001b[38;5;28;01mraise\u001b[39;00m ConfigError(\u001b[38;5;124mf\u001b[39m\u001b[38;5;124m\"\u001b[39m\u001b[38;5;124mWhile parsing \u001b[39m\u001b[38;5;132;01m{\u001b[39;00mkey\u001b[38;5;132;01m=}\u001b[39;00m\u001b[38;5;124m, \u001b[39m\u001b[38;5;132;01m{\u001b[39;00m_type\u001b[38;5;132;01m=}\u001b[39;00m\u001b[38;5;124m, \u001b[39m\u001b[38;5;132;01m{\u001b[39;00mvalue\u001b[38;5;132;01m=}\u001b[39;00m\u001b[38;5;124m, got exception \u001b[39m\u001b[38;5;130;01m\\n\u001b[39;00m\u001b[38;5;130;01m\\t\u001b[39;00m\u001b[38;5;130;01m\\t\u001b[39;00m\u001b[38;5;132;01m{\u001b[39;00me\u001b[38;5;132;01m}\u001b[39;00m\u001b[38;5;124m\"\u001b[39m)\n",
      "\u001b[0;31mConfigError\u001b[0m: While parsing key='element 0', _type=<class 'ionbeam.core.bases.InputColumn'>, value={'name': 'sensor.name', 'column': 'sensor_name', '__line__': 4}, got exception \n\t\tInvalid config yaml entry\n        /Users/math/git/IonBeam-Deployment/config/ionbeam/smart_citizen_kit/actions.yaml:4\n        Determined the type to be 'InputColumn', check this is right.\n        Extra keys: {'column'}\n        Missing keys: set()\n        Default keys (for reference): {'unit', 'discard', 'key', 'canonical_variable', 'type'}\n\n        Values in the entry:\n        {'name': 'sensor.name', 'column': 'sensor_name', '__line__': 4}\n        ",
      "\nDuring handling of the above exception, another exception occurred:\n",
      "\u001b[0;31mConfigError\u001b[0m                               Traceback (most recent call last)",
      "File \u001b[0;32m~/git/IonBeam-deployment/docker/IonBeam/src/ionbeam/core/config_parser/config_parser_machinery.py:266\u001b[0m, in \u001b[0;36mparse_field\u001b[0;34m(context, key, _type, value)\u001b[0m\n\u001b[1;32m    265\u001b[0m     \u001b[38;5;66;03m# print(key, _type, value, datacls)\u001b[39;00m\n\u001b[0;32m--> 266\u001b[0m     \u001b[38;5;28;01mreturn\u001b[39;00m \u001b[43mdataclass_from_dict\u001b[49m\u001b[43m(\u001b[49m\u001b[43mcontext\u001b[49m\u001b[43m,\u001b[49m\u001b[43m \u001b[49m\u001b[43mdatacls\u001b[49m\u001b[43m,\u001b[49m\u001b[43m \u001b[49m\u001b[43mvalue\u001b[49m\u001b[43m)\u001b[49m\n\u001b[1;32m    268\u001b[0m \u001b[38;5;28;01mif\u001b[39;00m is_union(_type):\n",
      "File \u001b[0;32m~/git/IonBeam-deployment/docker/IonBeam/src/ionbeam/core/config_parser/config_parser_machinery.py:306\u001b[0m, in \u001b[0;36mdataclass_from_dict\u001b[0;34m(context, datacls, input_dict)\u001b[0m\n\u001b[1;32m    304\u001b[0m check_matching(context, datacls, input_dict)\n\u001b[0;32m--> 306\u001b[0m kwargs \u001b[38;5;241m=\u001b[39m \u001b[43m{\u001b[49m\n\u001b[1;32m    307\u001b[0m \u001b[43m        \u001b[49m\u001b[43mfield\u001b[49m\u001b[38;5;241;43m.\u001b[39;49m\u001b[43mname\u001b[49m\u001b[43m:\u001b[49m\u001b[43m \u001b[49m\u001b[43mparse_field\u001b[49m\u001b[43m(\u001b[49m\u001b[43mcontext\u001b[49m\u001b[43m,\u001b[49m\u001b[43m \u001b[49m\u001b[43mfield\u001b[49m\u001b[38;5;241;43m.\u001b[39;49m\u001b[43mname\u001b[49m\u001b[43m,\u001b[49m\u001b[43m \u001b[49m\u001b[43mfield\u001b[49m\u001b[38;5;241;43m.\u001b[39;49m\u001b[43mtype\u001b[49m\u001b[43m,\u001b[49m\u001b[43m \u001b[49m\u001b[43minput_dict\u001b[49m\u001b[43m[\u001b[49m\u001b[43mfield\u001b[49m\u001b[38;5;241;43m.\u001b[39;49m\u001b[43mname\u001b[49m\u001b[43m]\u001b[49m\u001b[43m)\u001b[49m\n\u001b[1;32m    308\u001b[0m \u001b[43m                    \u001b[49m\u001b[38;5;28;43;01mif\u001b[39;49;00m\u001b[43m \u001b[49m\u001b[43mfield\u001b[49m\u001b[38;5;241;43m.\u001b[39;49m\u001b[43mname\u001b[49m\u001b[43m \u001b[49m\u001b[38;5;129;43;01min\u001b[39;49;00m\u001b[43m \u001b[49m\u001b[43minput_dict\u001b[49m\u001b[43m \u001b[49m\u001b[38;5;28;43;01melse\u001b[39;49;00m\u001b[43m \u001b[49m\u001b[43mMISSING_OVERLAY\u001b[49m\u001b[43m \u001b[49m\u001b[38;5;66;43;03m# If the field is missing and it's an overlay, set it to None\u001b[39;49;00m\n\u001b[1;32m    309\u001b[0m \u001b[43m        \u001b[49m\u001b[38;5;28;43;01mfor\u001b[39;49;00m\u001b[43m \u001b[49m\u001b[43mfield\u001b[49m\u001b[43m \u001b[49m\u001b[38;5;129;43;01min\u001b[39;49;00m\u001b[43m \u001b[49m\u001b[43mfields\u001b[49m\u001b[43m(\u001b[49m\u001b[43mdatacls\u001b[49m\u001b[43m)\u001b[49m\n\u001b[1;32m    310\u001b[0m \u001b[43m        \u001b[49m\u001b[38;5;28;43;01mif\u001b[39;49;00m\u001b[43m \u001b[49m\u001b[43mfield\u001b[49m\u001b[38;5;241;43m.\u001b[39;49m\u001b[43mname\u001b[49m\u001b[43m \u001b[49m\u001b[38;5;129;43;01min\u001b[39;49;00m\u001b[43m \u001b[49m\u001b[43minput_dict\u001b[49m\u001b[43m \u001b[49m\u001b[38;5;129;43;01mor\u001b[39;49;00m\u001b[43m \u001b[49m\u001b[43mcontext\u001b[49m\u001b[38;5;241;43m.\u001b[39;49m\u001b[43moverlay\u001b[49m\u001b[43m \u001b[49m\u001b[38;5;66;43;03m# If it's not an overlay, skip this field\u001b[39;49;00m\n\u001b[1;32m    311\u001b[0m \u001b[43m    \u001b[49m\u001b[43m}\u001b[49m\n\u001b[1;32m    313\u001b[0m \u001b[38;5;66;03m# initialise all the post_init fields to None, leaving it up to the caller to deal with them\u001b[39;00m\n",
      "File \u001b[0;32m~/git/IonBeam-deployment/docker/IonBeam/src/ionbeam/core/config_parser/config_parser_machinery.py:307\u001b[0m, in \u001b[0;36m<dictcomp>\u001b[0;34m(.0)\u001b[0m\n\u001b[1;32m    304\u001b[0m check_matching(context, datacls, input_dict)\n\u001b[1;32m    306\u001b[0m kwargs \u001b[38;5;241m=\u001b[39m {\n\u001b[0;32m--> 307\u001b[0m         field\u001b[38;5;241m.\u001b[39mname: \u001b[43mparse_field\u001b[49m\u001b[43m(\u001b[49m\u001b[43mcontext\u001b[49m\u001b[43m,\u001b[49m\u001b[43m \u001b[49m\u001b[43mfield\u001b[49m\u001b[38;5;241;43m.\u001b[39;49m\u001b[43mname\u001b[49m\u001b[43m,\u001b[49m\u001b[43m \u001b[49m\u001b[43mfield\u001b[49m\u001b[38;5;241;43m.\u001b[39;49m\u001b[43mtype\u001b[49m\u001b[43m,\u001b[49m\u001b[43m \u001b[49m\u001b[43minput_dict\u001b[49m\u001b[43m[\u001b[49m\u001b[43mfield\u001b[49m\u001b[38;5;241;43m.\u001b[39;49m\u001b[43mname\u001b[49m\u001b[43m]\u001b[49m\u001b[43m)\u001b[49m\n\u001b[1;32m    308\u001b[0m                     \u001b[38;5;28;01mif\u001b[39;00m field\u001b[38;5;241m.\u001b[39mname \u001b[38;5;129;01min\u001b[39;00m input_dict \u001b[38;5;28;01melse\u001b[39;00m MISSING_OVERLAY \u001b[38;5;66;03m# If the field is missing and it's an overlay, set it to None\u001b[39;00m\n\u001b[1;32m    309\u001b[0m         \u001b[38;5;28;01mfor\u001b[39;00m field \u001b[38;5;129;01min\u001b[39;00m fields(datacls)\n\u001b[1;32m    310\u001b[0m         \u001b[38;5;28;01mif\u001b[39;00m field\u001b[38;5;241m.\u001b[39mname \u001b[38;5;129;01min\u001b[39;00m input_dict \u001b[38;5;129;01mor\u001b[39;00m context\u001b[38;5;241m.\u001b[39moverlay \u001b[38;5;66;03m# If it's not an overlay, skip this field\u001b[39;00m\n\u001b[1;32m    311\u001b[0m     }\n\u001b[1;32m    313\u001b[0m \u001b[38;5;66;03m# initialise all the post_init fields to None, leaving it up to the caller to deal with them\u001b[39;00m\n",
      "File \u001b[0;32m~/git/IonBeam-deployment/docker/IonBeam/src/ionbeam/core/config_parser/config_parser_machinery.py:287\u001b[0m, in \u001b[0;36mparse_field\u001b[0;34m(context, key, _type, value)\u001b[0m\n\u001b[1;32m    286\u001b[0m \u001b[38;5;28;01mexcept\u001b[39;00m \u001b[38;5;167;01mException\u001b[39;00m \u001b[38;5;28;01mas\u001b[39;00m e:\n\u001b[0;32m--> 287\u001b[0m     \u001b[38;5;28;01mraise\u001b[39;00m ConfigError(\u001b[38;5;124mf\u001b[39m\u001b[38;5;124m\"\u001b[39m\u001b[38;5;124mWhile parsing \u001b[39m\u001b[38;5;132;01m{\u001b[39;00mkey\u001b[38;5;132;01m=}\u001b[39;00m\u001b[38;5;124m, \u001b[39m\u001b[38;5;132;01m{\u001b[39;00m_type\u001b[38;5;132;01m=}\u001b[39;00m\u001b[38;5;124m, \u001b[39m\u001b[38;5;132;01m{\u001b[39;00mvalue\u001b[38;5;132;01m=}\u001b[39;00m\u001b[38;5;124m, got exception \u001b[39m\u001b[38;5;130;01m\\n\u001b[39;00m\u001b[38;5;130;01m\\t\u001b[39;00m\u001b[38;5;130;01m\\t\u001b[39;00m\u001b[38;5;132;01m{\u001b[39;00me\u001b[38;5;132;01m}\u001b[39;00m\u001b[38;5;124m\"\u001b[39m)\n",
      "\u001b[0;31mConfigError\u001b[0m: While parsing key='copy_metadata_to_columns', _type=list[ionbeam.core.bases.InputColumn], value=[{'name': 'sensor.name', 'column': 'sensor_name', '__line__': 4}], got exception \n\t\tWhile parsing key='element 0', _type=<class 'ionbeam.core.bases.InputColumn'>, value={'name': 'sensor.name', 'column': 'sensor_name', '__line__': 4}, got exception \n\t\tInvalid config yaml entry\n        /Users/math/git/IonBeam-Deployment/config/ionbeam/smart_citizen_kit/actions.yaml:4\n        Determined the type to be 'InputColumn', check this is right.\n        Extra keys: {'column'}\n        Missing keys: set()\n        Default keys (for reference): {'unit', 'discard', 'key', 'canonical_variable', 'type'}\n\n        Values in the entry:\n        {'name': 'sensor.name', 'column': 'sensor_name', '__line__': 4}\n        ",
      "\nDuring handling of the above exception, another exception occurred:\n",
      "\u001b[0;31mConfigError\u001b[0m                               Traceback (most recent call last)",
      "File \u001b[0;32m~/git/IonBeam-deployment/docker/IonBeam/src/ionbeam/core/config_parser/config_parser_machinery.py:272\u001b[0m, in \u001b[0;36mparse_field\u001b[0;34m(context, key, _type, value)\u001b[0m\n\u001b[1;32m    271\u001b[0m \u001b[38;5;28;01mif\u001b[39;00m is_list(_type):\n\u001b[0;32m--> 272\u001b[0m     \u001b[38;5;28;01mreturn\u001b[39;00m \u001b[43mparse_list\u001b[49m\u001b[43m(\u001b[49m\u001b[43mcontext\u001b[49m\u001b[43m,\u001b[49m\u001b[43m \u001b[49m\u001b[43mkey\u001b[49m\u001b[43m,\u001b[49m\u001b[43m \u001b[49m\u001b[43m_type\u001b[49m\u001b[43m,\u001b[49m\u001b[43m \u001b[49m\u001b[43mvalue\u001b[49m\u001b[43m)\u001b[49m\n\u001b[1;32m    274\u001b[0m \u001b[38;5;28;01mif\u001b[39;00m is_literal(_type):\n",
      "File \u001b[0;32m~/git/IonBeam-deployment/docker/IonBeam/src/ionbeam/core/config_parser/config_parser_machinery.py:190\u001b[0m, in \u001b[0;36mparse_list\u001b[0;34m(context, key, list_type, value)\u001b[0m\n\u001b[1;32m    189\u001b[0m contained_type \u001b[38;5;241m=\u001b[39m args[\u001b[38;5;241m0\u001b[39m]\n\u001b[0;32m--> 190\u001b[0m \u001b[38;5;28;01mreturn\u001b[39;00m \u001b[43m[\u001b[49m\u001b[43mparse_field\u001b[49m\u001b[43m(\u001b[49m\u001b[43mcontext\u001b[49m\u001b[43m,\u001b[49m\u001b[43m \u001b[49m\u001b[38;5;124;43mf\u001b[39;49m\u001b[38;5;124;43m\"\u001b[39;49m\u001b[38;5;124;43melement \u001b[39;49m\u001b[38;5;132;43;01m{\u001b[39;49;00m\u001b[43mi\u001b[49m\u001b[38;5;132;43;01m}\u001b[39;49;00m\u001b[38;5;124;43m\"\u001b[39;49m\u001b[43m,\u001b[49m\u001b[43m \u001b[49m\u001b[43mcontained_type\u001b[49m\u001b[43m,\u001b[49m\u001b[43m \u001b[49m\u001b[43mv\u001b[49m\u001b[43m)\u001b[49m\u001b[43m \u001b[49m\u001b[38;5;28;43;01mfor\u001b[39;49;00m\u001b[43m \u001b[49m\u001b[43mi\u001b[49m\u001b[43m,\u001b[49m\u001b[43m \u001b[49m\u001b[43mv\u001b[49m\u001b[43m \u001b[49m\u001b[38;5;129;43;01min\u001b[39;49;00m\u001b[43m \u001b[49m\u001b[38;5;28;43menumerate\u001b[39;49m\u001b[43m(\u001b[49m\u001b[43mvalue\u001b[49m\u001b[43m)\u001b[49m\u001b[43m]\u001b[49m\n",
      "File \u001b[0;32m~/git/IonBeam-deployment/docker/IonBeam/src/ionbeam/core/config_parser/config_parser_machinery.py:190\u001b[0m, in \u001b[0;36m<listcomp>\u001b[0;34m(.0)\u001b[0m\n\u001b[1;32m    189\u001b[0m contained_type \u001b[38;5;241m=\u001b[39m args[\u001b[38;5;241m0\u001b[39m]\n\u001b[0;32m--> 190\u001b[0m \u001b[38;5;28;01mreturn\u001b[39;00m [\u001b[43mparse_field\u001b[49m\u001b[43m(\u001b[49m\u001b[43mcontext\u001b[49m\u001b[43m,\u001b[49m\u001b[43m \u001b[49m\u001b[38;5;124;43mf\u001b[39;49m\u001b[38;5;124;43m\"\u001b[39;49m\u001b[38;5;124;43melement \u001b[39;49m\u001b[38;5;132;43;01m{\u001b[39;49;00m\u001b[43mi\u001b[49m\u001b[38;5;132;43;01m}\u001b[39;49;00m\u001b[38;5;124;43m\"\u001b[39;49m\u001b[43m,\u001b[49m\u001b[43m \u001b[49m\u001b[43mcontained_type\u001b[49m\u001b[43m,\u001b[49m\u001b[43m \u001b[49m\u001b[43mv\u001b[49m\u001b[43m)\u001b[49m \u001b[38;5;28;01mfor\u001b[39;00m i, v \u001b[38;5;129;01min\u001b[39;00m \u001b[38;5;28menumerate\u001b[39m(value)]\n",
      "File \u001b[0;32m~/git/IonBeam-deployment/docker/IonBeam/src/ionbeam/core/config_parser/config_parser_machinery.py:287\u001b[0m, in \u001b[0;36mparse_field\u001b[0;34m(context, key, _type, value)\u001b[0m\n\u001b[1;32m    286\u001b[0m \u001b[38;5;28;01mexcept\u001b[39;00m \u001b[38;5;167;01mException\u001b[39;00m \u001b[38;5;28;01mas\u001b[39;00m e:\n\u001b[0;32m--> 287\u001b[0m     \u001b[38;5;28;01mraise\u001b[39;00m ConfigError(\u001b[38;5;124mf\u001b[39m\u001b[38;5;124m\"\u001b[39m\u001b[38;5;124mWhile parsing \u001b[39m\u001b[38;5;132;01m{\u001b[39;00mkey\u001b[38;5;132;01m=}\u001b[39;00m\u001b[38;5;124m, \u001b[39m\u001b[38;5;132;01m{\u001b[39;00m_type\u001b[38;5;132;01m=}\u001b[39;00m\u001b[38;5;124m, \u001b[39m\u001b[38;5;132;01m{\u001b[39;00mvalue\u001b[38;5;132;01m=}\u001b[39;00m\u001b[38;5;124m, got exception \u001b[39m\u001b[38;5;130;01m\\n\u001b[39;00m\u001b[38;5;130;01m\\t\u001b[39;00m\u001b[38;5;130;01m\\t\u001b[39;00m\u001b[38;5;132;01m{\u001b[39;00me\u001b[38;5;132;01m}\u001b[39;00m\u001b[38;5;124m\"\u001b[39m)\n",
      "\u001b[0;31mConfigError\u001b[0m: While parsing key='element 0', _type=<class 'ionbeam.core.bases.Action'>, value={'class': 'SmartCitizenKitSource', 'copy_metadata_to_columns': [{'name': 'sensor.name', 'column': 'sensor_name', '__line__': 4}], '__line__': 2}, got exception \n\t\tWhile parsing key='copy_metadata_to_columns', _type=list[ionbeam.core.bases.InputColumn], value=[{'name': 'sensor.name', 'column': 'sensor_name', '__line__': 4}], got exception \n\t\tWhile parsing key='element 0', _type=<class 'ionbeam.core.bases.InputColumn'>, value={'name': 'sensor.name', 'column': 'sensor_name', '__line__': 4}, got exception \n\t\tInvalid config yaml entry\n        /Users/math/git/IonBeam-Deployment/config/ionbeam/smart_citizen_kit/actions.yaml:4\n        Determined the type to be 'InputColumn', check this is right.\n        Extra keys: {'column'}\n        Missing keys: set()\n        Default keys (for reference): {'unit', 'discard', 'key', 'canonical_variable', 'type'}\n\n        Values in the entry:\n        {'name': 'sensor.name', 'column': 'sensor_name', '__line__': 4}\n        ",
      "\nDuring handling of the above exception, another exception occurred:\n",
      "\u001b[0;31mConfigError\u001b[0m                               Traceback (most recent call last)",
      "Cell \u001b[0;32mIn[6], line 7\u001b[0m\n\u001b[1;32m      4\u001b[0m \u001b[38;5;28;01mfrom\u001b[39;00m \u001b[38;5;21;01mIPython\u001b[39;00m\u001b[38;5;21;01m.\u001b[39;00m\u001b[38;5;21;01mdisplay\u001b[39;00m \u001b[38;5;28;01mimport\u001b[39;00m display\n\u001b[1;32m      6\u001b[0m config_file \u001b[38;5;241m=\u001b[39m Path(\u001b[38;5;124m\"\u001b[39m\u001b[38;5;124m~/git/IonBeam-Deployment/config/ionbeam\u001b[39m\u001b[38;5;124m\"\u001b[39m)\u001b[38;5;241m.\u001b[39mexpanduser()\n\u001b[0;32m----> 7\u001b[0m config, actions \u001b[38;5;241m=\u001b[39m \u001b[43mparse_config\u001b[49m\u001b[43m(\u001b[49m\u001b[43mconfig_file\u001b[49m\u001b[43m,\u001b[49m\n\u001b[1;32m      8\u001b[0m \u001b[43m                    \u001b[49m\u001b[43mconfig_path\u001b[49m\u001b[43m \u001b[49m\u001b[38;5;241;43m=\u001b[39;49m\u001b[43m \u001b[49m\u001b[38;5;124;43m\"\u001b[39;49m\u001b[38;5;124;43m./\u001b[39;49m\u001b[38;5;124;43m\"\u001b[39;49m\u001b[43m,\u001b[49m\n\u001b[1;32m      9\u001b[0m \u001b[43m                    \u001b[49m\u001b[43mdata_path\u001b[49m\u001b[43m \u001b[49m\u001b[38;5;241;43m=\u001b[39;49m\u001b[43m \u001b[49m\u001b[38;5;124;43m\"\u001b[39;49m\u001b[38;5;124;43m../data/\u001b[39;49m\u001b[38;5;124;43m\"\u001b[39;49m\u001b[43m,\u001b[49m\n\u001b[1;32m     10\u001b[0m \u001b[43m                    \u001b[49m\u001b[43moffline\u001b[49m\u001b[43m \u001b[49m\u001b[38;5;241;43m=\u001b[39;49m\u001b[43m \u001b[49m\u001b[38;5;28;43;01mTrue\u001b[39;49;00m\u001b[43m,\u001b[49m\n\u001b[1;32m     11\u001b[0m \u001b[43m                    \u001b[49m\u001b[43menvironment\u001b[49m\u001b[43m  \u001b[49m\u001b[38;5;241;43m=\u001b[39;49m\u001b[43m \u001b[49m\u001b[38;5;124;43m\"\u001b[39;49m\u001b[38;5;124;43mlocal\u001b[39;49m\u001b[38;5;124;43m\"\u001b[39;49m\u001b[43m,\u001b[49m\n\u001b[1;32m     12\u001b[0m \u001b[43m                    \u001b[49m\u001b[43m)\u001b[49m\n",
      "File \u001b[0;32m~/git/IonBeam-deployment/docker/IonBeam/src/ionbeam/core/config_parser/config_parser.py:192\u001b[0m, in \u001b[0;36mparse_config\u001b[0;34m(config_dir, schema, **overrides)\u001b[0m\n\u001b[1;32m    190\u001b[0m \u001b[38;5;28;01massert\u001b[39;00m file\u001b[38;5;241m.\u001b[39mexists()\n\u001b[1;32m    191\u001b[0m logger\u001b[38;5;241m.\u001b[39mdebug(\u001b[38;5;124mf\u001b[39m\u001b[38;5;124m\"\u001b[39m\u001b[38;5;124mParsing \u001b[39m\u001b[38;5;132;01m{\u001b[39;00mfile\u001b[38;5;132;01m}\u001b[39;00m\u001b[38;5;124m\"\u001b[39m)\n\u001b[0;32m--> 192\u001b[0m source \u001b[38;5;241m=\u001b[39m \u001b[43mparse_sub_config\u001b[49m\u001b[43m(\u001b[49m\u001b[43mfile\u001b[49m\u001b[43m,\u001b[49m\u001b[43m \u001b[49m\u001b[38;5;28;43mglobals\u001b[39;49m\u001b[38;5;241;43m=\u001b[39;49m\u001b[43mconfig\u001b[49m\u001b[38;5;241;43m.\u001b[39;49m\u001b[43mglobals\u001b[49m\u001b[43m,\u001b[49m\u001b[43m \u001b[49m\u001b[43mschema\u001b[49m\u001b[38;5;241;43m=\u001b[39;49m\u001b[43mSubConfig\u001b[49m\u001b[43m)\u001b[49m\n\u001b[1;32m    193\u001b[0m sources[name] \u001b[38;5;241m=\u001b[39m source\n\u001b[1;32m    194\u001b[0m actions\u001b[38;5;241m.\u001b[39mextend(source\u001b[38;5;241m.\u001b[39mactions)\n",
      "File \u001b[0;32m~/git/IonBeam-deployment/docker/IonBeam/src/ionbeam/core/config_parser/config_parser.py:74\u001b[0m, in \u001b[0;36mparse_sub_config\u001b[0;34m(yaml_file, globals, schema)\u001b[0m\n\u001b[1;32m     71\u001b[0m     config_dict \u001b[38;5;241m=\u001b[39m yaml\u001b[38;5;241m.\u001b[39mload(f, Loader\u001b[38;5;241m=\u001b[39mSafeLineLoader)\n\u001b[1;32m     73\u001b[0m \u001b[38;5;66;03m# Parse the yaml file using python dataclasses as a template\u001b[39;00m\n\u001b[0;32m---> 74\u001b[0m config \u001b[38;5;241m=\u001b[39m \u001b[43mparse_config_from_dict\u001b[49m\u001b[43m(\u001b[49m\u001b[43mschema\u001b[49m\u001b[43m,\u001b[49m\u001b[43m \u001b[49m\u001b[43mconfig_dict\u001b[49m\u001b[43m,\u001b[49m\u001b[43m \u001b[49m\u001b[43mfilepath\u001b[49m\u001b[38;5;241;43m=\u001b[39;49m\u001b[43myaml_file\u001b[49m\u001b[43m)\u001b[49m\n\u001b[1;32m     76\u001b[0m \u001b[38;5;66;03m# Let all the actions initialise themselves with access to the global config\u001b[39;00m\n\u001b[1;32m     77\u001b[0m \u001b[38;5;28;01mfor\u001b[39;00m action \u001b[38;5;129;01min\u001b[39;00m config\u001b[38;5;241m.\u001b[39mactions:\n",
      "File \u001b[0;32m~/git/IonBeam-deployment/docker/IonBeam/src/ionbeam/core/config_parser/config_parser_machinery.py:322\u001b[0m, in \u001b[0;36mparse_config_from_dict\u001b[0;34m(datacls, input_dict, filepath)\u001b[0m\n\u001b[1;32m    320\u001b[0m \u001b[38;5;28;01mdef\u001b[39;00m \u001b[38;5;21mparse_config_from_dict\u001b[39m(datacls, input_dict, filepath: Path \u001b[38;5;241m|\u001b[39m \u001b[38;5;28mstr\u001b[39m \u001b[38;5;241m|\u001b[39m \u001b[38;5;28;01mNone\u001b[39;00m \u001b[38;5;241m=\u001b[39m \u001b[38;5;28;01mNone\u001b[39;00m):\n\u001b[1;32m    321\u001b[0m     context \u001b[38;5;241m=\u001b[39m Context(filepath \u001b[38;5;129;01mor\u001b[39;00m \u001b[38;5;124m\"\u001b[39m\u001b[38;5;124m???\u001b[39m\u001b[38;5;124m\"\u001b[39m)\n\u001b[0;32m--> 322\u001b[0m     \u001b[38;5;28;01mreturn\u001b[39;00m \u001b[43mdataclass_from_dict\u001b[49m\u001b[43m(\u001b[49m\u001b[43mcontext\u001b[49m\u001b[43m,\u001b[49m\u001b[43m \u001b[49m\u001b[43mdatacls\u001b[49m\u001b[43m,\u001b[49m\u001b[43m \u001b[49m\u001b[43minput_dict\u001b[49m\u001b[43m)\u001b[49m\n",
      "File \u001b[0;32m~/git/IonBeam-deployment/docker/IonBeam/src/ionbeam/core/config_parser/config_parser_machinery.py:306\u001b[0m, in \u001b[0;36mdataclass_from_dict\u001b[0;34m(context, datacls, input_dict)\u001b[0m\n\u001b[1;32m    302\u001b[0m     context\u001b[38;5;241m.\u001b[39moverlay \u001b[38;5;241m=\u001b[39m \u001b[38;5;28;01mTrue\u001b[39;00m\n\u001b[1;32m    304\u001b[0m check_matching(context, datacls, input_dict)\n\u001b[0;32m--> 306\u001b[0m kwargs \u001b[38;5;241m=\u001b[39m \u001b[43m{\u001b[49m\n\u001b[1;32m    307\u001b[0m \u001b[43m        \u001b[49m\u001b[43mfield\u001b[49m\u001b[38;5;241;43m.\u001b[39;49m\u001b[43mname\u001b[49m\u001b[43m:\u001b[49m\u001b[43m \u001b[49m\u001b[43mparse_field\u001b[49m\u001b[43m(\u001b[49m\u001b[43mcontext\u001b[49m\u001b[43m,\u001b[49m\u001b[43m \u001b[49m\u001b[43mfield\u001b[49m\u001b[38;5;241;43m.\u001b[39;49m\u001b[43mname\u001b[49m\u001b[43m,\u001b[49m\u001b[43m \u001b[49m\u001b[43mfield\u001b[49m\u001b[38;5;241;43m.\u001b[39;49m\u001b[43mtype\u001b[49m\u001b[43m,\u001b[49m\u001b[43m \u001b[49m\u001b[43minput_dict\u001b[49m\u001b[43m[\u001b[49m\u001b[43mfield\u001b[49m\u001b[38;5;241;43m.\u001b[39;49m\u001b[43mname\u001b[49m\u001b[43m]\u001b[49m\u001b[43m)\u001b[49m\n\u001b[1;32m    308\u001b[0m \u001b[43m                    \u001b[49m\u001b[38;5;28;43;01mif\u001b[39;49;00m\u001b[43m \u001b[49m\u001b[43mfield\u001b[49m\u001b[38;5;241;43m.\u001b[39;49m\u001b[43mname\u001b[49m\u001b[43m \u001b[49m\u001b[38;5;129;43;01min\u001b[39;49;00m\u001b[43m \u001b[49m\u001b[43minput_dict\u001b[49m\u001b[43m \u001b[49m\u001b[38;5;28;43;01melse\u001b[39;49;00m\u001b[43m \u001b[49m\u001b[43mMISSING_OVERLAY\u001b[49m\u001b[43m \u001b[49m\u001b[38;5;66;43;03m# If the field is missing and it's an overlay, set it to None\u001b[39;49;00m\n\u001b[1;32m    309\u001b[0m \u001b[43m        \u001b[49m\u001b[38;5;28;43;01mfor\u001b[39;49;00m\u001b[43m \u001b[49m\u001b[43mfield\u001b[49m\u001b[43m \u001b[49m\u001b[38;5;129;43;01min\u001b[39;49;00m\u001b[43m \u001b[49m\u001b[43mfields\u001b[49m\u001b[43m(\u001b[49m\u001b[43mdatacls\u001b[49m\u001b[43m)\u001b[49m\n\u001b[1;32m    310\u001b[0m \u001b[43m        \u001b[49m\u001b[38;5;28;43;01mif\u001b[39;49;00m\u001b[43m \u001b[49m\u001b[43mfield\u001b[49m\u001b[38;5;241;43m.\u001b[39;49m\u001b[43mname\u001b[49m\u001b[43m \u001b[49m\u001b[38;5;129;43;01min\u001b[39;49;00m\u001b[43m \u001b[49m\u001b[43minput_dict\u001b[49m\u001b[43m \u001b[49m\u001b[38;5;129;43;01mor\u001b[39;49;00m\u001b[43m \u001b[49m\u001b[43mcontext\u001b[49m\u001b[38;5;241;43m.\u001b[39;49m\u001b[43moverlay\u001b[49m\u001b[43m \u001b[49m\u001b[38;5;66;43;03m# If it's not an overlay, skip this field\u001b[39;49;00m\n\u001b[1;32m    311\u001b[0m \u001b[43m    \u001b[49m\u001b[43m}\u001b[49m\n\u001b[1;32m    313\u001b[0m \u001b[38;5;66;03m# initialise all the post_init fields to None, leaving it up to the caller to deal with them\u001b[39;00m\n\u001b[1;32m    314\u001b[0m post_init_fields \u001b[38;5;241m=\u001b[39m {field\u001b[38;5;241m.\u001b[39mname : \u001b[38;5;28;01mNone\u001b[39;00m \u001b[38;5;28;01mfor\u001b[39;00m field \u001b[38;5;129;01min\u001b[39;00m fields(datacls) \n\u001b[1;32m    315\u001b[0m                     \u001b[38;5;28;01mif\u001b[39;00m is_post_init_field(field) \u001b[38;5;129;01mand\u001b[39;00m \u001b[38;5;129;01mnot\u001b[39;00m field\u001b[38;5;241m.\u001b[39mname \u001b[38;5;129;01min\u001b[39;00m kwargs}\n",
      "File \u001b[0;32m~/git/IonBeam-deployment/docker/IonBeam/src/ionbeam/core/config_parser/config_parser_machinery.py:307\u001b[0m, in \u001b[0;36m<dictcomp>\u001b[0;34m(.0)\u001b[0m\n\u001b[1;32m    302\u001b[0m     context\u001b[38;5;241m.\u001b[39moverlay \u001b[38;5;241m=\u001b[39m \u001b[38;5;28;01mTrue\u001b[39;00m\n\u001b[1;32m    304\u001b[0m check_matching(context, datacls, input_dict)\n\u001b[1;32m    306\u001b[0m kwargs \u001b[38;5;241m=\u001b[39m {\n\u001b[0;32m--> 307\u001b[0m         field\u001b[38;5;241m.\u001b[39mname: \u001b[43mparse_field\u001b[49m\u001b[43m(\u001b[49m\u001b[43mcontext\u001b[49m\u001b[43m,\u001b[49m\u001b[43m \u001b[49m\u001b[43mfield\u001b[49m\u001b[38;5;241;43m.\u001b[39;49m\u001b[43mname\u001b[49m\u001b[43m,\u001b[49m\u001b[43m \u001b[49m\u001b[43mfield\u001b[49m\u001b[38;5;241;43m.\u001b[39;49m\u001b[43mtype\u001b[49m\u001b[43m,\u001b[49m\u001b[43m \u001b[49m\u001b[43minput_dict\u001b[49m\u001b[43m[\u001b[49m\u001b[43mfield\u001b[49m\u001b[38;5;241;43m.\u001b[39;49m\u001b[43mname\u001b[49m\u001b[43m]\u001b[49m\u001b[43m)\u001b[49m\n\u001b[1;32m    308\u001b[0m                     \u001b[38;5;28;01mif\u001b[39;00m field\u001b[38;5;241m.\u001b[39mname \u001b[38;5;129;01min\u001b[39;00m input_dict \u001b[38;5;28;01melse\u001b[39;00m MISSING_OVERLAY \u001b[38;5;66;03m# If the field is missing and it's an overlay, set it to None\u001b[39;00m\n\u001b[1;32m    309\u001b[0m         \u001b[38;5;28;01mfor\u001b[39;00m field \u001b[38;5;129;01min\u001b[39;00m fields(datacls)\n\u001b[1;32m    310\u001b[0m         \u001b[38;5;28;01mif\u001b[39;00m field\u001b[38;5;241m.\u001b[39mname \u001b[38;5;129;01min\u001b[39;00m input_dict \u001b[38;5;129;01mor\u001b[39;00m context\u001b[38;5;241m.\u001b[39moverlay \u001b[38;5;66;03m# If it's not an overlay, skip this field\u001b[39;00m\n\u001b[1;32m    311\u001b[0m     }\n\u001b[1;32m    313\u001b[0m \u001b[38;5;66;03m# initialise all the post_init fields to None, leaving it up to the caller to deal with them\u001b[39;00m\n\u001b[1;32m    314\u001b[0m post_init_fields \u001b[38;5;241m=\u001b[39m {field\u001b[38;5;241m.\u001b[39mname : \u001b[38;5;28;01mNone\u001b[39;00m \u001b[38;5;28;01mfor\u001b[39;00m field \u001b[38;5;129;01min\u001b[39;00m fields(datacls) \n\u001b[1;32m    315\u001b[0m                     \u001b[38;5;28;01mif\u001b[39;00m is_post_init_field(field) \u001b[38;5;129;01mand\u001b[39;00m \u001b[38;5;129;01mnot\u001b[39;00m field\u001b[38;5;241m.\u001b[39mname \u001b[38;5;129;01min\u001b[39;00m kwargs}\n",
      "File \u001b[0;32m~/git/IonBeam-deployment/docker/IonBeam/src/ionbeam/core/config_parser/config_parser_machinery.py:287\u001b[0m, in \u001b[0;36mparse_field\u001b[0;34m(context, key, _type, value)\u001b[0m\n\u001b[1;32m    285\u001b[0m     \u001b[38;5;28;01mreturn\u001b[39;00m result\n\u001b[1;32m    286\u001b[0m \u001b[38;5;28;01mexcept\u001b[39;00m \u001b[38;5;167;01mException\u001b[39;00m \u001b[38;5;28;01mas\u001b[39;00m e:\n\u001b[0;32m--> 287\u001b[0m     \u001b[38;5;28;01mraise\u001b[39;00m ConfigError(\u001b[38;5;124mf\u001b[39m\u001b[38;5;124m\"\u001b[39m\u001b[38;5;124mWhile parsing \u001b[39m\u001b[38;5;132;01m{\u001b[39;00mkey\u001b[38;5;132;01m=}\u001b[39;00m\u001b[38;5;124m, \u001b[39m\u001b[38;5;132;01m{\u001b[39;00m_type\u001b[38;5;132;01m=}\u001b[39;00m\u001b[38;5;124m, \u001b[39m\u001b[38;5;132;01m{\u001b[39;00mvalue\u001b[38;5;132;01m=}\u001b[39;00m\u001b[38;5;124m, got exception \u001b[39m\u001b[38;5;130;01m\\n\u001b[39;00m\u001b[38;5;130;01m\\t\u001b[39;00m\u001b[38;5;130;01m\\t\u001b[39;00m\u001b[38;5;132;01m{\u001b[39;00me\u001b[38;5;132;01m}\u001b[39;00m\u001b[38;5;124m\"\u001b[39m)\n",
      "\u001b[0;31mConfigError\u001b[0m: While parsing key='actions', _type=typing.List[ionbeam.core.bases.Action], value=[{'class': 'SmartCitizenKitSource', 'copy_metadata_to_columns': [{'name': 'sensor.name', 'column': 'sensor_name', '__line__': 4}], '__line__': 2}], got exception \n\t\tWhile parsing key='element 0', _type=<class 'ionbeam.core.bases.Action'>, value={'class': 'SmartCitizenKitSource', 'copy_metadata_to_columns': [{'name': 'sensor.name', 'column': 'sensor_name', '__line__': 4}], '__line__': 2}, got exception \n\t\tWhile parsing key='copy_metadata_to_columns', _type=list[ionbeam.core.bases.InputColumn], value=[{'name': 'sensor.name', 'column': 'sensor_name', '__line__': 4}], got exception \n\t\tWhile parsing key='element 0', _type=<class 'ionbeam.core.bases.InputColumn'>, value={'name': 'sensor.name', 'column': 'sensor_name', '__line__': 4}, got exception \n\t\tInvalid config yaml entry\n        /Users/math/git/IonBeam-Deployment/config/ionbeam/smart_citizen_kit/actions.yaml:4\n        Determined the type to be 'InputColumn', check this is right.\n        Extra keys: {'column'}\n        Missing keys: set()\n        Default keys (for reference): {'unit', 'discard', 'key', 'canonical_variable', 'type'}\n\n        Values in the entry:\n        {'name': 'sensor.name', 'column': 'sensor_name', '__line__': 4}\n        "
     ]
    }
   ],
   "source": [
    "from pathlib import Path\n",
    "from ionbeam.core.config_parser import parse_config\n",
    "from ionbeam.core.bases import *\n",
    "from IPython.display import display\n",
    "\n",
    "config_file = Path(\"~/git/IonBeam-Deployment/config/ionbeam\").expanduser()\n",
    "config, actions = parse_config(config_file,\n",
    "                    config_path = \"./\",\n",
    "                    data_path = \"../data/\",\n",
    "                    offline = True,\n",
    "                    environment  = \"local\",\n",
    "                    )"
   ]
  },
  {
   "cell_type": "code",
   "execution_count": 7,
   "id": "e882c97b-ded6-405c-8bb4-8cb615e95cd5",
   "metadata": {},
   "outputs": [
    {
     "name": "stderr",
     "output_type": "stream",
     "text": [
      "WARNING:ionbeam.core.config_parser.config_parser:Configuration Directory: /Users/math/git/IonBeam-Deployment/config/ionbeam\n",
      "WARNING:ionbeam.core.config_parser.config_parser:Global config file: /Users/math/git/IonBeam-Deployment/config/ionbeam/config.yaml\n"
     ]
    },
    {
     "name": "stdout",
     "output_type": "stream",
     "text": [
      "{'database': 'ionbeam', 'username': 'postgres', 'password': 'g7HEuiMHJTKczM4k', 'host': 'localhost', 'port': 5432}\n",
      "Putting in message with start_time = Timestamp('2024-01-01 00:00:00+0000', tz='UTC')\n",
      "Putting in message with start_time = Timestamp('2024-01-01 01:00:00+0000', tz='UTC')\n",
      "Putting in message with start_time = Timestamp('2024-01-01 02:00:00+0000', tz='UTC')\n",
      "Putting in message with start_time = Timestamp('2024-01-01 03:00:00+0000', tz='UTC')\n",
      "Putting in message with start_time = Timestamp('2024-01-01 04:00:00+0000', tz='UTC')\n",
      "Putting in message with start_time = Timestamp('2024-01-01 05:00:00+0000', tz='UTC')\n",
      "Putting in message with start_time = Timestamp('2024-01-01 06:00:00+0000', tz='UTC')\n",
      "Putting in message with start_time = Timestamp('2024-01-01 07:00:00+0000', tz='UTC')\n",
      "Putting in message with start_time = Timestamp('2024-01-01 08:00:00+0000', tz='UTC')\n",
      "Putting in message with start_time = Timestamp('2024-01-01 09:00:00+0000', tz='UTC')\n",
      "Putting in message with start_time = Timestamp('2024-01-01 10:00:00+0000', tz='UTC')\n",
      "Putting in message with start_time = Timestamp('2024-01-01 11:00:00+0000', tz='UTC')\n",
      "Putting in message with start_time = Timestamp('2024-01-01 12:00:00+0000', tz='UTC')\n",
      "Putting in message with start_time = Timestamp('2024-01-01 13:00:00+0000', tz='UTC')\n",
      "Putting in message with start_time = Timestamp('2024-01-01 14:00:00+0000', tz='UTC')\n",
      "Putting in message with start_time = Timestamp('2024-01-01 15:00:00+0000', tz='UTC')\n",
      "Putting in message with start_time = Timestamp('2024-01-01 16:00:00+0000', tz='UTC')\n",
      "Putting in message with start_time = Timestamp('2024-01-01 17:00:00+0000', tz='UTC')\n",
      "Putting in message with start_time = Timestamp('2024-01-01 18:00:00+0000', tz='UTC')\n",
      "Putting in message with start_time = Timestamp('2024-01-01 19:00:00+0000', tz='UTC')\n",
      "Putting in message with start_time = Timestamp('2024-01-01 20:00:00+0000', tz='UTC')\n",
      "Putting in message with start_time = Timestamp('2024-01-01 21:00:00+0000', tz='UTC')\n",
      "Putting in message with start_time = Timestamp('2024-01-01 22:00:00+0000', tz='UTC')\n",
      "Putting in message with start_time = Timestamp('2024-01-01 23:00:00+0000', tz='UTC')\n",
      "Putting in message with start_time = Timestamp('2024-01-02 00:00:00+0000', tz='UTC')\n",
      "Putting in message with start_time = Timestamp('2024-01-02 01:00:00+0000', tz='UTC')\n",
      "Putting in message with start_time = Timestamp('2024-01-02 02:00:00+0000', tz='UTC')\n",
      "Putting in message with start_time = Timestamp('2024-01-02 03:00:00+0000', tz='UTC')\n",
      "Putting in message with start_time = Timestamp('2024-01-02 04:00:00+0000', tz='UTC')\n",
      "Putting in message with start_time = Timestamp('2024-01-02 05:00:00+0000', tz='UTC')\n",
      "Putting in message with start_time = Timestamp('2024-01-02 06:00:00+0000', tz='UTC')\n",
      "Putting in message with start_time = Timestamp('2024-01-02 07:00:00+0000', tz='UTC')\n",
      "Putting in message with start_time = Timestamp('2024-01-02 08:00:00+0000', tz='UTC')\n",
      "Putting in message with start_time = Timestamp('2024-01-02 09:00:00+0000', tz='UTC')\n",
      "Putting in message with start_time = Timestamp('2024-01-02 10:00:00+0000', tz='UTC')\n",
      "Putting in message with start_time = Timestamp('2024-01-02 11:00:00+0000', tz='UTC')\n",
      "Putting in message with start_time = Timestamp('2024-01-02 12:00:00+0000', tz='UTC')\n",
      "Putting in message with start_time = Timestamp('2024-01-02 13:00:00+0000', tz='UTC')\n",
      "Putting in message with start_time = Timestamp('2024-01-02 14:00:00+0000', tz='UTC')\n",
      "Putting in message with start_time = Timestamp('2024-01-02 15:00:00+0000', tz='UTC')\n",
      "Putting in message with start_time = Timestamp('2024-01-02 16:00:00+0000', tz='UTC')\n",
      "Putting in message with start_time = Timestamp('2024-01-02 17:00:00+0000', tz='UTC')\n",
      "Putting in message with start_time = Timestamp('2024-01-02 18:00:00+0000', tz='UTC')\n",
      "Putting in message with start_time = Timestamp('2024-01-02 19:00:00+0000', tz='UTC')\n",
      "Putting in message with start_time = Timestamp('2024-01-02 20:00:00+0000', tz='UTC')\n",
      "Putting in message with start_time = Timestamp('2024-01-02 21:00:00+0000', tz='UTC')\n",
      "Putting in message with start_time = Timestamp('2024-01-02 22:00:00+0000', tz='UTC')\n",
      "Putting in message with start_time = Timestamp('2024-01-02 23:00:00+0000', tz='UTC')\n",
      "Putting in message with start_time = Timestamp('2024-01-03 00:00:00+0000', tz='UTC')\n"
     ]
    }
   ],
   "source": [
    "from datetime import datetime as dt\n",
    "from datetime import timezone, timedelta\n",
    "\n",
    "\n",
    "config, actions = parse_config(config_file,\n",
    "                    config_path = \"./\",\n",
    "                    data_path = \"../data/\",\n",
    "                    offline = True,\n",
    "                    environment  = \"local\",\n",
    "                    )\n",
    "\n",
    "def make_fake_message(i, start):\n",
    "    times = pd.date_range(start=start, end=start + timedelta(hours = 1, minutes = 59), \n",
    "                          freq = \"30min\", tz = timezone.utc)\n",
    "    return TabularMessage(\n",
    "        metadata=MetaData(state='foo',\n",
    "            source='meteotracker',\n",
    "            observation_variable = \"bar\",\n",
    "                         \n",
    "        ),\n",
    "        data = pd.DataFrame(dict(\n",
    "            time = times,\n",
    "            data = [i for _ in times],\n",
    "            \n",
    "        ))\n",
    "    )\n",
    "\n",
    "agg = actions[3]\n",
    "for i, start_time in enumerate(pd.date_range(start=dt(2024, 1, 1, 0), end=dt(2024, 1, 3, 0),\n",
    "                                    freq = \"1h\", tz = timezone.utc)):\n",
    "\n",
    "    print(f\"Putting in message with {start_time = }\")\n",
    "    for m in agg.process(make_fake_message(i, start_time, )):\n",
    "        print(\"Time agg emitted\", m, m.data)"
   ]
  }
 ],
 "metadata": {
  "kernelspec": {
   "display_name": "Python [conda env:micromamba-ionbeam]",
   "language": "python",
   "name": "conda-env-micromamba-ionbeam-py"
  },
  "language_info": {
   "codemirror_mode": {
    "name": "ipython",
    "version": 3
   },
   "file_extension": ".py",
   "mimetype": "text/x-python",
   "name": "python",
   "nbconvert_exporter": "python",
   "pygments_lexer": "ipython3",
   "version": "3.11.0"
  }
 },
 "nbformat": 4,
 "nbformat_minor": 5
}
