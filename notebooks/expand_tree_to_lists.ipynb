{
 "cells": [
  {
   "cell_type": "code",
   "execution_count": 2,
   "id": "ff04bd6d-6649-4579-9d1e-1f35d25c4d5d",
   "metadata": {},
   "outputs": [],
   "source": [
    "from tree_traverser import CompressedTree"
   ]
  },
  {
   "cell_type": "code",
   "execution_count": 33,
   "id": "014e689f-e2ef-462d-abcc-daf70897c956",
   "metadata": {},
   "outputs": [
    {
     "name": "stdout",
     "output_type": "stream",
     "text": [
      "climate dt compressed tree: 2.0 MB\n",
      "Opening json file\n",
      "CPU times: user 3.38 ms, sys: 42 μs, total: 3.42 ms\n",
      "Wall time: 3.43 ms\n",
      "['root=root', 'activity=scenariomip', 'class=d1', 'dataset=climate-dt', 'date=20241201', 'experiment=ssp3-7.0', 'expver=0001', 'generation=1', 'model=icon', 'realization=1', 'stream=clte', 'levtype=sfc', 'resolution=high', 'type=fc', 'param=228164,134,175,176,166,147,165,177,179,146,79,178,167,260654,260655,260048,137,151,168,130,78,169,235', 'time=0300,0000,0100,0900,1000,1900,1300,1600,2000,0800,1700,2100,2300,0700,0600,1500,1800,1400,0400,1200,0200,1100,0500,2200']\n"
     ]
    }
   ],
   "source": [
    "import json\n",
    "from pathlib import Path\n",
    "\n",
    "from tree_traverser import CompressedTree\n",
    "\n",
    "data_path = Path(\"/Users/math/git/rust/qubed/config/climate-dt/compressed_tree.json\")\n",
    "# Print size of file\n",
    "print(f\"climate dt compressed tree: {data_path.stat().st_size // 1e6:.1f} MB\")\n",
    "\n",
    "print(\"Opening json file\")\n",
    "compressed_tree = CompressedTree.load(data_path)\n",
    "\n",
    "tree = compressed_tree.reconstruct_compressed_ecmwf_style()\n",
    "\n",
    "def expand_tree_to_lists(tree):\n",
    "    if tree == {}: return [[]]\n",
    "    return [[k] + rest \n",
    "            for k, v in tree.items()\n",
    "            for rest in expand_tree_to_lists(v)\n",
    "           ]\n",
    "    \n",
    "%time datacubes = expand_tree_to_lists(tree)\n",
    "print(datacubes[0])"
   ]
  },
  {
   "cell_type": "code",
   "execution_count": 32,
   "id": "73aab912-4583-4e3f-8101-c3aa5da6482b",
   "metadata": {},
   "outputs": [
    {
     "data": {
      "text/plain": [
       "1096"
      ]
     },
     "execution_count": 32,
     "metadata": {},
     "output_type": "execute_result"
    }
   ],
   "source": [
    "len(datacubes)"
   ]
  }
 ],
 "metadata": {
  "kernelspec": {
   "display_name": "Python [conda env:micromamba-catalogs]",
   "language": "python",
   "name": "conda-env-micromamba-catalogs-py"
  },
  "language_info": {
   "codemirror_mode": {
    "name": "ipython",
    "version": 3
   },
   "file_extension": ".py",
   "mimetype": "text/x-python",
   "name": "python",
   "nbconvert_exporter": "python",
   "pygments_lexer": "ipython3",
   "version": "3.12.0"
  }
 },
 "nbformat": 4,
 "nbformat_minor": 5
}
