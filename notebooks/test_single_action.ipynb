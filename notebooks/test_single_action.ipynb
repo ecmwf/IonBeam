{
 "cells": [
  {
   "cell_type": "code",
   "execution_count": 1,
   "id": "022baf28-3d0c-4811-9557-6688e26ae262",
   "metadata": {
    "tags": []
   },
   "outputs": [],
   "source": [
    "%load_ext autoreload\n",
    "%autoreload 2"
   ]
  },
  {
   "cell_type": "code",
   "execution_count": 2,
   "id": "0d0d0b9e-057e-4fe7-b8bb-f5bd8d4f2bc1",
   "metadata": {},
   "outputs": [],
   "source": [
    "%load_ext wurlitzer"
   ]
  },
  {
   "cell_type": "code",
   "execution_count": 3,
   "id": "2d085329-f93a-4619-bd41-b356db95be52",
   "metadata": {
    "tags": []
   },
   "outputs": [],
   "source": [
    "import pandas as pd\n",
    "import numpy as np\n",
    "import logging\n",
    "import pyfdb\n",
    "import findlibs\n",
    "import yaml\n",
    "from pathlib import Path\n",
    "import os\n",
    "import pandas as pd\n",
    "import pyodc\n",
    "import shutil\n",
    "from pathlib import Path\n",
    "\n",
    "logging.basicConfig(level = logging.DEBUG)"
   ]
  },
  {
   "cell_type": "code",
   "execution_count": 4,
   "id": "e0eb2627-0e7b-4233-b70f-e447a9915007",
   "metadata": {},
   "outputs": [
    {
     "name": "stderr",
     "output_type": "stream",
     "text": [
      "WARNING:ionbeam.core.config_parser.config_parser:Configuration Directory: /Users/math/git/IonBeam-Deployment/config/ionbeam\n",
      "WARNING:ionbeam.core.config_parser.config_parser:Global config file: /Users/math/git/IonBeam-Deployment/config/ionbeam/config.yaml\n",
      "DEBUG:ionbeam.core.config_parser.config_parser:Loaded global config...\n",
      "DEBUG:ionbeam.core.config_parser.config_parser:Resolved config.globals.data_path to /Users/math/git/IonBeam-Deployment/data\n",
      "DEBUG:ionbeam.core.config_parser.config_parser:Resolved config.globals.fdb_schema_path to /Users/math/git/IonBeam-Deployment/config/fdb/server/custom_schema\n",
      "DEBUG:ionbeam.core.config_parser.config_parser:Resolved config.globals.metkit_language_template to /Users/math/git/IonBeam-Deployment/config/metkit/language.yaml.template\n",
      "DEBUG:ionbeam.core.config_parser.config_parser:Resolved config.globals.secrets_file to /Users/math/git/IonBeam-Deployment/config/ionbeam/secrets.yaml\n",
      "DEBUG:ionbeam.core.config_parser.config_parser:Checked repository source state: CodeSourceInfo(repo_status='Dirty', git_hash='731f9ea2c94aaba20321b0743dccb4c67902b91d')\n"
     ]
    },
    {
     "ename": "ConfigMatchError",
     "evalue": "Invalid config yaml entry\n        ???:?\n        Determined the type to be 'SmartCitizenKitSource', check this is right.\n        Extra keys: set()\n        Missing keys: {'mappings'}\n        Default keys (for reference): {'copy_metadata_to_columns', 'id', 'cache_directory', 'metadata', 'cache_version', 'use_cache', 'finish_after'}\n\n        Values in the entry:\n        {'class': 'SmartCitizenKitSource', 'copy_metadata_to_columns': [{'name': 'sensor_name', 'key': 'sensor.name'}]}\n        ",
     "output_type": "error",
     "traceback": [
      "\u001b[0;31m---------------------------------------------------------------------------\u001b[0m",
      "\u001b[0;31mConfigMatchError\u001b[0m                          Traceback (most recent call last)",
      "Cell \u001b[0;32mIn[4], line 13\u001b[0m\n\u001b[1;32m      4\u001b[0m config_file \u001b[38;5;241m=\u001b[39m Path(\u001b[38;5;124m\"\u001b[39m\u001b[38;5;124m~/git/IonBeam-Deployment/config/ionbeam\u001b[39m\u001b[38;5;124m\"\u001b[39m)\u001b[38;5;241m.\u001b[39mexpanduser()\n\u001b[1;32m      6\u001b[0m action_yaml \u001b[38;5;241m=\u001b[39m \u001b[38;5;124m\"\"\"\u001b[39m\n\u001b[1;32m      7\u001b[0m \u001b[38;5;124mclass: SmartCitizenKitSource\u001b[39m\n\u001b[1;32m      8\u001b[0m \u001b[38;5;124mcopy_metadata_to_columns:\u001b[39m\n\u001b[1;32m      9\u001b[0m \u001b[38;5;124m  - name: sensor_name\u001b[39m\n\u001b[1;32m     10\u001b[0m \u001b[38;5;124m    key: sensor.name\u001b[39m\n\u001b[1;32m     11\u001b[0m \u001b[38;5;124m\"\"\"\u001b[39m\n\u001b[0;32m---> 13\u001b[0m config, sck_source \u001b[38;5;241m=\u001b[39m \u001b[43mparse_single_action\u001b[49m\u001b[43m(\u001b[49m\u001b[43mconfig_file\u001b[49m\u001b[43m,\u001b[49m\u001b[43m \u001b[49m\u001b[43maction_yaml\u001b[49m\u001b[43m,\u001b[49m\u001b[43m \u001b[49m\n\u001b[1;32m     14\u001b[0m \u001b[43m                        \u001b[49m\u001b[43moffline\u001b[49m\u001b[43m \u001b[49m\u001b[38;5;241;43m=\u001b[39;49m\u001b[43m \u001b[49m\u001b[38;5;28;43;01mTrue\u001b[39;49;00m\u001b[43m,\u001b[49m\n\u001b[1;32m     15\u001b[0m \u001b[43m                        \u001b[49m\u001b[43menvironment\u001b[49m\u001b[43m  \u001b[49m\u001b[38;5;241;43m=\u001b[39;49m\u001b[43m \u001b[49m\u001b[38;5;124;43m\"\u001b[39;49m\u001b[38;5;124;43mlocal\u001b[39;49m\u001b[38;5;124;43m\"\u001b[39;49m\u001b[43m)\u001b[49m\n\u001b[1;32m     17\u001b[0m sck_source\n",
      "File \u001b[0;32m~/git/IonBeam-deployment/docker/IonBeam/src/ionbeam/core/config_parser/config_parser.py:219\u001b[0m, in \u001b[0;36mparse_single_action\u001b[0;34m(config_dir, action_input, **overrides)\u001b[0m\n\u001b[1;32m    216\u001b[0m \u001b[38;5;28;01melse\u001b[39;00m:\n\u001b[1;32m    217\u001b[0m     action_dict \u001b[38;5;241m=\u001b[39m action_input\n\u001b[0;32m--> 219\u001b[0m action \u001b[38;5;241m=\u001b[39m \u001b[43mparse_config_from_dict\u001b[49m\u001b[43m(\u001b[49m\u001b[43mAction\u001b[49m\u001b[43m,\u001b[49m\u001b[43m \u001b[49m\u001b[43maction_dict\u001b[49m\u001b[43m)\u001b[49m\n\u001b[1;32m    221\u001b[0m action\u001b[38;5;241m.\u001b[39minit(config\u001b[38;5;241m.\u001b[39mglobals)\n\u001b[1;32m    223\u001b[0m \u001b[38;5;28;01mreturn\u001b[39;00m config, action\n",
      "File \u001b[0;32m~/git/IonBeam-deployment/docker/IonBeam/src/ionbeam/core/config_parser/config_parser_machinery.py:329\u001b[0m, in \u001b[0;36mparse_config_from_dict\u001b[0;34m(datacls, input_dict, filepath, overlay)\u001b[0m\n\u001b[1;32m    327\u001b[0m \u001b[38;5;28;01mdef\u001b[39;00m \u001b[38;5;21mparse_config_from_dict\u001b[39m(datacls, input_dict, filepath: Path \u001b[38;5;241m|\u001b[39m \u001b[38;5;28mstr\u001b[39m \u001b[38;5;241m|\u001b[39m \u001b[38;5;28;01mNone\u001b[39;00m \u001b[38;5;241m=\u001b[39m \u001b[38;5;28;01mNone\u001b[39;00m, overlay \u001b[38;5;241m=\u001b[39m \u001b[38;5;28;01mFalse\u001b[39;00m):\n\u001b[1;32m    328\u001b[0m     context \u001b[38;5;241m=\u001b[39m Context(filepath \u001b[38;5;129;01mor\u001b[39;00m \u001b[38;5;124m\"\u001b[39m\u001b[38;5;124m???\u001b[39m\u001b[38;5;124m\"\u001b[39m, overlay\u001b[38;5;241m=\u001b[39moverlay)\n\u001b[0;32m--> 329\u001b[0m     \u001b[38;5;28;01mreturn\u001b[39;00m \u001b[43mdataclass_from_dict\u001b[49m\u001b[43m(\u001b[49m\u001b[43mcontext\u001b[49m\u001b[43m,\u001b[49m\u001b[43m \u001b[49m\u001b[43mdatacls\u001b[49m\u001b[43m,\u001b[49m\u001b[43m \u001b[49m\u001b[43minput_dict\u001b[49m\u001b[43m)\u001b[49m\n",
      "File \u001b[0;32m~/git/IonBeam-deployment/docker/IonBeam/src/ionbeam/core/config_parser/config_parser_machinery.py:311\u001b[0m, in \u001b[0;36mdataclass_from_dict\u001b[0;34m(context, datacls, input_dict)\u001b[0m\n\u001b[1;32m    308\u001b[0m datacls \u001b[38;5;241m=\u001b[39m determine_matching_dataclass(context, \u001b[38;5;28;01mNone\u001b[39;00m, datacls, input_dict)\n\u001b[1;32m    310\u001b[0m \u001b[38;5;66;03m# Err if any keys are missing, there are extra keys etc\u001b[39;00m\n\u001b[0;32m--> 311\u001b[0m \u001b[43mcheck_matching\u001b[49m\u001b[43m(\u001b[49m\u001b[43mcontext\u001b[49m\u001b[43m,\u001b[49m\u001b[43m \u001b[49m\u001b[43mdatacls\u001b[49m\u001b[43m,\u001b[49m\u001b[43m \u001b[49m\u001b[43minput_dict\u001b[49m\u001b[43m)\u001b[49m\n\u001b[1;32m    313\u001b[0m kwargs \u001b[38;5;241m=\u001b[39m {\n\u001b[1;32m    314\u001b[0m         field\u001b[38;5;241m.\u001b[39mname: parse_field(context, field\u001b[38;5;241m.\u001b[39mname, field\u001b[38;5;241m.\u001b[39mtype, input_dict[field\u001b[38;5;241m.\u001b[39mname])\n\u001b[1;32m    315\u001b[0m                     \u001b[38;5;28;01mif\u001b[39;00m field\u001b[38;5;241m.\u001b[39mname \u001b[38;5;129;01min\u001b[39;00m input_dict \u001b[38;5;28;01melse\u001b[39;00m MISSING_OVERLAY \u001b[38;5;66;03m# If the field is missing and it's an overlay, set it to None\u001b[39;00m\n\u001b[1;32m    316\u001b[0m         \u001b[38;5;28;01mfor\u001b[39;00m field \u001b[38;5;129;01min\u001b[39;00m fields(datacls)\n\u001b[1;32m    317\u001b[0m         \u001b[38;5;28;01mif\u001b[39;00m field\u001b[38;5;241m.\u001b[39mname \u001b[38;5;129;01min\u001b[39;00m input_dict \u001b[38;5;129;01mor\u001b[39;00m context\u001b[38;5;241m.\u001b[39moverlay \u001b[38;5;66;03m# If it's not an overlay, skip this field\u001b[39;00m\n\u001b[1;32m    318\u001b[0m     }\n\u001b[1;32m    320\u001b[0m \u001b[38;5;66;03m# initialise all the post_init fields to None, leaving it up to the caller to deal with them\u001b[39;00m\n",
      "File \u001b[0;32m~/git/IonBeam-deployment/docker/IonBeam/src/ionbeam/core/config_parser/config_parser_machinery.py:54\u001b[0m, in \u001b[0;36mcheck_matching\u001b[0;34m(context, datacls, input_dict)\u001b[0m\n\u001b[1;32m     51\u001b[0m     diff \u001b[38;5;241m=\u001b[39m \u001b[38;5;28mset\u001b[39m\u001b[38;5;241m.\u001b[39msymmetric_difference(input_keys, datacls_keys)\n\u001b[1;32m     53\u001b[0m \u001b[38;5;28;01mif\u001b[39;00m diff \u001b[38;5;241m-\u001b[39m ignored_keys:\n\u001b[0;32m---> 54\u001b[0m     \u001b[38;5;28;01mraise\u001b[39;00m ConfigMatchError(\n\u001b[1;32m     55\u001b[0m         \u001b[38;5;124mf\u001b[39m\u001b[38;5;124m\"\"\"\u001b[39m\u001b[38;5;124mInvalid config yaml entry\u001b[39m\n\u001b[1;32m     56\u001b[0m \u001b[38;5;124m    \u001b[39m\u001b[38;5;132;01m{\u001b[39;00mcontext\u001b[38;5;241m.\u001b[39mfilepath\u001b[38;5;132;01m}\u001b[39;00m\u001b[38;5;124m:\u001b[39m\u001b[38;5;132;01m{\u001b[39;00minput_dict\u001b[38;5;241m.\u001b[39mget(LINE_KEY,\u001b[38;5;250m \u001b[39m\u001b[38;5;124m'\u001b[39m\u001b[38;5;124m?\u001b[39m\u001b[38;5;124m'\u001b[39m)\u001b[38;5;132;01m}\u001b[39;00m\n\u001b[1;32m     57\u001b[0m \u001b[38;5;124m    Determined the type to be \u001b[39m\u001b[38;5;124m'\u001b[39m\u001b[38;5;132;01m{\u001b[39;00mdatacls\u001b[38;5;241m.\u001b[39m\u001b[38;5;18m__name__\u001b[39m\u001b[38;5;132;01m}\u001b[39;00m\u001b[38;5;124m'\u001b[39m\u001b[38;5;124m, check this is right.\u001b[39m\n\u001b[1;32m     58\u001b[0m \u001b[38;5;124m    Extra keys: \u001b[39m\u001b[38;5;132;01m{\u001b[39;00minput_keys\u001b[38;5;250m \u001b[39m\u001b[38;5;241m-\u001b[39m\u001b[38;5;250m \u001b[39mdatacls_keys\u001b[38;5;250m \u001b[39m\u001b[38;5;241m-\u001b[39m\u001b[38;5;250m \u001b[39mignored_keys\u001b[38;5;132;01m}\u001b[39;00m\n\u001b[1;32m     59\u001b[0m \u001b[38;5;124m    Missing keys: \u001b[39m\u001b[38;5;132;01m{\u001b[39;00mdatacls_keys\u001b[38;5;250m \u001b[39m\u001b[38;5;241m-\u001b[39m\u001b[38;5;250m \u001b[39minput_keys\u001b[38;5;250m \u001b[39m\u001b[38;5;241m-\u001b[39m\u001b[38;5;250m \u001b[39mignored_keys\u001b[38;5;132;01m}\u001b[39;00m\n\u001b[1;32m     60\u001b[0m \u001b[38;5;124m    Default keys (for reference): \u001b[39m\u001b[38;5;132;01m{\u001b[39;00mdefault_keys\u001b[38;5;132;01m}\u001b[39;00m\n\u001b[1;32m     61\u001b[0m \n\u001b[1;32m     62\u001b[0m \u001b[38;5;124m    Values in the entry:\u001b[39m\n\u001b[1;32m     63\u001b[0m \u001b[38;5;124m    \u001b[39m\u001b[38;5;132;01m{\u001b[39;00minput_dict\u001b[38;5;132;01m}\u001b[39;00m\n\u001b[1;32m     64\u001b[0m \u001b[38;5;124m    \u001b[39m\u001b[38;5;124m\"\"\"\u001b[39m\n\u001b[1;32m     65\u001b[0m     )\n",
      "\u001b[0;31mConfigMatchError\u001b[0m: Invalid config yaml entry\n        ???:?\n        Determined the type to be 'SmartCitizenKitSource', check this is right.\n        Extra keys: set()\n        Missing keys: {'mappings'}\n        Default keys (for reference): {'copy_metadata_to_columns', 'id', 'cache_directory', 'metadata', 'cache_version', 'use_cache', 'finish_after'}\n\n        Values in the entry:\n        {'class': 'SmartCitizenKitSource', 'copy_metadata_to_columns': [{'name': 'sensor_name', 'key': 'sensor.name'}]}\n        "
     ]
    }
   ],
   "source": [
    "from ionbeam.sources import SmartCitizenKitSource\n",
    "from ionbeam.core import parse_single_action, parse_config\n",
    "\n",
    "config_file = Path(\"~/git/IonBeam-Deployment/config/ionbeam\").expanduser()\n",
    "\n",
    "action_yaml = \"\"\"\n",
    "class: SmartCitizenKitSource\n",
    "copy_metadata_to_columns:\n",
    "  - name: sensor_name\n",
    "    key: sensor.name\n",
    "\"\"\"\n",
    "\n",
    "config, sck_source = parse_single_action(config_file, action_yaml, \n",
    "                        offline = True,\n",
    "                        environment  = \"local\")\n",
    "\n",
    "sck_source"
   ]
  },
  {
   "cell_type": "code",
   "execution_count": null,
   "id": "4a5a4f09-1c8d-430a-a48e-6c398a9bc74b",
   "metadata": {},
   "outputs": [],
   "source": [
    "from sqlalchemy.orm import Session\n",
    "from ionbeam.metadata.db import *\n",
    "\n",
    "init_db(config.globals)"
   ]
  },
  {
   "cell_type": "code",
   "execution_count": null,
   "id": "ca30c51f-08ff-4260-9a04-19d18c80b918",
   "metadata": {},
   "outputs": [],
   "source": [
    "devices = sck_source.get_ICHANGE_devices()"
   ]
  },
  {
   "cell_type": "code",
   "execution_count": 8,
   "id": "05e3e897-06cf-4487-bbe1-d7841874cfef",
   "metadata": {},
   "outputs": [
    {
     "data": {
      "text/plain": [
       "[]"
      ]
     },
     "execution_count": 8,
     "metadata": {},
     "output_type": "execute_result"
    }
   ],
   "source": [
    "devices = sck_source.get_ICHANGE_devices()\n",
    "d = devices[0]\n",
    "for sensor in d[\"data\"][\"sensors\"]:\n",
    "    readings = self.get_readings(chunk[\"device_id\"], sensor[\"id\"], chunk[\"start_date\"], chunk[\"end_date\"])\n"
   ]
  },
  {
   "cell_type": "code",
   "execution_count": 7,
   "id": "18da20b6-65b2-4684-8ce6-c652fbc652db",
   "metadata": {},
   "outputs": [
    {
     "name": "stdout",
     "output_type": "stream",
     "text": [
      "Station(id=None, external_id=28)\n"
     ]
    }
   ],
   "source": [
    "from ionbeam.metadata import db\n",
    "from shapely.geometry import Point\n",
    "\n",
    "from ionbeam.sources.smart_citizen_kit.metadata import construct_sck_metadata(sck_source, device)\n",
    "\n",
    "device = devices[0]\n",
    "construct_sck_metadata(sck_source, device)\n"
   ]
  },
  {
   "cell_type": "code",
   "execution_count": 20,
   "id": "811f6cb8-5d78-4e44-a33d-4eadebd09161",
   "metadata": {},
   "outputs": [
    {
     "name": "stderr",
     "output_type": "stream",
     "text": [
      "[autoreload of ionbeam.metadata.db failed: Traceback (most recent call last):\n",
      "  File \"/Users/math/micromamba/envs/ionbeam/lib/python3.11/site-packages/IPython/extensions/autoreload.py\", line 276, in check\n",
      "    superreload(m, reload, self.old_objects)\n",
      "  File \"/Users/math/micromamba/envs/ionbeam/lib/python3.11/site-packages/IPython/extensions/autoreload.py\", line 500, in superreload\n",
      "    update_generic(old_obj, new_obj)\n",
      "  File \"/Users/math/micromamba/envs/ionbeam/lib/python3.11/site-packages/IPython/extensions/autoreload.py\", line 397, in update_generic\n",
      "    update(a, b)\n",
      "  File \"/Users/math/micromamba/envs/ionbeam/lib/python3.11/site-packages/IPython/extensions/autoreload.py\", line 335, in update_class\n",
      "    if (old_obj == new_obj) is True:\n",
      "        ^^^^^^^^^^^^^^^^^^\n",
      "  File \"/Users/math/micromamba/envs/ionbeam/lib/python3.11/site-packages/sqlalchemy/sql/operators.py\", line 582, in __eq__\n",
      "    return self.operate(eq, other)\n",
      "           ^^^^^^^^^^^^^^^^^^^^^^^\n",
      "  File \"/Users/math/micromamba/envs/ionbeam/lib/python3.11/site-packages/sqlalchemy/orm/attributes.py\", line 453, in operate\n",
      "    return op(self.comparator, *other, **kwargs)  # type: ignore[no-any-return]  # noqa: E501\n",
      "           ^^^^^^^^^^^^^^^^^^^^^^^^^^^^^^^^^^^^^\n",
      "  File \"/Users/math/micromamba/envs/ionbeam/lib/python3.11/site-packages/sqlalchemy/orm/relationships.py\", line 756, in __eq__\n",
      "    raise sa_exc.InvalidRequestError(\n",
      "sqlalchemy.exc.InvalidRequestError: Can't compare a collection to an object or collection; use contains() to test for membership.\n",
      "]\n"
     ]
    },
    {
     "name": "stdout",
     "output_type": "stream",
     "text": [
      "Retrieved station:  Station(id=5bdf8734-8864-46c6-995e-3001a3810473, external_id='28')\n",
      "Station(id=5bdf8734-8864-46c6-995e-3001a3810473, external_id='28')\n",
      "Sensor(id=2, name='DHT22 - Humidity')\n",
      "[Property(key=''Relative Humidity'', name='Relative Humidity', unit='%', description='Relative humidity is a measure of the amount of moisture in the air relative to the total amount of moisture the air can hold. For instance, if the relative humidity was 50%, then the air is only half saturated with moisture.')]\n"
     ]
    }
   ],
   "source": [
    "import json\n",
    "device = devices[0]\n",
    "id = device[\"id\"]\n",
    "\n",
    "\n",
    "with Session(sck_source.globals.sql_engine) as session:\n",
    "    station = db.Station.find_by(session, external_id = str(id))\n",
    "    print(\"Retrieved station: \", station)\n",
    "    j = station.as_json()\n",
    "    print(station)\n",
    "    print(station.sensors[1])\n",
    "    print(station.sensors[1].properties)\n",
    "\n",
    "# print(json.dumps(j, indent = 4))"
   ]
  },
  {
   "cell_type": "code",
   "execution_count": 9,
   "id": "9a05d415-3eb0-40b2-aa15-a273284b3808",
   "metadata": {},
   "outputs": [
    {
     "data": {
      "text/plain": [
       "{'id': 12,\n",
       " 'uuid': '7ff5b84c-1f20-4ae4-a7f9-c588ebf51161',\n",
       " 'username': 'sejarque',\n",
       " 'url': '',\n",
       " 'avatar': 'https://images.smartcitizen.me/s100/avatars/12-Yo.JPG',\n",
       " 'profile_picture': 'https://api.smartcitizen.me/rails/active_storage/blobs/redirect/eyJfcmFpbHMiOnsibWVzc2FnZSI6IkJBaHBBalVCIiwiZXhwIjpudWxsLCJwdXIiOiJibG9iX2lkIn19--cb535c26e1ee4311479135fc16f1752d7bea5f9d/12-Yo.JPG',\n",
       " 'location': {'city': 'MATADEPERA', 'country': None, 'country_code': None},\n",
       " 'device_ids': [28]}"
      ]
     },
     "execution_count": 9,
     "metadata": {},
     "output_type": "execute_result"
    }
   ],
   "source": [
    "device[\"owner\"]"
   ]
  },
  {
   "cell_type": "code",
   "execution_count": 10,
   "id": "c185b4c5-53da-4469-a37c-6693da3fd0e3",
   "metadata": {},
   "outputs": [
    {
     "data": {
      "text/plain": [
       "((1.0, 2.0, 3.0),)"
      ]
     },
     "execution_count": 10,
     "metadata": {},
     "output_type": "execute_result"
    }
   ],
   "source": [
    "from shapely import Point, to_geojson\n",
    "\n",
    "p = Point(1,2,3)\n",
    "tuple(p.coords)"
   ]
  },
  {
   "cell_type": "code",
   "execution_count": null,
   "id": "825e9f5f-c9fa-491e-b873-19b907f12dd4",
   "metadata": {},
   "outputs": [],
   "source": []
  },
  {
   "cell_type": "code",
   "execution_count": null,
   "id": "852ad2d8-3fae-4569-b1e7-0deab86000c5",
   "metadata": {},
   "outputs": [],
   "source": []
  },
  {
   "cell_type": "code",
   "execution_count": 11,
   "id": "46ffcd34-7c31-4534-b004-ad145aea3ed4",
   "metadata": {},
   "outputs": [
    {
     "name": "stdout",
     "output_type": "stream",
     "text": [
      "[Station(id=5bdf8734-8864-46c6-995e-3001a3810473, external_id='28')]\n"
     ]
    }
   ],
   "source": [
    "with Session(sck_source.globals.sql_engine) as session:\n",
    "    print(session.query(Station).all())\n",
    "    # print(session.query(Station).filter_by(external_id = ).one_or_none())"
   ]
  },
  {
   "cell_type": "code",
   "execution_count": 12,
   "id": "e51c5bb9-7fa0-4da1-9101-3d0371be825b",
   "metadata": {},
   "outputs": [
    {
     "data": {
      "text/plain": [
       "{'id': 28,\n",
       " 'uuid': '856e9670-03d1-481e-b9c5-6bf16474d993',\n",
       " 'name': 'Manyi_08230',\n",
       " 'description': 'Desde el 3/5/13: en exterior.\\nEmplazamiento: Zona arbolada en limite de Parque Natural Sant Llorenç.\\nSituado a unos 60m de la calle con trafico mas próxima.\\n\\nColocación sensor: desde ahora; 2/4/14 en caja kit.\\nSituado bajo placa solar.\\n\\nAlimentación del sensor: Desde el 19/05/2013, conectado a placa solar de 12V-610mA Ref: ET-M53610 encarada a 182 Sur, con unos 45grados de inclinación. Desde 2/4/14, sin placa solar, alimentado permanente con alimentador.',\n",
       " 'state': 'has_published',\n",
       " 'system_tags': ['offline', 'outdoor'],\n",
       " 'user_tags': ['Barcelona'],\n",
       " 'last_reading_at': '2014-04-04T18:30:16Z',\n",
       " 'created_at': '2013-04-24T22:17:56Z',\n",
       " 'updated_at': '2024-06-27T17:03:14Z',\n",
       " 'notify': {'stopped_publishing': False, 'low_battery': False},\n",
       " 'device_token': '[FILTERED]',\n",
       " 'postprocessing': None,\n",
       " 'location': {'ip': None,\n",
       "  'exposure': 'outdoor',\n",
       "  'elevation': 680,\n",
       "  'latitude': 41.61441,\n",
       "  'longitude': 2.01106,\n",
       "  'geohash': 'sp3ktz8mt0',\n",
       "  'city': 'Matadepera',\n",
       "  'country_code': 'ES',\n",
       "  'country': 'Spain'},\n",
       " 'data_policy': {'is_private': '[FILTERED]',\n",
       "  'enable_forwarding': '[FILTERED]',\n",
       "  'precise_location': '[FILTERED]'},\n",
       " 'hardware': {'name': 'SmartCitizen Kit 1.0',\n",
       "  'type': 'SCK',\n",
       "  'version': '1.0',\n",
       "  'slug': 'sck:1,0',\n",
       "  'last_status_message': '[FILTERED]'}}"
      ]
     },
     "execution_count": 12,
     "metadata": {},
     "output_type": "execute_result"
    }
   ],
   "source": [
    "{k : v  for k, v in devices[0].items() if k not in {\"owner\", \"data\"}}"
   ]
  },
  {
   "cell_type": "code",
   "execution_count": 13,
   "id": "784c51d9-45dd-4e19-a2d9-f380e4e4e684",
   "metadata": {
    "scrolled": true
   },
   "outputs": [
    {
     "ename": "NameError",
     "evalue": "name 'messages' is not defined",
     "output_type": "error",
     "traceback": [
      "\u001b[0;31m---------------------------------------------------------------------------\u001b[0m",
      "\u001b[0;31mNameError\u001b[0m                                 Traceback (most recent call last)",
      "Cell \u001b[0;32mIn[13], line 1\u001b[0m\n\u001b[0;32m----> 1\u001b[0m \u001b[38;5;28;01mfor\u001b[39;00m msg \u001b[38;5;129;01min\u001b[39;00m \u001b[43mmessages\u001b[49m:\n\u001b[1;32m      2\u001b[0m     \u001b[38;5;28mprint\u001b[39m(msg\u001b[38;5;241m.\u001b[39mdata\u001b[38;5;241m.\u001b[39mcolumns)\n\u001b[1;32m      3\u001b[0m     \u001b[38;5;28mprint\u001b[39m(msg\u001b[38;5;241m.\u001b[39mmetadata\u001b[38;5;241m.\u001b[39munstructured)\n",
      "\u001b[0;31mNameError\u001b[0m: name 'messages' is not defined"
     ]
    }
   ],
   "source": [
    "for msg in messages:\n",
    "    print(msg.data.columns)\n",
    "    print(msg.metadata.unstructured)"
   ]
  },
  {
   "cell_type": "code",
   "execution_count": null,
   "id": "5df208d3-77e6-4dbc-8dac-2ac6197cb4d8",
   "metadata": {},
   "outputs": [],
   "source": [
    "\n",
    "set(col for msg in messages for col in msg.data.columns)"
   ]
  },
  {
   "cell_type": "code",
   "execution_count": null,
   "id": "a3bc2f25-aa2f-49f4-b696-c50ad1f010b8",
   "metadata": {},
   "outputs": [],
   "source": []
  },
  {
   "cell_type": "code",
   "execution_count": null,
   "id": "e0ce5458-9df4-4702-9122-42d57ace7d10",
   "metadata": {},
   "outputs": [],
   "source": [
    "sck_source.get_sensor(5)"
   ]
  },
  {
   "cell_type": "code",
   "execution_count": null,
   "id": "4f6eb181-cd24-42dc-a6ba-50f5bdd2e451",
   "metadata": {},
   "outputs": [],
   "source": [
    "from functools import cache\n",
    "\n",
    "@cache\n",
    "def sensor_ancestry(id):\n",
    "    ancestry = []\n",
    "    while True:\n",
    "        try:\n",
    "            s = sck_source.get_sensor(id)\n",
    "        except:\n",
    "            return ancestry[::-1]\n",
    "        ancestry.append(s)\n",
    "        if \"parent_id\" in s and s[\"parent_id\"] is not None:\n",
    "            id = s[\"parent_id\"]\n",
    "        else: break\n",
    "    return ancestry[::-1]\n",
    "\n",
    "def print_ancestry(id): print(\" -> \".join(s[\"name\"] for s in sensor_ancestry(id)))\n",
    "\n",
    "print_ancestry(5)\n",
    "print_ancestry(4)"
   ]
  },
  {
   "cell_type": "code",
   "execution_count": null,
   "id": "e9c49c7e-5208-4fea-b213-943719509a21",
   "metadata": {},
   "outputs": [],
   "source": [
    "sck_source.get_sensor(5)"
   ]
  },
  {
   "cell_type": "code",
   "execution_count": null,
   "id": "838a873e-2bc7-4147-a453-3cd0cb071ab3",
   "metadata": {},
   "outputs": [],
   "source": [
    "sensor_map = {}\n",
    "\n",
    "for d in devices:\n",
    "    for i, s in enumerate(d[\"data\"][\"sensors\"]):\n",
    "        sensor_map[s[\"name\"]] = dict(\n",
    "            device_id = d[\"id\"],\n",
    "            sensor_id = s[\"id\"],\n",
    "            device_name = d[\"name\"],\n",
    "            sensor_name = s[\"name\"],\n",
    "            default_key = s[\"default_key\"],\n",
    "            ancestry = [s[\"name\"] for s in sensor_ancestry(s[\"id\"])],\n",
    "            measurement = s[\"measurement\"][\"name\"],\n",
    "            unit = s[\"unit\"]\n",
    "        )\n",
    "            \n",
    "        # print(\"name\", )\n",
    "        # print(\"default_key\", )\n",
    "        # print_ancestry(s[\"id\"])\n",
    "        # print(\"Measurement\", s[\"measurement\"][\"name\"])\n",
    "        # print()\n",
    "        # print(s[\"measurement\"][\"description\"])\n",
    "        # print()\n",
    "    # print(devices[0][\"data\"][\"sensors\"][0])\n",
    "\n",
    "sensor_map"
   ]
  },
  {
   "cell_type": "code",
   "execution_count": null,
   "id": "8c7c09b1-052a-4bca-a0d5-8d76547cec5c",
   "metadata": {},
   "outputs": [],
   "source": [
    "by_measurement = {}\n",
    "for s in sensor_map.values():\n",
    "    by_measurement[s[\"measurement\"]] = by_measurement.get(s[\"measurement\"], []) + [s,]\n",
    "\n",
    "by_measurement"
   ]
  },
  {
   "cell_type": "code",
   "execution_count": null,
   "id": "9c7242c9-6199-473d-9e40-340c2d35353f",
   "metadata": {},
   "outputs": [],
   "source": [
    "s = sck_source.get_sensor(7)\n",
    "s"
   ]
  },
  {
   "cell_type": "code",
   "execution_count": null,
   "id": "c7a4a867-a28b-46e9-b913-45e8d827c369",
   "metadata": {},
   "outputs": [],
   "source": [
    "s = 135\n",
    "while True:\n",
    "    sensor = sck_source.get_sensor(s)\n",
    "    print(sensor)\n",
    "    print()\n",
    "    if \"parent_id\" in sensor and sensor[\"parent_id\"] is not None and sensor[\"parent_id\"] != s:\n",
    "            s = sensor[\"parent_id\"]\n",
    "    else:\n",
    "        break\n",
    "        \n",
    "        \n"
   ]
  }
 ],
 "metadata": {
  "kernelspec": {
   "display_name": "Python [conda env:micromamba-ionbeam]",
   "language": "python",
   "name": "conda-env-micromamba-ionbeam-py"
  },
  "language_info": {
   "codemirror_mode": {
    "name": "ipython",
    "version": 3
   },
   "file_extension": ".py",
   "mimetype": "text/x-python",
   "name": "python",
   "nbconvert_exporter": "python",
   "pygments_lexer": "ipython3",
   "version": "3.12.7"
  }
 },
 "nbformat": 4,
 "nbformat_minor": 5
}
