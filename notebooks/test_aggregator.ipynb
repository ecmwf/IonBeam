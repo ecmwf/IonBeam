{
 "cells": [
  {
   "cell_type": "code",
   "execution_count": 1,
   "id": "022baf28-3d0c-4811-9557-6688e26ae262",
   "metadata": {
    "tags": []
   },
   "outputs": [],
   "source": [
    "%load_ext autoreload\n",
    "%autoreload 2"
   ]
  },
  {
   "cell_type": "code",
   "execution_count": 2,
   "id": "1f569aad-2816-4469-b3e4-f393de3baad9",
   "metadata": {},
   "outputs": [],
   "source": [
    "# !pip install wurlitzer"
   ]
  },
  {
   "cell_type": "code",
   "execution_count": 3,
   "id": "0d0d0b9e-057e-4fe7-b8bb-f5bd8d4f2bc1",
   "metadata": {},
   "outputs": [],
   "source": [
    "%load_ext wurlitzer"
   ]
  },
  {
   "cell_type": "code",
   "execution_count": 4,
   "id": "2d085329-f93a-4619-bd41-b356db95be52",
   "metadata": {
    "tags": []
   },
   "outputs": [
    {
     "ename": "",
     "evalue": "",
     "output_type": "error",
     "traceback": [
      "\u001b[1;31mThe Kernel crashed while executing code in the current cell or a previous cell. \n",
      "\u001b[1;31mPlease review the code in the cell(s) to identify a possible cause of the failure. \n",
      "\u001b[1;31mClick <a href='https://aka.ms/vscodeJupyterKernelCrash'>here</a> for more info. \n",
      "\u001b[1;31mView Jupyter <a href='command:jupyter.viewOutput'>log</a> for further details."
     ]
    }
   ],
   "source": [
    "import pandas as pd\n",
    "import numpy as np\n",
    "import logging\n",
    "logging.basicConfig(level = logging.INFO)"
   ]
  },
  {
   "cell_type": "code",
   "execution_count": 5,
   "id": "08cae1da-ed7b-4b3a-8d49-e7a5f7a8a75f",
   "metadata": {},
   "outputs": [],
   "source": [
    "import pyfdb\n",
    "import findlibs\n",
    "import yaml\n",
    "from pathlib import Path\n",
    "import os\n",
    "import pandas as pd\n",
    "import pyodc\n",
    "import shutil\n",
    "\n",
    "fdb5_path = Path(findlibs.find(\"fdb5\"))\n",
    "metkit_path = Path(findlibs.find(\"metkit\"))\n",
    "print(f\"Using fdb5 shared library from {fdb5_path}\")\n",
    "print(f\"Using metkit shared library from {metkit_path}\")\n",
    "\n",
    "marsrequest = (metkit_path.parents[1] / \"share/metkit/odb/marsrequest.yaml\").resolve()\n",
    "languages = (metkit_path.parents[1] / \"share/metkit/language.yaml\").resolve() \n",
    "\n",
    "print(f\"\\nContents of {marsrequest}:\\n\", marsrequest.open().read())\n",
    "\n",
    "fields = \" \".join(yaml.safe_load(languages.open().read())[\"_field\"].keys())\n",
    "print(f\"Fields defined in {languages}:\\n {fields}\")"
   ]
  },
  {
   "cell_type": "code",
   "execution_count": null,
   "id": "dd2b473c-910c-476f-bbc6-734c7497679f",
   "metadata": {
    "tags": []
   },
   "outputs": [
    {
     "name": "stderr",
     "output_type": "stream",
     "text": [
      "WARNING:ionbeam.core.config_parser.config_parser:Configuration Directory: /Users/math/git/IonBeam-Deployment/config/ionbeam\n",
      "WARNING:ionbeam.core.config_parser.config_parser:Global config file: /Users/math/git/IonBeam-Deployment/config/ionbeam/config.yaml\n"
     ]
    }
   ],
   "source": [
    "from pathlib import Path\n",
    "from ionbeam.core.config_parser import parse_config\n",
    "from ionbeam.core.bases import *\n",
    "from IPython.display import display\n",
    "\n",
    "config_file = Path(\"~/git/IonBeam-Deployment/config/ionbeam\").expanduser()\n",
    "config, actions = parse_config(config_file,\n",
    "                    config_path = \"./\",\n",
    "                    data_path = \"../data/\",\n",
    "                    offline = True,\n",
    "                    environment  = \"local\",\n",
    "                    )"
   ]
  },
  {
   "cell_type": "code",
   "execution_count": null,
   "id": "e882c97b-ded6-405c-8bb4-8cb615e95cd5",
   "metadata": {},
   "outputs": [
    {
     "name": "stderr",
     "output_type": "stream",
     "text": [
      "WARNING:ionbeam.core.config_parser.config_parser:Configuration Directory: /Users/math/git/IonBeam-Deployment/config/ionbeam\n",
      "WARNING:ionbeam.core.config_parser.config_parser:Global config file: /Users/math/git/IonBeam-Deployment/config/ionbeam/config.yaml\n"
     ]
    },
    {
     "name": "stdout",
     "output_type": "stream",
     "text": [
      "Putting in message with start_time = Timestamp('2024-01-01 00:00:00+0000', tz='UTC')\n"
     ]
    },
    {
     "ename": "KeyError",
     "evalue": "'bar'",
     "output_type": "error",
     "traceback": [
      "\u001b[0;31m---------------------------------------------------------------------------\u001b[0m",
      "\u001b[0;31mKeyError\u001b[0m                                  Traceback (most recent call last)",
      "File \u001b[0;32m~/micromamba/envs/ionbeam/lib/python3.11/site-packages/pandas/core/indexes/base.py:3805\u001b[0m, in \u001b[0;36mIndex.get_loc\u001b[0;34m(self, key)\u001b[0m\n\u001b[1;32m   3804\u001b[0m \u001b[38;5;28;01mtry\u001b[39;00m:\n\u001b[0;32m-> 3805\u001b[0m     \u001b[38;5;28;01mreturn\u001b[39;00m \u001b[38;5;28;43mself\u001b[39;49m\u001b[38;5;241;43m.\u001b[39;49m\u001b[43m_engine\u001b[49m\u001b[38;5;241;43m.\u001b[39;49m\u001b[43mget_loc\u001b[49m\u001b[43m(\u001b[49m\u001b[43mcasted_key\u001b[49m\u001b[43m)\u001b[49m\n\u001b[1;32m   3806\u001b[0m \u001b[38;5;28;01mexcept\u001b[39;00m \u001b[38;5;167;01mKeyError\u001b[39;00m \u001b[38;5;28;01mas\u001b[39;00m err:\n",
      "File \u001b[0;32mindex.pyx:167\u001b[0m, in \u001b[0;36mpandas._libs.index.IndexEngine.get_loc\u001b[0;34m()\u001b[0m\n",
      "File \u001b[0;32mindex.pyx:196\u001b[0m, in \u001b[0;36mpandas._libs.index.IndexEngine.get_loc\u001b[0;34m()\u001b[0m\n",
      "File \u001b[0;32mpandas/_libs/hashtable_class_helper.pxi:7081\u001b[0m, in \u001b[0;36mpandas._libs.hashtable.PyObjectHashTable.get_item\u001b[0;34m()\u001b[0m\n",
      "File \u001b[0;32mpandas/_libs/hashtable_class_helper.pxi:7089\u001b[0m, in \u001b[0;36mpandas._libs.hashtable.PyObjectHashTable.get_item\u001b[0;34m()\u001b[0m\n",
      "\u001b[0;31mKeyError\u001b[0m: 'bar'",
      "\nThe above exception was the direct cause of the following exception:\n",
      "\u001b[0;31mKeyError\u001b[0m                                  Traceback (most recent call last)",
      "Cell \u001b[0;32mIn[7], line 33\u001b[0m\n\u001b[1;32m     29\u001b[0m \u001b[38;5;28;01mfor\u001b[39;00m i, start_time \u001b[38;5;129;01min\u001b[39;00m \u001b[38;5;28menumerate\u001b[39m(pd\u001b[38;5;241m.\u001b[39mdate_range(start\u001b[38;5;241m=\u001b[39mdt(\u001b[38;5;241m2024\u001b[39m, \u001b[38;5;241m1\u001b[39m, \u001b[38;5;241m1\u001b[39m, \u001b[38;5;241m0\u001b[39m), end\u001b[38;5;241m=\u001b[39mdt(\u001b[38;5;241m2024\u001b[39m, \u001b[38;5;241m1\u001b[39m, \u001b[38;5;241m3\u001b[39m, \u001b[38;5;241m0\u001b[39m),\n\u001b[1;32m     30\u001b[0m                                     freq \u001b[38;5;241m=\u001b[39m \u001b[38;5;124m\"\u001b[39m\u001b[38;5;124m1h\u001b[39m\u001b[38;5;124m\"\u001b[39m, tz \u001b[38;5;241m=\u001b[39m timezone\u001b[38;5;241m.\u001b[39mutc)):\n\u001b[1;32m     32\u001b[0m     \u001b[38;5;28mprint\u001b[39m(\u001b[38;5;124mf\u001b[39m\u001b[38;5;124m\"\u001b[39m\u001b[38;5;124mPutting in message with \u001b[39m\u001b[38;5;132;01m{\u001b[39;00mstart_time\u001b[38;5;250m \u001b[39m\u001b[38;5;132;01m= }\u001b[39;00m\u001b[38;5;124m\"\u001b[39m)\n\u001b[0;32m---> 33\u001b[0m \u001b[43m    \u001b[49m\u001b[38;5;28;43;01mfor\u001b[39;49;00m\u001b[43m \u001b[49m\u001b[43mm\u001b[49m\u001b[43m \u001b[49m\u001b[38;5;129;43;01min\u001b[39;49;00m\u001b[43m \u001b[49m\u001b[43magg\u001b[49m\u001b[38;5;241;43m.\u001b[39;49m\u001b[43mprocess\u001b[49m\u001b[43m(\u001b[49m\u001b[43mmake_fake_message\u001b[49m\u001b[43m(\u001b[49m\u001b[43mi\u001b[49m\u001b[43m,\u001b[49m\u001b[43m \u001b[49m\u001b[43mstart_time\u001b[49m\u001b[43m,\u001b[49m\u001b[43m \u001b[49m\u001b[43m)\u001b[49m\u001b[43m)\u001b[49m\u001b[43m:\u001b[49m\n\u001b[1;32m     34\u001b[0m \u001b[43m        \u001b[49m\u001b[38;5;28;43mprint\u001b[39;49m\u001b[43m(\u001b[49m\u001b[38;5;124;43m\"\u001b[39;49m\u001b[38;5;124;43mTime agg emitted\u001b[39;49m\u001b[38;5;124;43m\"\u001b[39;49m\u001b[43m,\u001b[49m\u001b[43m \u001b[49m\u001b[43mm\u001b[49m\u001b[43m,\u001b[49m\u001b[43m \u001b[49m\u001b[43mm\u001b[49m\u001b[38;5;241;43m.\u001b[39;49m\u001b[43mdata\u001b[49m\u001b[43m)\u001b[49m\n",
      "File \u001b[0;32m~/git/IonBeam-deployment/docker/IonBeam/src/ionbeam/encoders/odb.py:268\u001b[0m, in \u001b[0;36mODCEncoder.encode\u001b[0;34m(self, msg)\u001b[0m\n\u001b[1;32m    264\u001b[0m     \u001b[38;5;28;01mreturn\u001b[39;00m\n\u001b[1;32m    266\u001b[0m \u001b[38;5;28;01mif\u001b[39;00m \u001b[38;5;28mself\u001b[39m\u001b[38;5;241m.\u001b[39mglobals\u001b[38;5;241m.\u001b[39msplit_data_columns:\n\u001b[1;32m    267\u001b[0m     \u001b[38;5;66;03m# Todo: think more about the case where we're emitting a variable like pressure both as an observation and an id'ing column\u001b[39;00m\n\u001b[0;32m--> 268\u001b[0m     \u001b[38;5;28;01mif\u001b[39;00m \u001b[38;5;28misinstance\u001b[39m(\u001b[43mmsg\u001b[49m\u001b[38;5;241;43m.\u001b[39;49m\u001b[43mdata\u001b[49m\u001b[43m[\u001b[49m\u001b[43mmsg\u001b[49m\u001b[38;5;241;43m.\u001b[39;49m\u001b[43mmetadata\u001b[49m\u001b[38;5;241;43m.\u001b[39;49m\u001b[43mobservation_variable\u001b[49m\u001b[43m]\u001b[49m, pd\u001b[38;5;241m.\u001b[39mDataFrame):\n\u001b[1;32m    269\u001b[0m         \u001b[38;5;28;01mraise\u001b[39;00m \u001b[38;5;167;01mValueError\u001b[39;00m(\u001b[38;5;124mf\u001b[39m\u001b[38;5;124m\"\u001b[39m\u001b[38;5;124mData columns conatains duplicated entry! \u001b[39m\u001b[38;5;132;01m{\u001b[39;00mmsg\u001b[38;5;241m.\u001b[39mdata[msg\u001b[38;5;241m.\u001b[39mmetadata\u001b[38;5;241m.\u001b[39mobservation_variable]\u001b[38;5;241m.\u001b[39mcolumns\u001b[38;5;132;01m}\u001b[39;00m\u001b[38;5;124m\"\u001b[39m)\n\u001b[1;32m    270\u001b[0m     obsval_dtype \u001b[38;5;241m=\u001b[39m msg\u001b[38;5;241m.\u001b[39mdata[msg\u001b[38;5;241m.\u001b[39mmetadata\u001b[38;5;241m.\u001b[39mobservation_variable]\u001b[38;5;241m.\u001b[39mdtype\n",
      "File \u001b[0;32m~/micromamba/envs/ionbeam/lib/python3.11/site-packages/pandas/core/frame.py:4090\u001b[0m, in \u001b[0;36mDataFrame.__getitem__\u001b[0;34m(self, key)\u001b[0m\n\u001b[1;32m   4088\u001b[0m \u001b[38;5;28;01mif\u001b[39;00m \u001b[38;5;28mself\u001b[39m\u001b[38;5;241m.\u001b[39mcolumns\u001b[38;5;241m.\u001b[39mnlevels \u001b[38;5;241m>\u001b[39m \u001b[38;5;241m1\u001b[39m:\n\u001b[1;32m   4089\u001b[0m     \u001b[38;5;28;01mreturn\u001b[39;00m \u001b[38;5;28mself\u001b[39m\u001b[38;5;241m.\u001b[39m_getitem_multilevel(key)\n\u001b[0;32m-> 4090\u001b[0m indexer \u001b[38;5;241m=\u001b[39m \u001b[38;5;28;43mself\u001b[39;49m\u001b[38;5;241;43m.\u001b[39;49m\u001b[43mcolumns\u001b[49m\u001b[38;5;241;43m.\u001b[39;49m\u001b[43mget_loc\u001b[49m\u001b[43m(\u001b[49m\u001b[43mkey\u001b[49m\u001b[43m)\u001b[49m\n\u001b[1;32m   4091\u001b[0m \u001b[38;5;28;01mif\u001b[39;00m is_integer(indexer):\n\u001b[1;32m   4092\u001b[0m     indexer \u001b[38;5;241m=\u001b[39m [indexer]\n",
      "File \u001b[0;32m~/micromamba/envs/ionbeam/lib/python3.11/site-packages/pandas/core/indexes/base.py:3812\u001b[0m, in \u001b[0;36mIndex.get_loc\u001b[0;34m(self, key)\u001b[0m\n\u001b[1;32m   3807\u001b[0m     \u001b[38;5;28;01mif\u001b[39;00m \u001b[38;5;28misinstance\u001b[39m(casted_key, \u001b[38;5;28mslice\u001b[39m) \u001b[38;5;129;01mor\u001b[39;00m (\n\u001b[1;32m   3808\u001b[0m         \u001b[38;5;28misinstance\u001b[39m(casted_key, abc\u001b[38;5;241m.\u001b[39mIterable)\n\u001b[1;32m   3809\u001b[0m         \u001b[38;5;129;01mand\u001b[39;00m \u001b[38;5;28many\u001b[39m(\u001b[38;5;28misinstance\u001b[39m(x, \u001b[38;5;28mslice\u001b[39m) \u001b[38;5;28;01mfor\u001b[39;00m x \u001b[38;5;129;01min\u001b[39;00m casted_key)\n\u001b[1;32m   3810\u001b[0m     ):\n\u001b[1;32m   3811\u001b[0m         \u001b[38;5;28;01mraise\u001b[39;00m InvalidIndexError(key)\n\u001b[0;32m-> 3812\u001b[0m     \u001b[38;5;28;01mraise\u001b[39;00m \u001b[38;5;167;01mKeyError\u001b[39;00m(key) \u001b[38;5;28;01mfrom\u001b[39;00m \u001b[38;5;21;01merr\u001b[39;00m\n\u001b[1;32m   3813\u001b[0m \u001b[38;5;28;01mexcept\u001b[39;00m \u001b[38;5;167;01mTypeError\u001b[39;00m:\n\u001b[1;32m   3814\u001b[0m     \u001b[38;5;66;03m# If we have a listlike key, _check_indexing_error will raise\u001b[39;00m\n\u001b[1;32m   3815\u001b[0m     \u001b[38;5;66;03m#  InvalidIndexError. Otherwise we fall through and re-raise\u001b[39;00m\n\u001b[1;32m   3816\u001b[0m     \u001b[38;5;66;03m#  the TypeError.\u001b[39;00m\n\u001b[1;32m   3817\u001b[0m     \u001b[38;5;28mself\u001b[39m\u001b[38;5;241m.\u001b[39m_check_indexing_error(key)\n",
      "\u001b[0;31mKeyError\u001b[0m: 'bar'"
     ]
    }
   ],
   "source": [
    "from datetime import datetime as dt\n",
    "from datetime import timezone, timedelta\n",
    "\n",
    "\n",
    "config, actions = parse_config(config_file,\n",
    "                    config_path = \"./\",\n",
    "                    data_path = \"../data/\",\n",
    "                    offline = True,\n",
    "                    environment  = \"local\",\n",
    "                    )\n",
    "\n",
    "def make_fake_message(i, start):\n",
    "    times = pd.date_range(start=start, end=start + timedelta(hours = 1, minutes = 59), \n",
    "                          freq = \"30min\", tz = timezone.utc)\n",
    "    return TabularMessage(\n",
    "        metadata=MetaData(state='foo',\n",
    "            source='meteotracker',\n",
    "            observation_variable = \"bar\",\n",
    "                         \n",
    "        ),\n",
    "        data = pd.DataFrame(dict(\n",
    "            time = times,\n",
    "            data = [i for _ in times],\n",
    "            \n",
    "        ))\n",
    "    )\n",
    "\n",
    "agg = actions[3]\n",
    "for i, start_time in enumerate(pd.date_range(start=dt(2024, 1, 1, 0), end=dt(2024, 1, 3, 0),\n",
    "                                    freq = \"1h\", tz = timezone.utc)):\n",
    "\n",
    "    print(f\"Putting in message with {start_time = }\")\n",
    "    for m in agg.process(make_fake_message(i, start_time, )):\n",
    "        print(\"Time agg emitted\", m, m.data)"
   ]
  }
 ],
 "metadata": {
  "kernelspec": {
   "display_name": "Python 3",
   "language": "python",
   "name": "python3"
  },
  "language_info": {
   "codemirror_mode": {
    "name": "ipython",
    "version": 3
   },
   "file_extension": ".py",
   "mimetype": "text/x-python",
   "name": "python",
   "nbconvert_exporter": "python",
   "pygments_lexer": "ipython3",
   "version": "3.11.0"
  }
 },
 "nbformat": 4,
 "nbformat_minor": 5
}
