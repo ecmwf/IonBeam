{
 "cells": [
  {
   "cell_type": "code",
   "execution_count": null,
   "id": "0d4704af-9317-4423-9f1e-76d88923a44e",
   "metadata": {},
   "outputs": [],
   "source": [
    "# Allows code to live reload\n",
    "%load_ext autoreload\n",
    "%autoreload 2"
   ]
  },
  {
   "cell_type": "markdown",
   "id": "3e5bac3b-8d69-4574-b277-917788ff7978",
   "metadata": {},
   "source": [
    "## 1. Install\n",
    "```sh\n",
    "# Install prerequisites\n",
    "pip install pyodc\n",
    "\n",
    "```\n",
    "\n",
    "## 2. Make an ECMWF account\n",
    "- Go to ecmwf.int/, click login at the top right and click register to make a new account.\n",
    "- Once logged in, go to api.ecmwf.int/v1/key/ to get your key. \n",
    "- Put it in `~/.ecmwfapirc` as directed."
   ]
  },
  {
   "cell_type": "code",
   "execution_count": null,
   "id": "b2b19d13-8fda-4f78-bf52-92714cb3d018",
   "metadata": {},
   "outputs": [],
   "source": [
    "# Load in the ECMWF token \n",
    "from pathlib import Path\n",
    "import json\n",
    "import requests\n",
    "from IPython.display import JSON, display\n",
    "from datetime import datetime as dt\n",
    "from datetime import timedelta, timezone\n",
    "import pandas as pd\n",
    "import numpy as np\n",
    "from matplotlib import pyplot as plt\n",
    "\n",
    "with open(Path(\"~/.ecmwfapirc\").expanduser(), \"r\") as f:\n",
    "    api_creds = json.load(f)\n",
    "\n",
    "print(\"Checking API credentials\")\n",
    "r = requests.get(f\"https://api.ecmwf.int/v1/who-am-i?token={api_creds['key']}\")\n",
    "if r.status_code == 403: print(\"Your credentials are either wrong or need to be renewed at https://api.ecmwf.int/v1/key/\")\n",
    "r.raise_for_status()\n",
    "JSON(r.json())"
   ]
  },
  {
   "cell_type": "code",
   "execution_count": null,
   "id": "6f8a3a63-89b6-4b57-997a-517a6341bb54",
   "metadata": {},
   "outputs": [],
   "source": [
    "session = requests.Session()\n",
    "session.headers[\"Authorization\"] = f\"Bearer {api_creds['key']}\""
   ]
  },
  {
   "cell_type": "markdown",
   "id": "6dbace9e-7edc-4f5a-b534-db82cc024aba",
   "metadata": {},
   "source": [
    "# API Endpoint\n",
    "\n",
    "Documentation http://ionbeam-ichange.ecmwf-ichange.f.ewcloud.host/docs"
   ]
  },
  {
   "cell_type": "code",
   "execution_count": null,
   "id": "0fa9bc9a-3415-4dad-a3e6-15ff80dc586f",
   "metadata": {},
   "outputs": [],
   "source": [
    "# url = \"http://ionbeam-ichange.ecmwf-ichange.f.ewcloud.host/api/v1/\"\n",
    "url = \"http://localhost:5002/api/v1/\""
   ]
  },
  {
   "cell_type": "markdown",
   "id": "83d64a72-fc08-4a5b-a5dd-ce43f0e37ded",
   "metadata": {},
   "source": [
    "### Get all stations"
   ]
  },
  {
   "cell_type": "code",
   "execution_count": null,
   "id": "8b049f92-23c8-4911-9cbf-4fe1ea4b2d64",
   "metadata": {},
   "outputs": [],
   "source": [
    "%%time\n",
    "from datetime import datetime\n",
    "\n",
    "stations = session.get(url + \"stations\", params = dict(platform = \"smart_citizen_kit\")).json()\n",
    "print(f\"{len(stations) = }\")"
   ]
  },
  {
   "cell_type": "code",
   "execution_count": null,
   "id": "bc5850bc-79ff-46b3-8e8d-afbd431ffb0c",
   "metadata": {},
   "outputs": [],
   "source": [
    "stations[0]"
   ]
  },
  {
   "cell_type": "markdown",
   "id": "da5d5d83-8121-42d8-9c84-58d2e5274a5f",
   "metadata": {},
   "source": [
    "### Get stations with recent data"
   ]
  },
  {
   "cell_type": "code",
   "execution_count": null,
   "id": "d45aa456-2249-486f-8e0c-666c683ff6cc",
   "metadata": {},
   "outputs": [],
   "source": [
    "%%time\n",
    "from datetime import datetime, timedelta, UTC\n",
    "\n",
    "recent_stations = session.get(url + \"stations\", params = {\n",
    "    \"start_time\" : datetime.now(UTC) - timedelta(hours = 3) \n",
    "}).json()\n",
    "print(f\"data ingested in last hour: {len(recent_stations) = }\")"
   ]
  },
  {
   "cell_type": "code",
   "execution_count": null,
   "id": "f2c3feda-a862-4dc0-bfd5-2788eb69de95",
   "metadata": {},
   "outputs": [],
   "source": [
    "granules = session.get(url + \"list\").json()\n",
    "print(f\"{len(granules) = }\")"
   ]
  },
  {
   "cell_type": "code",
   "execution_count": null,
   "id": "ecd92abd-4176-41b1-83ea-65224334150c",
   "metadata": {},
   "outputs": [],
   "source": [
    "from collections import Counter\n",
    "types = Counter(s[\"platform\"] for s in stations)\n",
    "types"
   ]
  },
  {
   "cell_type": "code",
   "execution_count": null,
   "id": "bea6fd65-89ad-450d-84b5-2ff469f457d3",
   "metadata": {},
   "outputs": [],
   "source": [
    "from collections import defaultdict\n",
    "by_platform = defaultdict(list)\n",
    "for s in stations:\n",
    "    by_platform[s[\"platform\"]].append(s)\n",
    "\n",
    "print(\"Most recently updated entry from each platform\\n\")\n",
    "for platform, platform_stations in by_platform.items():\n",
    "    if len(platform_stations) == 0: continue\n",
    "    print(platform)\n",
    "    print(json.dumps(\n",
    "        sorted(platform_stations, key = lambda s : datetime.fromisoformat(s[\"time_span\"][\"end\"]) )[-1],\n",
    "    indent = 4))"
   ]
  },
  {
   "cell_type": "markdown",
   "id": "0e26cf78-5d73-4dd6-bc93-d41fcad74e8c",
   "metadata": {},
   "source": [
    "## Obtain Stream data (Acronet, Smart Citizen Kit)\n",
    "\n",
    "For the meteotracker data, each track is stored in a single data file. For continuous streams of data like the acronet stations, it is stored in 5 minute granules."
   ]
  },
  {
   "cell_type": "markdown",
   "id": "bccb2998-b84d-4aa1-94c2-0259fada49ac",
   "metadata": {},
   "source": [
    "### Plot all Acronet stations in red and Smart Citizenkit in blue"
   ]
  },
  {
   "cell_type": "code",
   "execution_count": null,
   "id": "db5debb6-1d97-488a-ab38-e96cae85ef73",
   "metadata": {},
   "outputs": [],
   "source": [
    "import folium\n",
    "\n",
    "map = folium.Map(location=[44.226414, 9.532785], zoom_start=7)\n",
    "\n",
    "for station in by_platform[\"acronet\"]:\n",
    "    p = station[\"location\"]\n",
    "    folium.CircleMarker(\n",
    "        location=(station[\"location\"][\"lat\"], station[\"location\"][\"lon\"]),\n",
    "        popup = station,\n",
    "        radius=5, fill_color=\"orange\", fill_opacity=0.4, color=\"black\", weight=1,\n",
    "    ).add_to(map)\n",
    "\n",
    "\n",
    "for station in by_platform[\"smart_citizen_kit\"]:\n",
    "    folium.CircleMarker(\n",
    "        location=(station[\"location\"][\"lat\"], station[\"location\"][\"lon\"]),\n",
    "        popup = station,\n",
    "        radius=5, fill_color=\"blue\", fill_opacity=0.4, color=\"black\", weight=1,\n",
    "    ).add_to(map)\n",
    "map"
   ]
  },
  {
   "cell_type": "code",
   "execution_count": null,
   "id": "49ea7556-4fc1-4554-b1b8-bd52e11551b0",
   "metadata": {},
   "outputs": [],
   "source": [
    "[station[\"name\"] for station in by_platform[\"acronet\"]][:10] + [f\"... {len(by_platform[\"acronet\"])} in total\"]"
   ]
  },
  {
   "cell_type": "code",
   "execution_count": null,
   "id": "31b13eaf-05f5-4f87-b205-ca4d79c38883",
   "metadata": {},
   "outputs": [],
   "source": [
    "from random import choice\n",
    "\n",
    "example_station = choice(recent_stations)\n",
    "example_station"
   ]
  },
  {
   "cell_type": "markdown",
   "id": "b83a2a6d-8b9e-43e5-aa23-b98632fd6398",
   "metadata": {},
   "source": [
    "### Data granules corresponging to an acronet station"
   ]
  },
  {
   "cell_type": "code",
   "execution_count": null,
   "id": "07d4caf1-4745-41f0-8ebb-a21604e4360e",
   "metadata": {},
   "outputs": [],
   "source": [
    "data_granules = session.get(url + \"list\", params = example_station[\"mars_request\"]).json()\n",
    "datetimes = [(g[\"mars_request\"][\"date\"], g[\"mars_request\"][\"time\"]) for g in data_granules]\n",
    "assert len(datetimes) == len(set(datetimes))\n",
    "datetimes"
   ]
  },
  {
   "cell_type": "code",
   "execution_count": null,
   "id": "8b8ac507-bf5e-4ad8-8dfa-6eea1ddfe731",
   "metadata": {},
   "outputs": [],
   "source": [
    "import folium\n",
    "p = (example_station[\"location\"][\"lat\"], example_station[\"location\"][\"lon\"])\n",
    "map = folium.Map(location=p, zoom_start=13)\n",
    "\n",
    "# Add the point as a marker\n",
    "folium.Marker(\n",
    "    location=p,\n",
    "    popup = example_station,\n",
    ").add_to(map)\n",
    "map"
   ]
  },
  {
   "cell_type": "markdown",
   "id": "cd2970a9-12e0-4f35-9a49-72ce9e8a7dad",
   "metadata": {},
   "source": [
    "Giving the \"mars_request\" to the `list` endpoint gives the list of data granules available from the list endpoint. For the acronet data and other continuous streams, there is an additional key \"time\" which gives the begining of the interval in the format HHMM\n",
    "\n",
    "In the MARS system one needs to deal with these separate `date` and `time` fields but for convenience two special arguments are added to the API: `start_time` and `end_time`, these ISO formatted fields will be used to return data granules within the defined temporal region.\n",
    "\n",
    "* If `start_time` or `end_time` are supplied, `date` and `time` are ignored. \n",
    "* If `start_time` or `end_time` fall within the boundary of a data chunk, the whole chunk will be returned.\n",
    "* If only one of `start_time` or `end_time` are supplied, the other is ignored.\n",
    "  \n",
    "* If neither `start_time` nor `end_time` are supplied, `date` and `time` will be used following the typical MARS language.\n",
    "\n",
    "The `list` endpoint is not necessary, but can be useful to retrieve the available chunks for a mars request. The arguments to `list` and `retrieve` are the same, list returns what data granules exist and `retrieve` returns the data granules concatenated together."
   ]
  },
  {
   "cell_type": "markdown",
   "id": "803179ea-13a1-46ba-a837-f630b70f4479",
   "metadata": {},
   "source": [
    "### Getting data for an acronet station"
   ]
  },
  {
   "cell_type": "code",
   "execution_count": null,
   "id": "d7e966d7-ba6f-4c0a-8232-8a6603d24f3d",
   "metadata": {},
   "outputs": [],
   "source": [
    "example_station[\"mars_request\"]"
   ]
  },
  {
   "cell_type": "code",
   "execution_count": null,
   "id": "17d35a2d-f06a-4ee2-87f8-a031116cabea",
   "metadata": {},
   "outputs": [],
   "source": [
    "from io import BytesIO\n",
    "example_station = by_platform[\"acronet\"][-1]\n",
    "now = datetime.now(UTC)\n",
    "args = {\n",
    "    \"start_time\" : (now - timedelta(hours = 5)).isoformat(),\n",
    "    \"end_time\": (now - timedelta(hours = 0)).isoformat(),\n",
    "}\n",
    "\n",
    "granules = session.get(url + \"list\", params = example_station[\"mars_request\"] | args).json()\n",
    "data = session.get(url + \"retrieve\", params = example_station[\"mars_request\"] | args | dict(format = \"csv\"))\n",
    "\n",
    "if not data.ok:\n",
    "    print(\"error: \", data.json())\n",
    "else:\n",
    "    df = pd.read_csv(BytesIO(data.content))\n",
    "    df"
   ]
  },
  {
   "cell_type": "code",
   "execution_count": null,
   "id": "d3d3ec10-d12d-430c-aa27-bcc7f27f5853",
   "metadata": {},
   "outputs": [],
   "source": [
    "df.columns"
   ]
  },
  {
   "cell_type": "code",
   "execution_count": null,
   "id": "9b357460-cb4e-4e16-b00b-f6e29b710077",
   "metadata": {},
   "outputs": [],
   "source": [
    "set(g[\"mars_request\"][\"internal_id\"] for g in granules)\n",
    "granules[-3:]"
   ]
  },
  {
   "cell_type": "markdown",
   "id": "701ead61-7b2c-4c22-8720-75d29947953c",
   "metadata": {},
   "source": [
    "### Plot showing data granule boundaries and station time span along with data\n",
    "\n",
    "Any missing granules will show up as white areas\n",
    "\n",
    "- Green vertical lines: data granule boundaries\n",
    "- Green shaded: places we have data\n",
    "- Black vertical lines: Station time span\n",
    "- Red vertical lines: User timespan request"
   ]
  },
  {
   "cell_type": "code",
   "execution_count": null,
   "id": "76a1331a-e05d-4ef7-ab30-338472622f32",
   "metadata": {},
   "outputs": [],
   "source": [
    "show_granule_boundaries = True\n",
    "\n",
    "df[\"datetime\"] = pd.to_datetime(df[\"datetime\"])\n",
    "\n",
    "ys_to_plot = df.select_dtypes(include='number').columns\n",
    "\n",
    "axes = df.plot(\n",
    "    x = \"datetime\",\n",
    "    y = ys_to_plot,\n",
    "    subplots=True, layout=(len(ys_to_plot), 1), figsize=(8, 1*len(ys_to_plot)), sharex=True, rot=90)\n",
    "\n",
    "for ax in axes[:, 0]:\n",
    "    if show_granule_boundaries:\n",
    "        for g in granules:\n",
    "            date, time = g[\"mars_request\"][\"date\"], g[\"mars_request\"][\"time\"]\n",
    "            dt = datetime.strptime(date + time, \"%Y%m%d%H%M\")\n",
    "            dt2 = dt + timedelta(minutes = 60)\n",
    "            ax.axvline(dt, linestyle = \"dotted\", color = \"green\")\n",
    "            ax.axvline(dt2, linestyle = \"dotted\", color = \"green\")\n",
    "            ax.axvspan(dt, dt2, alpha = 0.1, color = \"green\")\n",
    "\n",
    "    ax.axvline(datetime.now(UTC), linestyle = \"dotted\", color = \"black\")\n",
    "\n",
    "    # for d in example_station[\"time_span\"].values():\n",
    "    #     ax.axvline(datetime.fromisoformat(d), linestyle = \"dotted\", color = \"black\")\n",
    "\n",
    "    # ax.axvline(args[\"start_time\"], linestyle = \"dotted\", color = \"red\")\n",
    "    # ax.axvline(args[\"end_time\"], linestyle = \"dotted\", color = \"red\")\n",
    "    \n",
    "\n",
    "\n",
    "\n",
    "plt.tight_layout()"
   ]
  },
  {
   "cell_type": "code",
   "execution_count": null,
   "id": "b8f825fa-5b0d-4368-a4d8-ce81f8c67e9d",
   "metadata": {},
   "outputs": [],
   "source": []
  },
  {
   "cell_type": "code",
   "execution_count": null,
   "id": "27f8fd58-fa92-4450-819b-bf16fbf9dd9c",
   "metadata": {},
   "outputs": [],
   "source": []
  },
  {
   "cell_type": "code",
   "execution_count": null,
   "id": "fd73d686-f1c1-4388-a659-e7e8d5e0f49d",
   "metadata": {},
   "outputs": [],
   "source": []
  }
 ],
 "metadata": {
  "kernelspec": {
   "display_name": "Python [conda env:micromamba-ionbeam]",
   "language": "python",
   "name": "conda-env-micromamba-ionbeam-py"
  },
  "language_info": {
   "codemirror_mode": {
    "name": "ipython",
    "version": 3
   },
   "file_extension": ".py",
   "mimetype": "text/x-python",
   "name": "python",
   "nbconvert_exporter": "python",
   "pygments_lexer": "ipython3",
   "version": "3.12.7"
  }
 },
 "nbformat": 4,
 "nbformat_minor": 5
}
