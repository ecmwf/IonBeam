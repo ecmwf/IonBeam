{
 "cells": [
  {
   "cell_type": "code",
   "execution_count": 65,
   "id": "d6f97586-787e-412d-97d6-16522ad582d5",
   "metadata": {},
   "outputs": [],
   "source": [
    "import requests\n",
    "from datetime import datetime, timedelta, UTC\n",
    "import pandas as pd\n",
    "from io import BytesIO\n",
    "import json\n",
    "from collections import defaultdict\n",
    "\n",
    "session = requests.Session()\n",
    "url = \"http://ionbeam-ichange.ecmwf-ichange.f.ewcloud.host/api/v1/\"\n",
    "url = \"http://localhost:5002/api/v1/\"\n",
    "\n",
    "def api_get(path, *args, **kwargs):\n",
    "    r = session.get(url + path, *args, **kwargs)\n",
    "    if not r.ok:\n",
    "        print(f\"API Error\")\n",
    "        print(json.dumps(r.json(), indent = 4))\n",
    "    return r"
   ]
  },
  {
   "cell_type": "code",
   "execution_count": 66,
   "id": "54c84654-b6ef-42a0-bc96-d8648b82cfb1",
   "metadata": {},
   "outputs": [
    {
     "name": "stdout",
     "output_type": "stream",
     "text": [
      "API Error\n"
     ]
    },
    {
     "ename": "JSONDecodeError",
     "evalue": "Expecting value: line 1 column 1 (char 0)",
     "output_type": "error",
     "traceback": [
      "\u001b[0;31m---------------------------------------------------------------------------\u001b[0m",
      "\u001b[0;31mJSONDecodeError\u001b[0m                           Traceback (most recent call last)",
      "File \u001b[0;32m~/micromamba/envs/ionbeam/lib/python3.12/site-packages/requests/models.py:974\u001b[0m, in \u001b[0;36mResponse.json\u001b[0;34m(self, **kwargs)\u001b[0m\n\u001b[1;32m    973\u001b[0m \u001b[38;5;28;01mtry\u001b[39;00m:\n\u001b[0;32m--> 974\u001b[0m     \u001b[38;5;28;01mreturn\u001b[39;00m \u001b[43mcomplexjson\u001b[49m\u001b[38;5;241;43m.\u001b[39;49m\u001b[43mloads\u001b[49m\u001b[43m(\u001b[49m\u001b[38;5;28;43mself\u001b[39;49m\u001b[38;5;241;43m.\u001b[39;49m\u001b[43mtext\u001b[49m\u001b[43m,\u001b[49m\u001b[43m \u001b[49m\u001b[38;5;241;43m*\u001b[39;49m\u001b[38;5;241;43m*\u001b[39;49m\u001b[43mkwargs\u001b[49m\u001b[43m)\u001b[49m\n\u001b[1;32m    975\u001b[0m \u001b[38;5;28;01mexcept\u001b[39;00m JSONDecodeError \u001b[38;5;28;01mas\u001b[39;00m e:\n\u001b[1;32m    976\u001b[0m     \u001b[38;5;66;03m# Catch JSON-related errors and raise as requests.JSONDecodeError\u001b[39;00m\n\u001b[1;32m    977\u001b[0m     \u001b[38;5;66;03m# This aliases json.JSONDecodeError and simplejson.JSONDecodeError\u001b[39;00m\n",
      "File \u001b[0;32m~/micromamba/envs/ionbeam/lib/python3.12/json/__init__.py:346\u001b[0m, in \u001b[0;36mloads\u001b[0;34m(s, cls, object_hook, parse_float, parse_int, parse_constant, object_pairs_hook, **kw)\u001b[0m\n\u001b[1;32m    343\u001b[0m \u001b[38;5;28;01mif\u001b[39;00m (\u001b[38;5;28mcls\u001b[39m \u001b[38;5;129;01mis\u001b[39;00m \u001b[38;5;28;01mNone\u001b[39;00m \u001b[38;5;129;01mand\u001b[39;00m object_hook \u001b[38;5;129;01mis\u001b[39;00m \u001b[38;5;28;01mNone\u001b[39;00m \u001b[38;5;129;01mand\u001b[39;00m\n\u001b[1;32m    344\u001b[0m         parse_int \u001b[38;5;129;01mis\u001b[39;00m \u001b[38;5;28;01mNone\u001b[39;00m \u001b[38;5;129;01mand\u001b[39;00m parse_float \u001b[38;5;129;01mis\u001b[39;00m \u001b[38;5;28;01mNone\u001b[39;00m \u001b[38;5;129;01mand\u001b[39;00m\n\u001b[1;32m    345\u001b[0m         parse_constant \u001b[38;5;129;01mis\u001b[39;00m \u001b[38;5;28;01mNone\u001b[39;00m \u001b[38;5;129;01mand\u001b[39;00m object_pairs_hook \u001b[38;5;129;01mis\u001b[39;00m \u001b[38;5;28;01mNone\u001b[39;00m \u001b[38;5;129;01mand\u001b[39;00m \u001b[38;5;129;01mnot\u001b[39;00m kw):\n\u001b[0;32m--> 346\u001b[0m     \u001b[38;5;28;01mreturn\u001b[39;00m \u001b[43m_default_decoder\u001b[49m\u001b[38;5;241;43m.\u001b[39;49m\u001b[43mdecode\u001b[49m\u001b[43m(\u001b[49m\u001b[43ms\u001b[49m\u001b[43m)\u001b[49m\n\u001b[1;32m    347\u001b[0m \u001b[38;5;28;01mif\u001b[39;00m \u001b[38;5;28mcls\u001b[39m \u001b[38;5;129;01mis\u001b[39;00m \u001b[38;5;28;01mNone\u001b[39;00m:\n",
      "File \u001b[0;32m~/micromamba/envs/ionbeam/lib/python3.12/json/decoder.py:337\u001b[0m, in \u001b[0;36mJSONDecoder.decode\u001b[0;34m(self, s, _w)\u001b[0m\n\u001b[1;32m    333\u001b[0m \u001b[38;5;250m\u001b[39m\u001b[38;5;124;03m\"\"\"Return the Python representation of ``s`` (a ``str`` instance\u001b[39;00m\n\u001b[1;32m    334\u001b[0m \u001b[38;5;124;03mcontaining a JSON document).\u001b[39;00m\n\u001b[1;32m    335\u001b[0m \n\u001b[1;32m    336\u001b[0m \u001b[38;5;124;03m\"\"\"\u001b[39;00m\n\u001b[0;32m--> 337\u001b[0m obj, end \u001b[38;5;241m=\u001b[39m \u001b[38;5;28;43mself\u001b[39;49m\u001b[38;5;241;43m.\u001b[39;49m\u001b[43mraw_decode\u001b[49m\u001b[43m(\u001b[49m\u001b[43ms\u001b[49m\u001b[43m,\u001b[49m\u001b[43m \u001b[49m\u001b[43midx\u001b[49m\u001b[38;5;241;43m=\u001b[39;49m\u001b[43m_w\u001b[49m\u001b[43m(\u001b[49m\u001b[43ms\u001b[49m\u001b[43m,\u001b[49m\u001b[43m \u001b[49m\u001b[38;5;241;43m0\u001b[39;49m\u001b[43m)\u001b[49m\u001b[38;5;241;43m.\u001b[39;49m\u001b[43mend\u001b[49m\u001b[43m(\u001b[49m\u001b[43m)\u001b[49m\u001b[43m)\u001b[49m\n\u001b[1;32m    338\u001b[0m end \u001b[38;5;241m=\u001b[39m _w(s, end)\u001b[38;5;241m.\u001b[39mend()\n",
      "File \u001b[0;32m~/micromamba/envs/ionbeam/lib/python3.12/json/decoder.py:355\u001b[0m, in \u001b[0;36mJSONDecoder.raw_decode\u001b[0;34m(self, s, idx)\u001b[0m\n\u001b[1;32m    354\u001b[0m \u001b[38;5;28;01mexcept\u001b[39;00m \u001b[38;5;167;01mStopIteration\u001b[39;00m \u001b[38;5;28;01mas\u001b[39;00m err:\n\u001b[0;32m--> 355\u001b[0m     \u001b[38;5;28;01mraise\u001b[39;00m JSONDecodeError(\u001b[38;5;124m\"\u001b[39m\u001b[38;5;124mExpecting value\u001b[39m\u001b[38;5;124m\"\u001b[39m, s, err\u001b[38;5;241m.\u001b[39mvalue) \u001b[38;5;28;01mfrom\u001b[39;00m \u001b[38;5;28;01mNone\u001b[39;00m\n\u001b[1;32m    356\u001b[0m \u001b[38;5;28;01mreturn\u001b[39;00m obj, end\n",
      "\u001b[0;31mJSONDecodeError\u001b[0m: Expecting value: line 1 column 1 (char 0)",
      "\nDuring handling of the above exception, another exception occurred:\n",
      "\u001b[0;31mJSONDecodeError\u001b[0m                           Traceback (most recent call last)",
      "Cell \u001b[0;32mIn[66], line 9\u001b[0m\n\u001b[1;32m      5\u001b[0m     \u001b[38;5;28;01mreturn\u001b[39;00m by_platform\n\u001b[1;32m      7\u001b[0m lookback \u001b[38;5;241m=\u001b[39m timedelta(hours \u001b[38;5;241m=\u001b[39m \u001b[38;5;241m5\u001b[39m) \n\u001b[0;32m----> 9\u001b[0m all_stations \u001b[38;5;241m=\u001b[39m \u001b[43mapi_get\u001b[49m\u001b[43m(\u001b[49m\u001b[38;5;124;43m\"\u001b[39;49m\u001b[38;5;124;43mstations\u001b[39;49m\u001b[38;5;124;43m\"\u001b[39;49m\u001b[43m,\u001b[49m\u001b[43m \u001b[49m\u001b[43mparams\u001b[49m\u001b[43m \u001b[49m\u001b[38;5;241;43m=\u001b[39;49m\u001b[43m \u001b[49m\u001b[43m{\u001b[49m\n\u001b[1;32m     10\u001b[0m \u001b[43m}\u001b[49m\u001b[43m)\u001b[49m\u001b[38;5;241m.\u001b[39mjson()\n\u001b[1;32m     12\u001b[0m recent_stations \u001b[38;5;241m=\u001b[39m api_get(\u001b[38;5;124m\"\u001b[39m\u001b[38;5;124mstations\u001b[39m\u001b[38;5;124m\"\u001b[39m, params \u001b[38;5;241m=\u001b[39m {\n\u001b[1;32m     13\u001b[0m     \u001b[38;5;124m\"\u001b[39m\u001b[38;5;124mstart_time\u001b[39m\u001b[38;5;124m\"\u001b[39m : datetime\u001b[38;5;241m.\u001b[39mnow(UTC) \u001b[38;5;241m-\u001b[39m lookback\n\u001b[1;32m     14\u001b[0m })\u001b[38;5;241m.\u001b[39mjson()\n\u001b[1;32m     16\u001b[0m \u001b[38;5;28mprint\u001b[39m(\u001b[38;5;124m\"\u001b[39m\u001b[38;5;124mAll stations\u001b[39m\u001b[38;5;124m\"\u001b[39m)\n",
      "Cell \u001b[0;32mIn[65], line 16\u001b[0m, in \u001b[0;36mapi_get\u001b[0;34m(path, *args, **kwargs)\u001b[0m\n\u001b[1;32m     14\u001b[0m \u001b[38;5;28;01mif\u001b[39;00m \u001b[38;5;129;01mnot\u001b[39;00m r\u001b[38;5;241m.\u001b[39mok:\n\u001b[1;32m     15\u001b[0m     \u001b[38;5;28mprint\u001b[39m(\u001b[38;5;124mf\u001b[39m\u001b[38;5;124m\"\u001b[39m\u001b[38;5;124mAPI Error\u001b[39m\u001b[38;5;124m\"\u001b[39m)\n\u001b[0;32m---> 16\u001b[0m     \u001b[38;5;28mprint\u001b[39m(json\u001b[38;5;241m.\u001b[39mdumps(\u001b[43mr\u001b[49m\u001b[38;5;241;43m.\u001b[39;49m\u001b[43mjson\u001b[49m\u001b[43m(\u001b[49m\u001b[43m)\u001b[49m, indent \u001b[38;5;241m=\u001b[39m \u001b[38;5;241m4\u001b[39m))\n\u001b[1;32m     17\u001b[0m \u001b[38;5;28;01mreturn\u001b[39;00m r\n",
      "File \u001b[0;32m~/micromamba/envs/ionbeam/lib/python3.12/site-packages/requests/models.py:978\u001b[0m, in \u001b[0;36mResponse.json\u001b[0;34m(self, **kwargs)\u001b[0m\n\u001b[1;32m    974\u001b[0m     \u001b[38;5;28;01mreturn\u001b[39;00m complexjson\u001b[38;5;241m.\u001b[39mloads(\u001b[38;5;28mself\u001b[39m\u001b[38;5;241m.\u001b[39mtext, \u001b[38;5;241m*\u001b[39m\u001b[38;5;241m*\u001b[39mkwargs)\n\u001b[1;32m    975\u001b[0m \u001b[38;5;28;01mexcept\u001b[39;00m JSONDecodeError \u001b[38;5;28;01mas\u001b[39;00m e:\n\u001b[1;32m    976\u001b[0m     \u001b[38;5;66;03m# Catch JSON-related errors and raise as requests.JSONDecodeError\u001b[39;00m\n\u001b[1;32m    977\u001b[0m     \u001b[38;5;66;03m# This aliases json.JSONDecodeError and simplejson.JSONDecodeError\u001b[39;00m\n\u001b[0;32m--> 978\u001b[0m     \u001b[38;5;28;01mraise\u001b[39;00m RequestsJSONDecodeError(e\u001b[38;5;241m.\u001b[39mmsg, e\u001b[38;5;241m.\u001b[39mdoc, e\u001b[38;5;241m.\u001b[39mpos)\n",
      "\u001b[0;31mJSONDecodeError\u001b[0m: Expecting value: line 1 column 1 (char 0)"
     ]
    }
   ],
   "source": [
    "def sort_by_platform(stations) -> dict[str, list[dict]]:\n",
    "    by_platform = defaultdict(list)\n",
    "    for s in stations:\n",
    "        by_platform[s[\"platform\"]].append(s)\n",
    "    return by_platform\n",
    "    \n",
    "lookback = timedelta(hours = 5) \n",
    "\n",
    "all_stations = api_get(\"stations\", params = {\n",
    "}).json()\n",
    "\n",
    "recent_stations = api_get(\"stations\", params = {\n",
    "    \"start_time\" : datetime.now(UTC) - lookback\n",
    "}).json()\n",
    "\n",
    "print(\"All stations\")\n",
    "all_by_platform = sort_by_platform(all_stations)\n",
    "print({k : len(v) for k, v in all_by_platform.items()})\n",
    "print()\n",
    "\n",
    "print(f\"Recent ({lookback})\")\n",
    "print({k : len(v) for k, v in sort_by_platform(recent_stations).items()})\n",
    "print()"
   ]
  },
  {
   "cell_type": "markdown",
   "id": "3a8c3711-3038-46e9-ac15-72520424f927",
   "metadata": {},
   "source": [
    "## Total Meteotracker datasets"
   ]
  },
  {
   "cell_type": "code",
   "execution_count": null,
   "id": "2fa65005-2cc8-42dd-8f88-799c9f8123fa",
   "metadata": {},
   "outputs": [],
   "source": [
    "all_by_platform['meteotracker'][-1]"
   ]
  },
  {
   "cell_type": "code",
   "execution_count": null,
   "id": "60b72758-6d03-4463-8292-4b339ab29919",
   "metadata": {},
   "outputs": [],
   "source": [
    "dates = [datetime.fromisoformat(s['time_span'][\"end\"]) for s in all_by_platform['meteotracker']]\n",
    "earliest, latest = min(dates), max(dates)\n",
    "print(f\"Meteotracker: {len(all_by_platform['meteotracker'])} tracks.\")\n",
    "print(f\"Earliest ingested data: {earliest}\")\n",
    "print(f\"Most recent ingested data: {latest}\")"
   ]
  },
  {
   "cell_type": "markdown",
   "id": "8b143b21-dcce-4fcd-a00d-e64194ddf064",
   "metadata": {},
   "source": [
    "## Total Acronet datasets"
   ]
  },
  {
   "cell_type": "code",
   "execution_count": null,
   "id": "1cf9cc3e-7f07-4779-9a1b-48ba577fd901",
   "metadata": {},
   "outputs": [],
   "source": [
    "def get_all_granules_by_platform(platform):\n",
    "    granules = api_get(\"list\", params = {'platform': platform}).json()\n",
    "    dates = [datetime.fromisoformat(d[\"datetime\"]) for d in granules]\n",
    "    print(set(g[\"mars_request\"][\"platform\"] for g in granules))\n",
    "    # assert all(g[\"mars_request\"][\"platform\"] == platform for g in granules)\n",
    "    return granules, dates\n",
    "\n",
    "acronet_granules, dates = get_all_granules_by_platform(platform = \"acronet\")\n",
    "earliest, latest = min(dates), max(dates)\n",
    "total_time = timedelta(minutes = 5) * len(acronet_granules)\n",
    "\n",
    "print(f\"Acronet: {len(all_by_platform['acronet'])} distinct stations.\")\n",
    "print(f\"Earliest ingested data: {earliest} Most recent ingested data: {latest}\")\n",
    "print(f\"Ingested data: {len(acronet_granules)} 5 minute acronet data granules.\")\n",
    "print(f\"Total time: {total_time}\")"
   ]
  },
  {
   "cell_type": "markdown",
   "id": "53ff462f-4327-49b5-80f6-2ea0788f18a1",
   "metadata": {},
   "source": [
    "## Total Smart Citizen Kit Datasets"
   ]
  },
  {
   "cell_type": "code",
   "execution_count": null,
   "id": "00569bfc-c818-4882-8c27-4ee081101d2f",
   "metadata": {},
   "outputs": [],
   "source": [
    "sck_granules, dates = get_all_granules_by_platform(platform = \"smart_citizen_kit\")\n",
    "earliest, latest = min(dates), max(dates)\n",
    "total_time = timedelta(minutes = 5) * len(sck_granules)\n",
    "\n",
    "print(f\"Smart Citizen Kit: {len(all_by_platform['smart_citizen_kit'])} distinct stations.\")\n",
    "print(f\"Earliest ingested data: {earliest} Most recent ingested data: {latest}\")\n",
    "print(f\"Ingested data: {len(sck_granules)} 5 minute sck data granules.\")\n",
    "print(f\"Total time: {total_time}\")"
   ]
  },
  {
   "cell_type": "markdown",
   "id": "608b97ac-2856-4bcb-bacf-4f1983fb8b12",
   "metadata": {},
   "source": [
    "## Retrieving chunked data for continuous data streams\n",
    "Acronet, Smart Citizen Kit"
   ]
  },
  {
   "cell_type": "code",
   "execution_count": null,
   "id": "ab269fe5-86ad-4baa-882e-d15034d67cc6",
   "metadata": {},
   "outputs": [],
   "source": [
    "def plot_example_station(station):\n",
    "    latest = datetime.fromisoformat(example_station[\"time_span\"][\"end\"])\n",
    "    print(f\"Latest data: {latest}\")\n",
    "    args = {\n",
    "        \"start_time\" : (latest - timedelta(hours = 12)).isoformat(),\n",
    "        \"end_time\": latest.isoformat(),\n",
    "    }\n",
    "    \n",
    "    data = api_get(\"retrieve\", params = example_station[\"mars_request\"] | args | dict(format = \"csv\"))\n",
    "    df = pd.read_csv(BytesIO(data.content))\n",
    "    \n",
    "    df[\"datetime\"] = pd.to_datetime(df[\"datetime\"])\n",
    "    exclude_columns = {\"external_id\", \"date\", \"lat\", \"lon\", \"altitude\"}\n",
    "    numeric_columns = [col for col, dtype in zip(df.columns, df.dtypes) \n",
    "                       if (dtype == \"float64\" or dtype == \"int64\")\n",
    "                       and col not in exclude_columns]\n",
    "    \n",
    "    axes = df.plot(\n",
    "        x = \"datetime\",\n",
    "        y = numeric_columns,\n",
    "        subplots=True, layout=(len(numeric_columns), 1), figsize=(8, 2*len(numeric_columns)), sharex=True, rot=90)\n",
    "\n",
    "example_station = all_by_platform[\"acronet\"][-1]\n",
    "plot_example_station(example_station)"
   ]
  },
  {
   "cell_type": "markdown",
   "id": "91a7f4b5-c84b-4629-80af-54ae02ec7f48",
   "metadata": {},
   "source": [
    "## Retrieve and plot a Meteotracker track"
   ]
  },
  {
   "cell_type": "code",
   "execution_count": null,
   "id": "6c706fa9-1d78-4c56-867e-d6b9844bbafc",
   "metadata": {},
   "outputs": [],
   "source": [
    "example_station = all_by_platform[\"meteotracker\"][-1]\n",
    "\n",
    "print(json.dumps(example_station[\"mars_request\"], indent = 4))\n",
    "granule_list = api_get(\"list\", params = example_station[\"mars_request\"]).json()\n",
    "\n",
    "print(f\"The above MARS request matches {len(granule_list)} data granule(s).\")\n",
    "\n",
    "# Sanity check\n",
    "assert len(granule_list) == 1\n",
    "\n",
    "args = {\n",
    "    \"format\" : \"json\"\n",
    "}"
   ]
  },
  {
   "cell_type": "code",
   "execution_count": null,
   "id": "0d5aec29-b848-422f-8f52-7346479b8ec7",
   "metadata": {},
   "outputs": [],
   "source": [
    "data = api_get(\"retrieve\", params = example_station[\"mars_request\"] | args)\n",
    "df = pd.DataFrame.from_records(data.json())\n",
    "df[\"datetime\"] = pd.to_datetime(df[\"datetime\"])\n",
    "\n",
    "exclude_columns = {\"external_id\", \"date\", \"lat\", \"lon\", \"altitude\"}\n",
    "numeric_columns = [col for col, dtype in zip(df.columns, df.dtypes) \n",
    "                   if (dtype == \"float64\" or dtype == \"int64\")\n",
    "                   and col not in exclude_columns]\n",
    "\n",
    "axes = df.plot(\n",
    "    x = \"datetime\",\n",
    "    y = numeric_columns,\n",
    "    subplots=True, layout=(len(numeric_columns), 1), figsize=(8, 2*len(numeric_columns)), sharex=True, rot=90)\n"
   ]
  },
  {
   "cell_type": "code",
   "execution_count": null,
   "id": "b1a4cc20-9a51-46df-9e09-4bc5735acb9c",
   "metadata": {},
   "outputs": [],
   "source": [
    "import geopandas as gpd\n",
    "geo_df = gpd.GeoDataFrame(df, geometry=gpd.points_from_xy(df.lon, df.lat), crs=4326)\n",
    "geo_df.explore(column = \"altitude\")"
   ]
  },
  {
   "cell_type": "code",
   "execution_count": null,
   "id": "b0355750-89fe-4ce1-8b9e-35bf6215d11b",
   "metadata": {},
   "outputs": [],
   "source": []
  }
 ],
 "metadata": {
  "kernelspec": {
   "display_name": "Python [conda env:micromamba-ionbeam]",
   "language": "python",
   "name": "conda-env-micromamba-ionbeam-py"
  },
  "language_info": {
   "codemirror_mode": {
    "name": "ipython",
    "version": 3
   },
   "file_extension": ".py",
   "mimetype": "text/x-python",
   "name": "python",
   "nbconvert_exporter": "python",
   "pygments_lexer": "ipython3",
   "version": "3.12.7"
  }
 },
 "nbformat": 4,
 "nbformat_minor": 5
}
