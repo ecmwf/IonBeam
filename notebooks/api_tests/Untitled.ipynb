{
 "cells": [
  {
   "cell_type": "code",
   "execution_count": 1,
   "id": "6e5a253c-7ba6-4357-b1f9-6965bdc6b073",
   "metadata": {},
   "outputs": [],
   "source": [
    "from dataclasses import *\n",
    "\n",
    "@dataclass\n",
    "class test:\n",
    "    one: int\n",
    "    two: int = field(init = False)\n",
    "\n",
    "t = test(1)"
   ]
  },
  {
   "cell_type": "code",
   "execution_count": 4,
   "id": "c2d11e0b-1642-494a-9563-90f2558b41cf",
   "metadata": {},
   "outputs": [
    {
     "name": "stdout",
     "output_type": "stream",
     "text": [
      "True\n",
      "False\n"
     ]
    }
   ],
   "source": [
    "for f in fields(t):\n",
    "    print(f.init)"
   ]
  },
  {
   "cell_type": "code",
   "execution_count": 9,
   "id": "16dab192-99f6-4923-84f7-c811e5e58860",
   "metadata": {},
   "outputs": [
    {
     "name": "stdout",
     "output_type": "stream",
     "text": [
      "<class 'pandas.core.frame.DataFrame'>\n",
      "RangeIndex: 3 entries, 0 to 2\n",
      "Data columns (total 1 columns):\n",
      " #   Column  Non-Null Count  Dtype \n",
      "---  ------  --------------  ----- \n",
      " 0   a       3 non-null      string\n",
      "dtypes: string(1)\n",
      "memory usage: 156.0 bytes\n"
     ]
    }
   ],
   "source": [
    "import pandas as pd\n",
    "\n",
    "df = pd.DataFrame(dict(\n",
    "    a = [\"1\", \"2\", \"3\"]\n",
    "))\n",
    "\n",
    "df.a = df.a.astype(\"string\")\n",
    "\n",
    "df.info()"
   ]
  },
  {
   "cell_type": "code",
   "execution_count": null,
   "id": "f878456a-6196-4931-a1cf-f2d05ed698eb",
   "metadata": {},
   "outputs": [],
   "source": []
  }
 ],
 "metadata": {
  "kernelspec": {
   "display_name": "Python 3 (ipykernel)",
   "language": "python",
   "name": "python3"
  },
  "language_info": {
   "codemirror_mode": {
    "name": "ipython",
    "version": 3
   },
   "file_extension": ".py",
   "mimetype": "text/x-python",
   "name": "python",
   "nbconvert_exporter": "python",
   "pygments_lexer": "ipython3",
   "version": "3.11.4"
  }
 },
 "nbformat": 4,
 "nbformat_minor": 5
}
